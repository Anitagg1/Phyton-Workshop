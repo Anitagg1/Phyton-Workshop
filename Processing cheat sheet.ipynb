{
  "nbformat": 4,
  "nbformat_minor": 0,
  "metadata": {
    "colab": {
      "name": "Untitled0.ipynb",
      "provenance": [],
      "authorship_tag": "ABX9TyNYUJX/mHrDWlF+nmzM7fJ0",
      "include_colab_link": true
    },
    "kernelspec": {
      "name": "python3",
      "display_name": "Python 3"
    }
  },
  "cells": [
    {
      "cell_type": "markdown",
      "metadata": {
        "id": "view-in-github",
        "colab_type": "text"
      },
      "source": [
        "<a href=\"https://colab.research.google.com/github/Anitagg1/Phyton-Workshop/blob/main/Processing%20cheat%20sheet.ipynb\" target=\"_parent\"><img src=\"https://colab.research.google.com/assets/colab-badge.svg\" alt=\"Open In Colab\"/></a>"
      ]
    },
    {
      "cell_type": "code",
      "metadata": {
        "id": "IIs0vgssgMC9"
      },
      "source": [
        "import pandas as pd\n",
        "import numpy as np\n",
        "\n",
        "red_wine = pd.read_csv('https://archive.ics.uci.edu/ml/machine-learning-databases/wine-quality/winequality-red.csv', sep = ';')\n",
        "red_wine['wine_type'] = 'red'\n",
        "red_wine['quality_label'] = red_wine['quality'].apply(lambda value: 'low'\n",
        "if value <= 5 else 'medium'\n",
        "if value <= 7 else 'high')\n",
        "red_wine['quality_label'] = pd.Categorical(red_wine['quality_label'],\n",
        "categories=['low', 'medium', 'high'])\n",
        "\n",
        "white_wine = pd.read_csv('https://archive.ics.uci.edu/ml/machine-learning-databases/wine-quality/winequality-white.csv', sep = ';')\n",
        "white_wine['wine_type'] = 'white'\n",
        "white_wine['quality_label'] = white_wine['quality'].apply(lambda value: 'low'\n",
        "if value <= 5 else 'medium'\n",
        "if value <= 7 else 'high')\n",
        "white_wine['quality_label'] = pd.Categorical(white_wine['quality_label'],\n",
        "categories=['low', 'medium', 'high'])\n",
        "\n",
        "wines = pd.concat([red_wine, white_wine])"
      ],
      "execution_count": 21,
      "outputs": []
    },
    {
      "cell_type": "code",
      "metadata": {
        "id": "71zzXiA6gM6q"
      },
      "source": [
        "## I want to find out the co-relation between 1 independent variable and other dependent vairables.\n",
        "# in this case, it will be the independt variable \"quality\" and the dependent variables -ingredients-.\n",
        "# there are columns that don't belong to the ingredients classification, which should be taken out of the analysis. Ex, wine type, wine quality\n",
        "\n",
        "\n",
        "## STEP 1\n",
        "#cleaning data, finding missing values, n/a, and  dropping columns\n",
        "# droping columns:\n",
        "\n",
        "wines = wines.drop(columns=['quality_label', 'wine_type'])\n"
      ],
      "execution_count": 23,
      "outputs": []
    },
    {
      "cell_type": "code",
      "metadata": {
        "colab": {
          "base_uri": "https://localhost:8080/"
        },
        "id": "VMhA9EjigolW",
        "outputId": "6d19212c-e7bf-41ef-9fca-8f8c55ec213a"
      },
      "source": [
        "#STEP 2\n",
        "# now it is the time to check the data type from the dataframe\n",
        "# the independent variable should be a category.\n",
        "# df.name_of_column = df.name_of_column.astype('category')\n",
        "\n",
        "wines.dtypes"
      ],
      "execution_count": 24,
      "outputs": [
        {
          "output_type": "execute_result",
          "data": {
            "text/plain": [
              "fixed acidity           float64\n",
              "volatile acidity        float64\n",
              "citric acid             float64\n",
              "residual sugar          float64\n",
              "chlorides               float64\n",
              "free sulfur dioxide     float64\n",
              "total sulfur dioxide    float64\n",
              "density                 float64\n",
              "pH                      float64\n",
              "sulphates               float64\n",
              "alcohol                 float64\n",
              "quality                   int64\n",
              "dtype: object"
            ]
          },
          "metadata": {
            "tags": []
          },
          "execution_count": 24
        }
      ]
    },
    {
      "cell_type": "code",
      "metadata": {
        "colab": {
          "base_uri": "https://localhost:8080/"
        },
        "id": "BkKcS_mZjVce",
        "outputId": "c1b0a9e7-359f-44ee-c84b-9404fda3443f"
      },
      "source": [
        "wines.quality = wines.quality.astype('category')\n",
        "wines.dtypes"
      ],
      "execution_count": 25,
      "outputs": [
        {
          "output_type": "execute_result",
          "data": {
            "text/plain": [
              "fixed acidity            float64\n",
              "volatile acidity         float64\n",
              "citric acid              float64\n",
              "residual sugar           float64\n",
              "chlorides                float64\n",
              "free sulfur dioxide      float64\n",
              "total sulfur dioxide     float64\n",
              "density                  float64\n",
              "pH                       float64\n",
              "sulphates                float64\n",
              "alcohol                  float64\n",
              "quality                 category\n",
              "dtype: object"
            ]
          },
          "metadata": {
            "tags": []
          },
          "execution_count": 25
        }
      ]
    },
    {
      "cell_type": "code",
      "metadata": {
        "id": "sAFCdDS4gzVI"
      },
      "source": [
        "#STEP 3\n",
        "# defining X and Y. Usually the independt variable is Y, and the dependent ones are X\n",
        "# make sure to take from X the varible that belongs to Y "
      ],
      "execution_count": 6,
      "outputs": []
    },
    {
      "cell_type": "code",
      "metadata": {
        "id": "qbDkfbH4iWxG"
      },
      "source": [
        "X = wines.drop(columns=['quality'])\n",
        "y = wines['quality']"
      ],
      "execution_count": 27,
      "outputs": []
    },
    {
      "cell_type": "code",
      "metadata": {
        "id": "hvIkI9JFi1HG"
      },
      "source": [
        ""
      ],
      "execution_count": null,
      "outputs": []
    },
    {
      "cell_type": "code",
      "metadata": {
        "id": "lLHaEm78i5dJ"
      },
      "source": [
        "#STEP 4  apply the scaling on the dependt variables (x) scaling, for example: min max or standarization\n",
        "# for Standarization\n",
        "# from sklearn.preprocessing import StandardScaler\n",
        "# scaler = StandardScaler()\n",
        "# the bottom 3 lines stay the same\n",
        "\n",
        "# for MinMaxScaler\n",
        "from sklearn.preprocessing import MinMaxScaler\n",
        "scaler = MinMaxScaler()\n",
        "\n",
        "X = np.array(X)\n",
        "scaler.fit(X)\n",
        "X = scaler.transform(X)"
      ],
      "execution_count": 28,
      "outputs": []
    },
    {
      "cell_type": "code",
      "metadata": {
        "id": "7dHXaXmNlTsr"
      },
      "source": [
        "#STEP 5\n",
        "# spliting the data into x test and train"
      ],
      "execution_count": 29,
      "outputs": []
    },
    {
      "cell_type": "code",
      "metadata": {
        "id": "I7qGrKhilXYe"
      },
      "source": [
        ""
      ],
      "execution_count": null,
      "outputs": []
    }
  ]
}