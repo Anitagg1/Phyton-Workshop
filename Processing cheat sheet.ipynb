{
  "nbformat": 4,
  "nbformat_minor": 0,
  "metadata": {
    "colab": {
      "name": "Untitled0.ipynb",
      "provenance": [],
      "collapsed_sections": [],
      "authorship_tag": "ABX9TyOUNa7LbGmMJKInAuIJ9V9M",
      "include_colab_link": true
    },
    "kernelspec": {
      "name": "python3",
      "display_name": "Python 3"
    }
  },
  "cells": [
    {
      "cell_type": "markdown",
      "metadata": {
        "id": "view-in-github",
        "colab_type": "text"
      },
      "source": [
        "<a href=\"https://colab.research.google.com/github/Anitagg1/Phyton-Workshop/blob/main/Processing%20cheat%20sheet.ipynb\" target=\"_parent\"><img src=\"https://colab.research.google.com/assets/colab-badge.svg\" alt=\"Open In Colab\"/></a>"
      ]
    },
    {
      "cell_type": "code",
      "metadata": {
        "id": "IIs0vgssgMC9"
      },
      "source": [
        "import pandas as pd\n",
        "import numpy as np\n",
        "\n",
        "red_wine = pd.read_csv('https://archive.ics.uci.edu/ml/machine-learning-databases/wine-quality/winequality-red.csv', sep = ';')\n",
        "red_wine['wine_type'] = 'red'\n",
        "red_wine['quality_label'] = red_wine['quality'].apply(lambda value: 'low'\n",
        "if value <= 5 else 'medium'\n",
        "if value <= 7 else 'high')\n",
        "red_wine['quality_label'] = pd.Categorical(red_wine['quality_label'],\n",
        "categories=['low', 'medium', 'high'])\n",
        "\n",
        "white_wine = pd.read_csv('https://archive.ics.uci.edu/ml/machine-learning-databases/wine-quality/winequality-white.csv', sep = ';')\n",
        "white_wine['wine_type'] = 'white'\n",
        "white_wine['quality_label'] = white_wine['quality'].apply(lambda value: 'low'\n",
        "if value <= 5 else 'medium'\n",
        "if value <= 7 else 'high')\n",
        "white_wine['quality_label'] = pd.Categorical(white_wine['quality_label'],\n",
        "categories=['low', 'medium', 'high'])\n",
        "\n",
        "wines = pd.concat([red_wine, white_wine])"
      ],
      "execution_count": 48,
      "outputs": []
    },
    {
      "cell_type": "code",
      "metadata": {
        "id": "71zzXiA6gM6q"
      },
      "source": [
        "## I want to find out the co-relation between 1 independent variable and other dependent vairables.\n",
        "# in this case, it will be the independt variable \"quality_label\" and the dependent variables -ingredients-.\n",
        "# there are columns that don't belong to the ingredients classification, which should be taken out of the analysis. Ex, wine type, quality\n",
        "\n",
        "\n",
        "## STEP 1\n",
        "#cleaning data, finding missing values, n/a, and  dropping columns\n",
        "\n",
        "# missing values per column: df.isnull().sum()\n",
        "\n",
        "# droping columns:\n",
        "\n",
        "wines = wines.drop(columns=['quality', 'wine_type'])\n"
      ],
      "execution_count": 49,
      "outputs": []
    },
    {
      "cell_type": "code",
      "metadata": {
        "colab": {
          "base_uri": "https://localhost:8080/"
        },
        "id": "VMhA9EjigolW",
        "outputId": "9e148037-344c-4c3a-c452-01dc83d9778e"
      },
      "source": [
        "#STEP 2\n",
        "# now it is the time to check the data type from the dataframe\n",
        "# the independent variable should be a category. If it were not a category, use:\n",
        "# df.name_of_column = df.name_of_column.astype('category')\n",
        "\n",
        "wines.dtypes"
      ],
      "execution_count": 50,
      "outputs": [
        {
          "output_type": "execute_result",
          "data": {
            "text/plain": [
              "fixed acidity            float64\n",
              "volatile acidity         float64\n",
              "citric acid              float64\n",
              "residual sugar           float64\n",
              "chlorides                float64\n",
              "free sulfur dioxide      float64\n",
              "total sulfur dioxide     float64\n",
              "density                  float64\n",
              "pH                       float64\n",
              "sulphates                float64\n",
              "alcohol                  float64\n",
              "quality_label           category\n",
              "dtype: object"
            ]
          },
          "metadata": {
            "tags": []
          },
          "execution_count": 50
        }
      ]
    },
    {
      "cell_type": "code",
      "metadata": {
        "id": "sAFCdDS4gzVI"
      },
      "source": [
        "#STEP 3\n",
        "# defining X and Y. Usually the dependt variable is Y, and the independent is X\n",
        "# make sure to take from X the varible that belongs to Y "
      ],
      "execution_count": 6,
      "outputs": []
    },
    {
      "cell_type": "code",
      "metadata": {
        "id": "qbDkfbH4iWxG"
      },
      "source": [
        "X = wines.drop(columns=['quality_label'])\n",
        "y = wines['quality_label']"
      ],
      "execution_count": 51,
      "outputs": []
    },
    {
      "cell_type": "code",
      "metadata": {
        "id": "hvIkI9JFi1HG"
      },
      "source": [
        ""
      ],
      "execution_count": null,
      "outputs": []
    },
    {
      "cell_type": "code",
      "metadata": {
        "id": "lLHaEm78i5dJ"
      },
      "source": [
        "#STEP 4  apply the scaling on the dependt variables (x) scaling, for example: min max or standarization\n",
        "# for Standarization\n",
        "# from sklearn.preprocessing import StandardScaler\n",
        "# scaler = StandardScaler()\n",
        "# the bottom 3 lines stay the same\n",
        "\n",
        "# for MinMaxScaler\n",
        "from sklearn.preprocessing import MinMaxScaler\n",
        "scaler = MinMaxScaler()\n",
        "\n",
        "X = np.array(X)\n",
        "scaler.fit(X)\n",
        "X = scaler.transform(X)"
      ],
      "execution_count": 52,
      "outputs": []
    },
    {
      "cell_type": "code",
      "metadata": {
        "id": "1FsP333VnrLr"
      },
      "source": [
        "# for Standarization\n",
        "from sklearn.preprocessing import StandardScaler\n",
        "scaler = StandardScaler()\n",
        "\n",
        "X = np.array(X)\n",
        "scaler.fit(X)\n",
        "X = scaler.transform(X)"
      ],
      "execution_count": 43,
      "outputs": []
    },
    {
      "cell_type": "code",
      "metadata": {
        "id": "7dHXaXmNlTsr"
      },
      "source": [
        "#STEP 5\n",
        "# spliting the data into x test and train. For this purpose the code is:\n",
        "\n",
        "from sklearn.model_selection import train_test_split\n",
        "X_train, X_test, y_train, y_test = train_test_split(\n",
        "X, y, test_size=0.33, random_state=42)"
      ],
      "execution_count": 53,
      "outputs": []
    },
    {
      "cell_type": "code",
      "metadata": {
        "colab": {
          "base_uri": "https://localhost:8080/"
        },
        "id": "Lsy0FRpmmC6R",
        "outputId": "59133104-aad2-4253-faca-5656eb1da348"
      },
      "source": [
        "# STEP 6\n",
        "# Chosing a model and testing it  in x train and y train and x test and y test (Models are KNN, forest classifier, etc)\n",
        "\n",
        "#MODEL : KNN\n",
        "\n",
        "from sklearn.neighbors import KNeighborsClassifier\n",
        "neigh = KNeighborsClassifier(n_neighbors=3)\n",
        "neigh.fit(X_train, y_train)"
      ],
      "execution_count": 54,
      "outputs": [
        {
          "output_type": "execute_result",
          "data": {
            "text/plain": [
              "KNeighborsClassifier(algorithm='auto', leaf_size=30, metric='minkowski',\n",
              "                     metric_params=None, n_jobs=None, n_neighbors=3, p=2,\n",
              "                     weights='uniform')"
            ]
          },
          "metadata": {
            "tags": []
          },
          "execution_count": 54
        }
      ]
    },
    {
      "cell_type": "code",
      "metadata": {
        "colab": {
          "base_uri": "https://localhost:8080/"
        },
        "id": "I7qGrKhilXYe",
        "outputId": "695d2e56-d910-43d0-e46c-1d03a574d37f"
      },
      "source": [
        "# Check accuracy from the previous model\n",
        "\n",
        "neigh.score(X_test, y_test)"
      ],
      "execution_count": 55,
      "outputs": [
        {
          "output_type": "execute_result",
          "data": {
            "text/plain": [
              "0.7025641025641025"
            ]
          },
          "metadata": {
            "tags": []
          },
          "execution_count": 55
        }
      ]
    },
    {
      "cell_type": "code",
      "metadata": {
        "colab": {
          "base_uri": "https://localhost:8080/"
        },
        "id": "Xq6CPM0KnLQh",
        "outputId": "515a6ce7-8995-4ca4-9046-a3579bbd2b45"
      },
      "source": [
        "# MODEL  : RANDOM FORES\n",
        "from sklearn.ensemble import RandomForestClassifier\n",
        "rf = RandomForestClassifier()\n",
        "rf.fit(X_train, y_train)\n",
        "rf.score(X_test, y_test)"
      ],
      "execution_count": 56,
      "outputs": [
        {
          "output_type": "execute_result",
          "data": {
            "text/plain": [
              "0.8"
            ]
          },
          "metadata": {
            "tags": []
          },
          "execution_count": 56
        }
      ]
    },
    {
      "cell_type": "code",
      "metadata": {
        "id": "GBxDOQYfngh7"
      },
      "source": [
        "# Accuracy for KNN and Random Forest\n",
        "\n",
        "# KNN: 070 with MinMAx\n",
        "# RF: 0.8 with MinMax"
      ],
      "execution_count": null,
      "outputs": []
    }
  ]
}