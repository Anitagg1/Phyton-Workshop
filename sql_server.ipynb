{
  "nbformat": 4,
  "nbformat_minor": 0,
  "metadata": {
    "colab": {
      "name": "sql server.ipynb",
      "provenance": [],
      "authorship_tag": "ABX9TyPKjM4itGsrXJny/Tnp/K0A",
      "include_colab_link": true
    },
    "kernelspec": {
      "name": "python3",
      "display_name": "Python 3"
    },
    "language_info": {
      "name": "python"
    }
  },
  "cells": [
    {
      "cell_type": "markdown",
      "metadata": {
        "id": "view-in-github",
        "colab_type": "text"
      },
      "source": [
        "<a href=\"https://colab.research.google.com/github/Anitagg1/Phyton-Workshop/blob/main/sql_server.ipynb\" target=\"_parent\"><img src=\"https://colab.research.google.com/assets/colab-badge.svg\" alt=\"Open In Colab\"/></a>"
      ]
    },
    {
      "cell_type": "code",
      "metadata": {
        "colab": {
          "base_uri": "https://localhost:8080/"
        },
        "id": "XiGE15n7Nso8",
        "outputId": "c73c1435-38a2-4760-bddc-dae193b54978"
      },
      "source": [
        "import numpy as np\n",
        "import pandas as pd\n",
        "from sqlalchemy import create_engine\n",
        "!pip install sqlalchemy\n",
        "!pip install mysqlclient\n",
        "!pip install pymysql "
      ],
      "execution_count": 1,
      "outputs": [
        {
          "output_type": "stream",
          "text": [
            "Requirement already satisfied: sqlalchemy in /usr/local/lib/python3.7/dist-packages (1.4.7)\n",
            "Requirement already satisfied: importlib-metadata; python_version < \"3.8\" in /usr/local/lib/python3.7/dist-packages (from sqlalchemy) (3.10.1)\n",
            "Requirement already satisfied: greenlet!=0.4.17; python_version >= \"3\" in /usr/local/lib/python3.7/dist-packages (from sqlalchemy) (1.0.0)\n",
            "Requirement already satisfied: zipp>=0.5 in /usr/local/lib/python3.7/dist-packages (from importlib-metadata; python_version < \"3.8\"->sqlalchemy) (3.4.1)\n",
            "Requirement already satisfied: typing-extensions>=3.6.4; python_version < \"3.8\" in /usr/local/lib/python3.7/dist-packages (from importlib-metadata; python_version < \"3.8\"->sqlalchemy) (3.7.4.3)\n",
            "Collecting mysqlclient\n",
            "\u001b[?25l  Downloading https://files.pythonhosted.org/packages/3c/df/59cd2fa5e48d0804d213bdcb1acb4d08c403b61c7ff7ed4dd4a6a2deb3f7/mysqlclient-2.0.3.tar.gz (88kB)\n",
            "\u001b[K     |████████████████████████████████| 92kB 6.4MB/s \n",
            "\u001b[?25hBuilding wheels for collected packages: mysqlclient\n",
            "  Building wheel for mysqlclient (setup.py) ... \u001b[?25l\u001b[?25hdone\n",
            "  Created wheel for mysqlclient: filename=mysqlclient-2.0.3-cp37-cp37m-linux_x86_64.whl size=100089 sha256=f4d6c389a9bf6226a377d2cfb249d61c7bba299442e957feb1a7bba7d084929e\n",
            "  Stored in directory: /root/.cache/pip/wheels/75/ca/e8/ad4e7ce3df18bcd91c7d84dd28c7c08db491a2a2360efed363\n",
            "Successfully built mysqlclient\n",
            "Installing collected packages: mysqlclient\n",
            "Successfully installed mysqlclient-2.0.3\n",
            "Collecting pymysql\n",
            "\u001b[?25l  Downloading https://files.pythonhosted.org/packages/4f/52/a115fe175028b058df353c5a3d5290b71514a83f67078a6482cff24d6137/PyMySQL-1.0.2-py3-none-any.whl (43kB)\n",
            "\u001b[K     |████████████████████████████████| 51kB 5.8MB/s \n",
            "\u001b[?25hInstalling collected packages: pymysql\n",
            "Successfully installed pymysql-1.0.2\n"
          ],
          "name": "stdout"
        }
      ]
    },
    {
      "cell_type": "code",
      "metadata": {
        "id": "BfCeqk55QPRz"
      },
      "source": [
        "import pymysql"
      ],
      "execution_count": 2,
      "outputs": []
    },
    {
      "cell_type": "code",
      "metadata": {
        "id": "CahaYZz0OmRI"
      },
      "source": [
        "df = pd.read_csv('/content/Product_summary.csv')"
      ],
      "execution_count": 3,
      "outputs": []
    },
    {
      "cell_type": "code",
      "metadata": {
        "colab": {
          "base_uri": "https://localhost:8080/",
          "height": 589
        },
        "id": "uhW9OIyueO92",
        "outputId": "a3876c40-9dd4-4767-f54d-9e16a43421f7"
      },
      "source": [
        "df"
      ],
      "execution_count": 5,
      "outputs": [
        {
          "output_type": "execute_result",
          "data": {
            "text/html": [
              "<div>\n",
              "<style scoped>\n",
              "    .dataframe tbody tr th:only-of-type {\n",
              "        vertical-align: middle;\n",
              "    }\n",
              "\n",
              "    .dataframe tbody tr th {\n",
              "        vertical-align: top;\n",
              "    }\n",
              "\n",
              "    .dataframe thead th {\n",
              "        text-align: right;\n",
              "    }\n",
              "</style>\n",
              "<table border=\"1\" class=\"dataframe\">\n",
              "  <thead>\n",
              "    <tr style=\"text-align: right;\">\n",
              "      <th></th>\n",
              "      <th>ASIN</th>\n",
              "      <th>title</th>\n",
              "      <th>url</th>\n",
              "      <th>rating</th>\n",
              "      <th>review_count</th>\n",
              "      <th>price</th>\n",
              "      <th>product_type</th>\n",
              "    </tr>\n",
              "  </thead>\n",
              "  <tbody>\n",
              "    <tr>\n",
              "      <th>0</th>\n",
              "      <td>B08L6ZRMMF</td>\n",
              "      <td>Canon Powershot SX420 Point &amp; Shoot Digital Ca...</td>\n",
              "      <td>https://www.amazon.com/gp/slredirect/picassoRe...</td>\n",
              "      <td>4.3</td>\n",
              "      <td>39</td>\n",
              "      <td>299</td>\n",
              "      <td>dslr camera</td>\n",
              "    </tr>\n",
              "    <tr>\n",
              "      <th>1</th>\n",
              "      <td>B00M8C7U8I</td>\n",
              "      <td>KODAK PIXPRO Astro Zoom AZ421-WH 16MP Digital ...</td>\n",
              "      <td>https://www.amazon.com/gp/slredirect/picassoRe...</td>\n",
              "      <td>4.4</td>\n",
              "      <td>2596</td>\n",
              "      <td>159</td>\n",
              "      <td>dslr camera</td>\n",
              "    </tr>\n",
              "    <tr>\n",
              "      <th>2</th>\n",
              "      <td>B0101RW3QK</td>\n",
              "      <td>Canon EOS REBEL T7 DSLR Camera|2 Lens Kit with...</td>\n",
              "      <td>https://www.amazon.com/Rebel-EF18-55mm-75-300m...</td>\n",
              "      <td>4.8</td>\n",
              "      <td>152</td>\n",
              "      <td>NaN</td>\n",
              "      <td>dslr camera</td>\n",
              "    </tr>\n",
              "    <tr>\n",
              "      <th>3</th>\n",
              "      <td>B08DQ4QQ6R</td>\n",
              "      <td>Canon EOS 4000D / Rebel T100 Digital SLR Camer...</td>\n",
              "      <td>https://www.amazon.com/Canon-4000D-Digital-Com...</td>\n",
              "      <td>4.5</td>\n",
              "      <td>86</td>\n",
              "      <td>509.95</td>\n",
              "      <td>dslr camera</td>\n",
              "    </tr>\n",
              "    <tr>\n",
              "      <th>4</th>\n",
              "      <td>B08S5FD42N</td>\n",
              "      <td>Canon EOS 2000D / Rebel T7 Digital SLR Camera ...</td>\n",
              "      <td>https://www.amazon.com/Canon-2000D-Digital-Com...</td>\n",
              "      <td>4.7</td>\n",
              "      <td>36</td>\n",
              "      <td>549.95</td>\n",
              "      <td>dslr camera</td>\n",
              "    </tr>\n",
              "    <tr>\n",
              "      <th>...</th>\n",
              "      <td>...</td>\n",
              "      <td>...</td>\n",
              "      <td>...</td>\n",
              "      <td>...</td>\n",
              "      <td>...</td>\n",
              "      <td>...</td>\n",
              "      <td>...</td>\n",
              "    </tr>\n",
              "    <tr>\n",
              "      <th>49233</th>\n",
              "      <td>B010NZ53EY</td>\n",
              "      <td>Koomus Pro Dash Universal Dashboard Windshield...</td>\n",
              "      <td>https://www.amazon.com/Koomus-Pro-Dashboard-Wi...</td>\n",
              "      <td>4.1</td>\n",
              "      <td>135</td>\n",
              "      <td>16.99</td>\n",
              "      <td>smartphone</td>\n",
              "    </tr>\n",
              "    <tr>\n",
              "      <th>49234</th>\n",
              "      <td>B07CWQGX93</td>\n",
              "      <td>USB Wall Charger, Small Surge Protector, POWRU...</td>\n",
              "      <td>https://www.amazon.com/Charger-Protector-POWRU...</td>\n",
              "      <td>4.7</td>\n",
              "      <td>2703</td>\n",
              "      <td>15.97</td>\n",
              "      <td>smartphone</td>\n",
              "    </tr>\n",
              "    <tr>\n",
              "      <th>49235</th>\n",
              "      <td>B07YYZ7M22</td>\n",
              "      <td>GLOUE Selfie Light Ring LED Round Clip self-Ti...</td>\n",
              "      <td>https://www.amazon.com/GLOUE-self-Timer-Bright...</td>\n",
              "      <td>3.4</td>\n",
              "      <td>235</td>\n",
              "      <td>12.99</td>\n",
              "      <td>smartphone</td>\n",
              "    </tr>\n",
              "    <tr>\n",
              "      <th>49236</th>\n",
              "      <td>B08BWSB82B</td>\n",
              "      <td>P40 Plus Smartphone with 4+64 GB+64G TF Large ...</td>\n",
              "      <td>https://www.amazon.com/P40-Smartphone-Memory-S...</td>\n",
              "      <td>3</td>\n",
              "      <td>3</td>\n",
              "      <td>None</td>\n",
              "      <td>smartphone</td>\n",
              "    </tr>\n",
              "    <tr>\n",
              "      <th>49237</th>\n",
              "      <td>B08Z3D8G7N</td>\n",
              "      <td>Micro SD Card 128GB with Adapter High Speed Mi...</td>\n",
              "      <td>https://www.amazon.com/Adapter-MicroSD-Nintend...</td>\n",
              "      <td>None</td>\n",
              "      <td>None</td>\n",
              "      <td>16.35</td>\n",
              "      <td>smartphone</td>\n",
              "    </tr>\n",
              "  </tbody>\n",
              "</table>\n",
              "<p>49238 rows × 7 columns</p>\n",
              "</div>"
            ],
            "text/plain": [
              "             ASIN  ... product_type\n",
              "0      B08L6ZRMMF  ...  dslr camera\n",
              "1      B00M8C7U8I  ...  dslr camera\n",
              "2      B0101RW3QK  ...  dslr camera\n",
              "3      B08DQ4QQ6R  ...  dslr camera\n",
              "4      B08S5FD42N  ...  dslr camera\n",
              "...           ...  ...          ...\n",
              "49233  B010NZ53EY  ...   smartphone\n",
              "49234  B07CWQGX93  ...   smartphone\n",
              "49235  B07YYZ7M22  ...   smartphone\n",
              "49236  B08BWSB82B  ...   smartphone\n",
              "49237  B08Z3D8G7N  ...   smartphone\n",
              "\n",
              "[49238 rows x 7 columns]"
            ]
          },
          "metadata": {
            "tags": []
          },
          "execution_count": 5
        }
      ]
    },
    {
      "cell_type": "code",
      "metadata": {
        "colab": {
          "base_uri": "https://localhost:8080/",
          "height": 427
        },
        "id": "1ERBvYIrNub1",
        "outputId": "0bf1be81-dc34-482d-f5e9-ed33e799df84"
      },
      "source": [
        "db_data = 'mysql+mysqldb://' + 'root' + ':' + 'arbolito8939' + '@' + 'localhost' + ':3306/' \\\n",
        "       + 'ecom1' + '?charset=utf8mb4'\n",
        "\t   \n",
        "engine = create_engine(db_data)\n",
        "\n",
        "# Connect to the database\n",
        "connection = pymysql.connect(host='localhost',\n",
        "                         user='root',\n",
        "                         password='arbolito8939',\n",
        "                         db='ecom1')\n",
        "# create cursor\n",
        "cursor=connection.cursor()\n",
        "# Execute the to_sql for writting DF into SQL\n",
        "df.to_sql('product_summary', engine, if_exists='append', index=False)    \n",
        "\n",
        "engine.dispose()\n",
        "connection.close()\n",
        "\n",
        "################\n"
      ],
      "execution_count": 4,
      "outputs": [
        {
          "output_type": "error",
          "ename": "OperationalError",
          "evalue": "ignored",
          "traceback": [
            "\u001b[0;31m---------------------------------------------------------------------------\u001b[0m",
            "\u001b[0;31mOSError\u001b[0m                                   Traceback (most recent call last)",
            "\u001b[0;32m/usr/local/lib/python3.7/dist-packages/pymysql/connections.py\u001b[0m in \u001b[0;36mconnect\u001b[0;34m(self, sock)\u001b[0m\n\u001b[1;32m    613\u001b[0m                             sock = socket.create_connection(\n\u001b[0;32m--> 614\u001b[0;31m                                 \u001b[0;34m(\u001b[0m\u001b[0mself\u001b[0m\u001b[0;34m.\u001b[0m\u001b[0mhost\u001b[0m\u001b[0;34m,\u001b[0m \u001b[0mself\u001b[0m\u001b[0;34m.\u001b[0m\u001b[0mport\u001b[0m\u001b[0;34m)\u001b[0m\u001b[0;34m,\u001b[0m \u001b[0mself\u001b[0m\u001b[0;34m.\u001b[0m\u001b[0mconnect_timeout\u001b[0m\u001b[0;34m,\u001b[0m \u001b[0;34m**\u001b[0m\u001b[0mkwargs\u001b[0m\u001b[0;34m\u001b[0m\u001b[0;34m\u001b[0m\u001b[0m\n\u001b[0m\u001b[1;32m    615\u001b[0m                             )\n",
            "\u001b[0;32m/usr/lib/python3.7/socket.py\u001b[0m in \u001b[0;36mcreate_connection\u001b[0;34m(address, timeout, source_address)\u001b[0m\n\u001b[1;32m    727\u001b[0m         \u001b[0;32mtry\u001b[0m\u001b[0;34m:\u001b[0m\u001b[0;34m\u001b[0m\u001b[0;34m\u001b[0m\u001b[0m\n\u001b[0;32m--> 728\u001b[0;31m             \u001b[0;32mraise\u001b[0m \u001b[0merr\u001b[0m\u001b[0;34m\u001b[0m\u001b[0;34m\u001b[0m\u001b[0m\n\u001b[0m\u001b[1;32m    729\u001b[0m         \u001b[0;32mfinally\u001b[0m\u001b[0;34m:\u001b[0m\u001b[0;34m\u001b[0m\u001b[0;34m\u001b[0m\u001b[0m\n",
            "\u001b[0;32m/usr/lib/python3.7/socket.py\u001b[0m in \u001b[0;36mcreate_connection\u001b[0;34m(address, timeout, source_address)\u001b[0m\n\u001b[1;32m    715\u001b[0m                 \u001b[0msock\u001b[0m\u001b[0;34m.\u001b[0m\u001b[0mbind\u001b[0m\u001b[0;34m(\u001b[0m\u001b[0msource_address\u001b[0m\u001b[0;34m)\u001b[0m\u001b[0;34m\u001b[0m\u001b[0;34m\u001b[0m\u001b[0m\n\u001b[0;32m--> 716\u001b[0;31m             \u001b[0msock\u001b[0m\u001b[0;34m.\u001b[0m\u001b[0mconnect\u001b[0m\u001b[0;34m(\u001b[0m\u001b[0msa\u001b[0m\u001b[0;34m)\u001b[0m\u001b[0;34m\u001b[0m\u001b[0;34m\u001b[0m\u001b[0m\n\u001b[0m\u001b[1;32m    717\u001b[0m             \u001b[0;31m# Break explicitly a reference cycle\u001b[0m\u001b[0;34m\u001b[0m\u001b[0;34m\u001b[0m\u001b[0;34m\u001b[0m\u001b[0m\n",
            "\u001b[0;31mOSError\u001b[0m: [Errno 99] Cannot assign requested address",
            "\nDuring handling of the above exception, another exception occurred:\n",
            "\u001b[0;31mOperationalError\u001b[0m                          Traceback (most recent call last)",
            "\u001b[0;32m<ipython-input-4-a89c393cd3a9>\u001b[0m in \u001b[0;36m<module>\u001b[0;34m()\u001b[0m\n\u001b[1;32m      7\u001b[0m                          \u001b[0muser\u001b[0m\u001b[0;34m=\u001b[0m\u001b[0;34m'root'\u001b[0m\u001b[0;34m,\u001b[0m\u001b[0;34m\u001b[0m\u001b[0;34m\u001b[0m\u001b[0m\n\u001b[1;32m      8\u001b[0m                          \u001b[0mpassword\u001b[0m\u001b[0;34m=\u001b[0m\u001b[0;34m'arbolito8939'\u001b[0m\u001b[0;34m,\u001b[0m\u001b[0;34m\u001b[0m\u001b[0;34m\u001b[0m\u001b[0m\n\u001b[0;32m----> 9\u001b[0;31m                          db='ecom1')\n\u001b[0m\u001b[1;32m     10\u001b[0m \u001b[0;31m# create cursor\u001b[0m\u001b[0;34m\u001b[0m\u001b[0;34m\u001b[0m\u001b[0;34m\u001b[0m\u001b[0m\n\u001b[1;32m     11\u001b[0m \u001b[0mcursor\u001b[0m\u001b[0;34m=\u001b[0m\u001b[0mconnection\u001b[0m\u001b[0;34m.\u001b[0m\u001b[0mcursor\u001b[0m\u001b[0;34m(\u001b[0m\u001b[0;34m)\u001b[0m\u001b[0;34m\u001b[0m\u001b[0;34m\u001b[0m\u001b[0m\n",
            "\u001b[0;32m/usr/local/lib/python3.7/dist-packages/pymysql/connections.py\u001b[0m in \u001b[0;36m__init__\u001b[0;34m(self, user, password, host, database, unix_socket, port, charset, sql_mode, read_default_file, conv, use_unicode, client_flag, cursorclass, init_command, connect_timeout, read_default_group, autocommit, local_infile, max_allowed_packet, defer_connect, auth_plugin_map, read_timeout, write_timeout, bind_address, binary_prefix, program_name, server_public_key, ssl, ssl_ca, ssl_cert, ssl_disabled, ssl_key, ssl_verify_cert, ssl_verify_identity, compress, named_pipe, passwd, db)\u001b[0m\n\u001b[1;32m    351\u001b[0m             \u001b[0mself\u001b[0m\u001b[0;34m.\u001b[0m\u001b[0m_sock\u001b[0m \u001b[0;34m=\u001b[0m \u001b[0;32mNone\u001b[0m\u001b[0;34m\u001b[0m\u001b[0;34m\u001b[0m\u001b[0m\n\u001b[1;32m    352\u001b[0m         \u001b[0;32melse\u001b[0m\u001b[0;34m:\u001b[0m\u001b[0;34m\u001b[0m\u001b[0;34m\u001b[0m\u001b[0m\n\u001b[0;32m--> 353\u001b[0;31m             \u001b[0mself\u001b[0m\u001b[0;34m.\u001b[0m\u001b[0mconnect\u001b[0m\u001b[0;34m(\u001b[0m\u001b[0;34m)\u001b[0m\u001b[0;34m\u001b[0m\u001b[0;34m\u001b[0m\u001b[0m\n\u001b[0m\u001b[1;32m    354\u001b[0m \u001b[0;34m\u001b[0m\u001b[0m\n\u001b[1;32m    355\u001b[0m     \u001b[0;32mdef\u001b[0m \u001b[0m__enter__\u001b[0m\u001b[0;34m(\u001b[0m\u001b[0mself\u001b[0m\u001b[0;34m)\u001b[0m\u001b[0;34m:\u001b[0m\u001b[0;34m\u001b[0m\u001b[0;34m\u001b[0m\u001b[0m\n",
            "\u001b[0;32m/usr/local/lib/python3.7/dist-packages/pymysql/connections.py\u001b[0m in \u001b[0;36mconnect\u001b[0;34m(self, sock)\u001b[0m\n\u001b[1;32m    662\u001b[0m                 \u001b[0;32mif\u001b[0m \u001b[0mDEBUG\u001b[0m\u001b[0;34m:\u001b[0m\u001b[0;34m\u001b[0m\u001b[0;34m\u001b[0m\u001b[0m\n\u001b[1;32m    663\u001b[0m                     \u001b[0mprint\u001b[0m\u001b[0;34m(\u001b[0m\u001b[0mexc\u001b[0m\u001b[0;34m.\u001b[0m\u001b[0mtraceback\u001b[0m\u001b[0;34m)\u001b[0m\u001b[0;34m\u001b[0m\u001b[0;34m\u001b[0m\u001b[0m\n\u001b[0;32m--> 664\u001b[0;31m                 \u001b[0;32mraise\u001b[0m \u001b[0mexc\u001b[0m\u001b[0;34m\u001b[0m\u001b[0;34m\u001b[0m\u001b[0m\n\u001b[0m\u001b[1;32m    665\u001b[0m \u001b[0;34m\u001b[0m\u001b[0m\n\u001b[1;32m    666\u001b[0m             \u001b[0;31m# If e is neither DatabaseError or IOError, It's a bug.\u001b[0m\u001b[0;34m\u001b[0m\u001b[0;34m\u001b[0m\u001b[0;34m\u001b[0m\u001b[0m\n",
            "\u001b[0;31mOperationalError\u001b[0m: (2003, \"Can't connect to MySQL server on 'localhost' ([Errno 99] Cannot assign requested address)\")"
          ]
        }
      ]
    },
    {
      "cell_type": "code",
      "metadata": {
        "id": "r1lBRZ1PPhiE"
      },
      "source": [
        ""
      ],
      "execution_count": null,
      "outputs": []
    }
  ]
}