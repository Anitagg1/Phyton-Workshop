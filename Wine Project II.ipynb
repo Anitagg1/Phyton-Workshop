{
  "nbformat": 4,
  "nbformat_minor": 0,
  "metadata": {
    "colab": {
      "name": "Untitled0.ipynb",
      "provenance": [],
      "toc_visible": true,
      "include_colab_link": true
    },
    "kernelspec": {
      "name": "python3",
      "display_name": "Python 3"
    }
  },
  "cells": [
    {
      "cell_type": "markdown",
      "metadata": {
        "id": "view-in-github",
        "colab_type": "text"
      },
      "source": [
        "<a href=\"https://colab.research.google.com/github/Anitagg1/Phyton-Workshop/blob/main/Wine%20Project%20II.ipynb\" target=\"_parent\"><img src=\"https://colab.research.google.com/assets/colab-badge.svg\" alt=\"Open In Colab\"/></a>"
      ]
    },
    {
      "cell_type": "code",
      "metadata": {
        "id": "B33OOMME3NCe"
      },
      "source": [
        ""
      ],
      "execution_count": null,
      "outputs": []
    },
    {
      "cell_type": "markdown",
      "metadata": {
        "id": "e-QWpg6P3OjN"
      },
      "source": [
        "For the  second part of the data analysis, we were provided with red and white wine sales data in order to propose pricing to the start up thaat is consulting."
      ]
    },
    {
      "cell_type": "code",
      "metadata": {
        "colab": {
          "base_uri": "https://localhost:8080/"
        },
        "id": "qwMJVMVzfBBU",
        "outputId": "b2843402-3188-4140-ef15-5944fc7e62d9"
      },
      "source": [
        "import pandas as pd\n",
        "import numpy as np\n",
        "\n",
        "from google.colab import drive\n",
        "drive.mount(\"/content/drive\")"
      ],
      "execution_count": null,
      "outputs": [
        {
          "output_type": "stream",
          "text": [
            "Mounted at /content/drive\n"
          ],
          "name": "stdout"
        }
      ]
    },
    {
      "cell_type": "code",
      "metadata": {
        "id": "1GY-9_7Y3vMX"
      },
      "source": [
        "# the first step taken was to filter the types of  wines produced in the country and same area the \n",
        "# start-up wishes to establish.\n",
        "# the second step was to find out how in the country of wished establishment the wines were priced\n",
        "# the third step was to compare how other countries price the wines produced in the country of wishes establishment"
      ],
      "execution_count": null,
      "outputs": []
    },
    {
      "cell_type": "code",
      "metadata": {
        "id": "tWeqHg7Tmpva"
      },
      "source": [
        "wine_sales = pd.read_csv('/content/drive/My Drive/wine_sales_data.csv')"
      ],
      "execution_count": null,
      "outputs": []
    },
    {
      "cell_type": "code",
      "metadata": {
        "id": "rszDWlKr9ANg"
      },
      "source": [
        "port_white = wine_sales[wine_sales.variety.isin(['Portuguese White'])]"
      ],
      "execution_count": null,
      "outputs": []
    },
    {
      "cell_type": "code",
      "metadata": {
        "id": "8GrZqTKX9jbm"
      },
      "source": [
        "new_port_white = port_white[port_white.province.isin(['Vinho Verde','Douro','Alentejano','Tejo','Lisboa'])]"
      ],
      "execution_count": null,
      "outputs": []
    },
    {
      "cell_type": "code",
      "metadata": {
        "id": "t0eAp3zj93lO"
      },
      "source": [
        "q_low = new_port_white[\"price\"].quantile(0.10)\n",
        "q_hi  = new_port_white[\"price\"].quantile(0.75)\n",
        "\n",
        "new_port_white_filter = new_port_white[(new_port_white[\"price\"] < q_hi) & (new_port_white[\"price\"] > q_low)]"
      ],
      "execution_count": null,
      "outputs": []
    },
    {
      "cell_type": "code",
      "metadata": {
        "colab": {
          "base_uri": "https://localhost:8080/",
          "height": 285
        },
        "id": "jNTvVboY-Bik",
        "outputId": "131a9a57-c477-4da7-ab98-3f8e245b9a3f"
      },
      "source": [
        "bx = sns.boxplot(x=\"province\", y=\"price\", data=new_port_white_filter,\n",
        "                 order=['Vinho Verde','Douro','Alentejano','Tejo','Lisboa'], palette=\"Set3\")"
      ],
      "execution_count": null,
      "outputs": [
        {
          "output_type": "display_data",
          "data": {
            "image/png": "[encoded data removed]",
            "text/plain": [
              "<Figure size 432x288 with 1 Axes>"
            ]
          },
          "metadata": {
            "tags": []
          }
        }
      ]
    },
    {
      "cell_type": "code",
      "metadata": {
        "colab": {
          "base_uri": "https://localhost:8080/"
        },
        "id": "dRKcGwIb9KH1",
        "outputId": "f3e582a7-b786-4d12-856b-07e57da25a40"
      },
      "source": [
        "port_white['province'].value_counts(ascending=False)"
      ],
      "execution_count": null,
      "outputs": [
        {
          "output_type": "execute_result",
          "data": {
            "text/plain": [
              "Vinho Verde              240\n",
              "Douro                    182\n",
              "Alentejano               159\n",
              "Tejo                      93\n",
              "Lisboa                    65\n",
              "Dão                       47\n",
              "Península de Setúbal      30\n",
              "Alentejo                  26\n",
              "Bairrada                  23\n",
              "Minho                     14\n",
              "Beiras                    12\n",
              "Estremadura                9\n",
              "Setubal                    8\n",
              "Ribatejo                   8\n",
              "Terras do Sado             4\n",
              "Duriense                   4\n",
              "Ribatejano                 3\n",
              "Beira Interior             3\n",
              "Trás-os-Montes             3\n",
              "Portuguese Table Wine      3\n",
              "Alenteo                    2\n",
              "Palmela                    1\n",
              "Transmontano               1\n",
              "Bucelas                    1\n",
              "Name: province, dtype: int64"
            ]
          },
          "metadata": {
            "tags": []
          },
          "execution_count": 162
        }
      ]
    },
    {
      "cell_type": "code",
      "metadata": {
        "id": "zapF3Ep-2OOz"
      },
      "source": [
        "varieties_new = wine_sales[wine_sales.variety.isin(['Chardonnay','Pinot Noir','Cabernet Sauvignon','Red Blend','Bordeaux-style Red Blend','Sauvignon Blanc','Syrah','Riesling','Merlot','Zinfandel','Sangiovese','Malbec','White Blend','Rosé','Tempranillo'])]"
      ],
      "execution_count": null,
      "outputs": []
    },
    {
      "cell_type": "code",
      "metadata": {
        "colab": {
          "base_uri": "https://localhost:8080/"
        },
        "id": "bFlHs9F63Mcb",
        "outputId": "90bc49f7-2a97-404a-e482-de2ad58a0b44"
      },
      "source": [
        "varieties_new.variety = varieties_new.variety.astype('category')"
      ],
      "execution_count": null,
      "outputs": [
        {
          "output_type": "stream",
          "text": [
            "/usr/local/lib/python3.7/dist-packages/pandas/core/generic.py:5170: SettingWithCopyWarning: \n",
            "A value is trying to be set on a copy of a slice from a DataFrame.\n",
            "Try using .loc[row_indexer,col_indexer] = value instead\n",
            "\n",
            "See the caveats in the documentation: https://pandas.pydata.org/pandas-docs/stable/user_guide/indexing.html#returning-a-view-versus-a-copy\n",
            "  self[name] = value\n"
          ],
          "name": "stderr"
        }
      ]
    },
    {
      "cell_type": "code",
      "metadata": {
        "colab": {
          "base_uri": "https://localhost:8080/"
        },
        "id": "slpbDIlm3d7K",
        "outputId": "f3611810-ff92-430e-f3e9-9245ebf3dbd6"
      },
      "source": [
        "varieties_new.plot.bar(x='variety', rot=0);"
      ],
      "execution_count": null,
      "outputs": [
        {
          "output_type": "stream",
          "text": [
            "Error in callback <function flush_figures at 0x7fa32d377320> (for post_execute):\n"
          ],
          "name": "stdout"
        },
        {
          "output_type": "stream",
          "text": [
            "\n",
            "KeyboardInterrupt\n",
            "\n"
          ],
          "name": "stderr"
        }
      ]
    },
    {
      "cell_type": "code",
      "metadata": {
        "id": "03rFf3qqZUHR"
      },
      "source": [
        "char = wine_sales[wine_sales.variety == 'Chardonnay']"
      ],
      "execution_count": null,
      "outputs": []
    },
    {
      "cell_type": "code",
      "metadata": {
        "id": "kj7rxkb-gxr5"
      },
      "source": [
        "char"
      ],
      "execution_count": null,
      "outputs": []
    },
    {
      "cell_type": "code",
      "metadata": {
        "id": "X-yA1Dj4nyQW"
      },
      "source": [
        "ries = wine_sales[wine_sales.variety == 'Riesling']"
      ],
      "execution_count": null,
      "outputs": []
    },
    {
      "cell_type": "code",
      "metadata": {
        "id": "4hS3JfKDn5pW"
      },
      "source": [
        "ries10 = ries[ries.country.isin(['Germany','US','Austria','France','New Zealand'])]"
      ],
      "execution_count": null,
      "outputs": []
    },
    {
      "cell_type": "code",
      "metadata": {
        "id": "jBc8aoISol8I"
      },
      "source": [
        "q_low = ries10[\"price\"].quantile(0.10)\n",
        "q_hi  = ries10[\"price\"].quantile(0.75)\n",
        "\n",
        "ries10_filtered = ries10[(ries10[\"price\"] < q_hi) & (ries10[\"price\"] > q_low)]"
      ],
      "execution_count": null,
      "outputs": []
    },
    {
      "cell_type": "code",
      "metadata": {
        "colab": {
          "base_uri": "https://localhost:8080/",
          "height": 279
        },
        "id": "YQfWO28CpBCT",
        "outputId": "adb96f50-a4ee-41b3-db84-ee06ddd46656"
      },
      "source": [
        "bx = sns.boxplot(x=\"country\", y=\"price\", data=ries10_filtered,\n",
        "                 order=['Germany','US','Austria','France','New Zealand'], palette=\"Set3\")"
      ],
      "execution_count": null,
      "outputs": [
        {
          "output_type": "display_data",
          "data": {
            "image/png": "[encoded data removed]",
            "text/plain": [
              "<Figure size 432x288 with 1 Axes>"
            ]
          },
          "metadata": {
            "tags": [],
            "needs_background": "light"
          }
        }
      ]
    },
    {
      "cell_type": "code",
      "metadata": {
        "id": "gacT5N5Hgoch"
      },
      "source": [
        "char10 = char[char.country.isin(['US','France','Chile','Australia','Italy'])]"
      ],
      "execution_count": null,
      "outputs": []
    },
    {
      "cell_type": "code",
      "metadata": {
        "id": "rfaxKan2k2c2"
      },
      "source": [
        "q_low = char10[\"price\"].quantile(0.10)\n",
        "q_hi  = char10[\"price\"].quantile(0.75)\n",
        "\n",
        "char10_filtered = char10[(char10[\"price\"] < q_hi) & (char10[\"price\"] > q_low)]"
      ],
      "execution_count": null,
      "outputs": []
    },
    {
      "cell_type": "code",
      "metadata": {
        "id": "i3NvKkdvovOH"
      },
      "source": [
        ""
      ],
      "execution_count": null,
      "outputs": []
    },
    {
      "cell_type": "code",
      "metadata": {
        "id": "rUGRmk8Go1zr"
      },
      "source": [
        "ries10.describe()"
      ],
      "execution_count": null,
      "outputs": []
    },
    {
      "cell_type": "code",
      "metadata": {
        "id": "zn6ikmBik2V8"
      },
      "source": [
        "char10_filtered.describe()"
      ],
      "execution_count": null,
      "outputs": []
    },
    {
      "cell_type": "code",
      "metadata": {
        "colab": {
          "base_uri": "https://localhost:8080/",
          "height": 279
        },
        "id": "COH9xNIYhbYW",
        "outputId": "c1b8a255-5933-4065-cccb-c088950979f9"
      },
      "source": [
        "ax = sns.boxplot(x=\"country\", y=\"price\", data=char10_filtered,\n",
        "                 order=['US','France','Chile','Australia','Italy'], palette=\"Set3\")"
      ],
      "execution_count": null,
      "outputs": [
        {
          "output_type": "display_data",
          "data": {
            "image/png": "[encoded data removed]",
            "text/plain": [
              "<Figure size 432x288 with 1 Axes>"
            ]
          },
          "metadata": {
            "tags": [],
            "needs_background": "light"
          }
        }
      ]
    },
    {
      "cell_type": "code",
      "metadata": {
        "id": "x7wqXV7HtBFZ"
      },
      "source": [
        "wine_sales['country'].value_counts(ascending=False)"
      ],
      "execution_count": null,
      "outputs": []
    },
    {
      "cell_type": "code",
      "metadata": {
        "id": "Lwk3U9gS_1wE"
      },
      "source": [
        "top20varieties = wine_sales['variety'].value_counts(ascending=False).head(15)"
      ],
      "execution_count": null,
      "outputs": []
    },
    {
      "cell_type": "code",
      "metadata": {
        "colab": {
          "base_uri": "https://localhost:8080/"
        },
        "id": "eAcXaQE00z1Y",
        "outputId": "3e5820d2-0612-4bce-ce36-d34c4bb9de29"
      },
      "source": [
        "top20varieties"
      ],
      "execution_count": null,
      "outputs": [
        {
          "output_type": "execute_result",
          "data": {
            "text/plain": [
              "Chardonnay                  14482\n",
              "Pinot Noir                  14291\n",
              "Cabernet Sauvignon          12800\n",
              "Red Blend                   10062\n",
              "Bordeaux-style Red Blend     7347\n",
              "Sauvignon Blanc              6320\n",
              "Syrah                        5825\n",
              "Riesling                     5524\n",
              "Merlot                       5070\n",
              "Zinfandel                    3799\n",
              "Sangiovese                   3345\n",
              "Malbec                       3208\n",
              "White Blend                  2824\n",
              "Rosé                         2817\n",
              "Tempranillo                  2556\n",
              "Name: variety, dtype: int64"
            ]
          },
          "metadata": {
            "tags": []
          },
          "execution_count": 133
        }
      ]
    },
    {
      "cell_type": "code",
      "metadata": {
        "id": "mXrhnKwP13FE"
      },
      "source": [
        "top20varieties.variety = top20varieties.variety.astype('category')"
      ],
      "execution_count": null,
      "outputs": []
    },
    {
      "cell_type": "code",
      "metadata": {
        "id": "aVcIQB5x1H32"
      },
      "source": [
        "import seaborn as sns\n",
        "sns.set_theme(style=\"whitegrid\")\n",
        "top20varieties = sns.load_dataset('top20varieties')\n",
        "ax = sns.barplot(x=\"Wine Variety\", data=top20varieties)"
      ],
      "execution_count": null,
      "outputs": []
    },
    {
      "cell_type": "code",
      "metadata": {
        "colab": {
          "base_uri": "https://localhost:8080/",
          "height": 265
        },
        "id": "vEeGRzloRPyQ",
        "outputId": "7317976e-9170-4104-eae1-0dee90ee1570"
      },
      "source": [
        "top20varieties.plot.bar(x='variety', rot=0);"
      ],
      "execution_count": null,
      "outputs": [
        {
          "output_type": "display_data",
          "data": {
            "image/png": "[encoded data removed]",
            "text/plain": [
              "<Figure size 432x288 with 1 Axes>"
            ]
          },
          "metadata": {
            "tags": [],
            "needs_background": "light"
          }
        }
      ]
    },
    {
      "cell_type": "code",
      "metadata": {
        "id": "CnWvlTWwMx2O"
      },
      "source": [
        "chardonnay_wine = wine_sales[wine_sales['variety'] == 'Chardonnay']"
      ],
      "execution_count": null,
      "outputs": []
    },
    {
      "cell_type": "code",
      "metadata": {
        "id": "SBJT1UrFVLF-"
      },
      "source": [
        "chardonnay_wine.describe()"
      ],
      "execution_count": null,
      "outputs": []
    },
    {
      "cell_type": "code",
      "metadata": {
        "id": "li2YR9C8NGJb"
      },
      "source": [
        "\n",
        "sauvignon_wine = wine_sales[wine_sales['variety'] == 'Sauvignon Blanc']"
      ],
      "execution_count": null,
      "outputs": []
    },
    {
      "cell_type": "code",
      "metadata": {
        "id": "eUjmuuA-VYSF"
      },
      "source": [
        "sauvignon_wine.describe()"
      ],
      "execution_count": null,
      "outputs": []
    },
    {
      "cell_type": "code",
      "metadata": {
        "id": "mQc58o87NwA6"
      },
      "source": [
        "riesling_wine = wine_sales[wine_sales['variety'] == 'Riesling']"
      ],
      "execution_count": null,
      "outputs": []
    },
    {
      "cell_type": "code",
      "metadata": {
        "id": "mojsYmWRVdJN"
      },
      "source": [
        "riesling_wine.describe()"
      ],
      "execution_count": null,
      "outputs": []
    },
    {
      "cell_type": "code",
      "metadata": {
        "id": "PsHkCKesOC87"
      },
      "source": [
        "white_blend_wine = wine_sales[wine_sales['variety'] == 'White Blend']"
      ],
      "execution_count": null,
      "outputs": []
    },
    {
      "cell_type": "code",
      "metadata": {
        "id": "GNM5P_TnVjlW"
      },
      "source": [
        "white_blend_wine.describe()"
      ],
      "execution_count": null,
      "outputs": []
    },
    {
      "cell_type": "code",
      "metadata": {
        "id": "X5Srewm4M9WE"
      },
      "source": [
        "top10char = chardonnay_wine['country'].value_counts(ascending=False).head(10)"
      ],
      "execution_count": null,
      "outputs": []
    },
    {
      "cell_type": "code",
      "metadata": {
        "id": "Pu_CFOOsXuVE"
      },
      "source": [
        "top10char"
      ],
      "execution_count": null,
      "outputs": []
    },
    {
      "cell_type": "code",
      "metadata": {
        "id": "TyyclHawNMnb"
      },
      "source": [
        "sauvignon_wine['country'].value_counts(ascending=False)"
      ],
      "execution_count": null,
      "outputs": []
    },
    {
      "cell_type": "code",
      "metadata": {
        "id": "vngdpYOLN3cy"
      },
      "source": [
        "riesling_wine['country'].value_counts(ascending=False)"
      ],
      "execution_count": null,
      "outputs": []
    },
    {
      "cell_type": "code",
      "metadata": {
        "id": "Cbmvqv9DOJ37"
      },
      "source": [
        "white_blend_wine['country'].value_counts(ascending=False)"
      ],
      "execution_count": null,
      "outputs": []
    },
    {
      "cell_type": "code",
      "metadata": {
        "id": "QbQlW669-COu"
      },
      "source": [
        "import seaborn as sns\n",
        "ax = sns.boxplot(x=\"price\", y=\"country\", data=wine_sales, palette=\"Set3\")"
      ],
      "execution_count": null,
      "outputs": []
    },
    {
      "cell_type": "code",
      "metadata": {
        "id": "-QfDjHTYoRbg"
      },
      "source": [
        "portugal_wine = wine_sales[wine_sales['country'] == 'Portugal'] "
      ],
      "execution_count": null,
      "outputs": []
    },
    {
      "cell_type": "code",
      "metadata": {
        "id": "58XbD6gqLx0T"
      },
      "source": [
        ""
      ],
      "execution_count": null,
      "outputs": []
    },
    {
      "cell_type": "code",
      "metadata": {
        "id": "7NkC2FD-tC9J"
      },
      "source": [
        "portugal_wine"
      ],
      "execution_count": null,
      "outputs": []
    },
    {
      "cell_type": "code",
      "metadata": {
        "id": "Xx3taXGWqH9S",
        "colab": {
          "base_uri": "https://localhost:8080/"
        },
        "outputId": "a176e421-e56f-4c0d-ec46-29a29dc84d99"
      },
      "source": [
        "portugal_wine['variety'].value_counts(ascending=False)"
      ],
      "execution_count": null,
      "outputs": [
        {
          "output_type": "execute_result",
          "data": {
            "text/plain": [
              "Portuguese Red              2216\n",
              "Portuguese White             941\n",
              "Port                         924\n",
              "Touriga Nacional             169\n",
              "Rosé                         163\n",
              "                            ... \n",
              "Azal                           1\n",
              "Cabernet Sauvignon-Syrah       1\n",
              "Sémillon                       1\n",
              "Petite Verdot                  1\n",
              "Rabigato                       1\n",
              "Name: variety, Length: 78, dtype: int64"
            ]
          },
          "metadata": {
            "tags": []
          },
          "execution_count": 18
        }
      ]
    },
    {
      "cell_type": "code",
      "metadata": {
        "id": "H7Ao5V-BtIMt"
      },
      "source": [
        "white_portugal = portugal_wine[portugal_wine['variety'] == 'Portuguese White'] "
      ],
      "execution_count": null,
      "outputs": []
    },
    {
      "cell_type": "code",
      "metadata": {
        "id": "1L4Mk-h-tp8V"
      },
      "source": [
        "white_portugal.describe()"
      ],
      "execution_count": null,
      "outputs": []
    },
    {
      "cell_type": "code",
      "metadata": {
        "id": "8H0z8jK-mNW6"
      },
      "source": [
        "portugal_wine['province'].value_counts().sort_index(ascending=True)"
      ],
      "execution_count": null,
      "outputs": []
    },
    {
      "cell_type": "code",
      "metadata": {
        "id": "bzcb1M8RnmAY"
      },
      "source": [
        "port_wine = portugal_wine[portugal_wine['province'] == 'Port']"
      ],
      "execution_count": null,
      "outputs": []
    },
    {
      "cell_type": "code",
      "metadata": {
        "id": "AMsvpUayuWfE"
      },
      "source": [
        "tejo_wine = portugal_wine[portugal_wine['province'] == 'Tejo']"
      ],
      "execution_count": null,
      "outputs": []
    },
    {
      "cell_type": "code",
      "metadata": {
        "colab": {
          "base_uri": "https://localhost:8080/",
          "height": 248
        },
        "id": "Kxptw5bMv5Wo",
        "outputId": "2c791973-4fd5-4d60-9bc8-5a29b47c407c"
      },
      "source": [
        "labels = 'Portuguese Red', 'Portuguese White', 'Rosé'\n",
        "sizes = [59, 30, 11]\n",
        "\n",
        "\n",
        "fig1, ax1 = plt.subplots()\n",
        "ax1.pie(sizes, labels=labels, autopct='%1.1f%%',\n",
        "        shadow=True, startangle=90)\n",
        "ax1.axis('equal')  # Equal aspect ratio ensures that pie is drawn as a circle.\n",
        "\n",
        "plt.show()"
      ],
      "execution_count": null,
      "outputs": [
        {
          "output_type": "display_data",
          "data": {
            "image/png": "[encoded data removed]",
            "text/plain": [
              "<Figure size 432x288 with 1 Axes>"
            ]
          },
          "metadata": {
            "tags": []
          }
        }
      ]
    },
    {
      "cell_type": "code",
      "metadata": {
        "colab": {
          "base_uri": "https://localhost:8080/"
        },
        "id": "8k8eIzR_ud-c",
        "outputId": "e671b780-9f70-4d52-f42b-8b9f62473f39"
      },
      "source": [
        "tejo_wine['variety'].value_counts(ascending=False)"
      ],
      "execution_count": null,
      "outputs": [
        {
          "output_type": "execute_result",
          "data": {
            "text/plain": [
              "Portuguese Red                         178\n",
              "Portuguese White                        93\n",
              "Rosé                                    33\n",
              "Touriga Nacional-Cabernet Sauvignon     17\n",
              "Touriga Nacional                        16\n",
              "Arinto                                  14\n",
              "Fernão Pires                            12\n",
              "Syrah                                   10\n",
              "Cabernet Sauvignon                       7\n",
              "Alfrocheiro                              5\n",
              "Sauvignon Blanc                          4\n",
              "White Blend                              4\n",
              "Viognier                                 4\n",
              "Alvarinho                                3\n",
              "Merlot                                   3\n",
              "Alicante Bouschet                        2\n",
              "Verdelho                                 2\n",
              "Touriga Nacional Blend                   2\n",
              "Portuguese Sparkling                     2\n",
              "Trincadeira                              2\n",
              "Castelão                                 1\n",
              "Moscatel Graúdo                          1\n",
              "Chardonnay                               1\n",
              "Gewürztraminer-Riesling                  1\n",
              "Portuguese Rosé                          1\n",
              "Sparkling Blend                          1\n",
              "Alvarinho-Chardonnay                     1\n",
              "Name: variety, dtype: int64"
            ]
          },
          "metadata": {
            "tags": []
          },
          "execution_count": 24
        }
      ]
    },
    {
      "cell_type": "code",
      "metadata": {
        "colab": {
          "base_uri": "https://localhost:8080/"
        },
        "id": "1Uy-p5w9n3w3",
        "outputId": "04445e45-eb26-4aa2-e65c-d9b93161370c"
      },
      "source": [
        "port_wine['winery'].value_counts(ascending=False)"
      ],
      "execution_count": null,
      "outputs": [
        {
          "output_type": "execute_result",
          "data": {
            "text/plain": [
              "Poças                      57\n",
              "Niepoort                   53\n",
              "Ramos-Pinto                47\n",
              "Dow's                      40\n",
              "Fonseca                    39\n",
              "                           ..\n",
              "Conceito Vinhos             1\n",
              "Portal                      1\n",
              "Porto Solene                1\n",
              "Domingos Alves de Sousa     1\n",
              "Quinta Dona Matilde         1\n",
              "Name: winery, Length: 81, dtype: int64"
            ]
          },
          "metadata": {
            "tags": []
          },
          "execution_count": 15
        }
      ]
    },
    {
      "cell_type": "code",
      "metadata": {
        "colab": {
          "base_uri": "https://localhost:8080/"
        },
        "id": "2GDIDxi1szIW",
        "outputId": "f7910f35-a2df-423e-c9f4-bd8b03eba121"
      },
      "source": [
        "port_wine['variety'].value_counts(ascending=False)"
      ],
      "execution_count": null,
      "outputs": [
        {
          "output_type": "execute_result",
          "data": {
            "text/plain": [
              "Port          898\n",
              "White Port      3\n",
              "Red Blend       2\n",
              "Name: variety, dtype: int64"
            ]
          },
          "metadata": {
            "tags": []
          },
          "execution_count": 17
        }
      ]
    },
    {
      "cell_type": "code",
      "metadata": {
        "colab": {
          "base_uri": "https://localhost:8080/",
          "height": 297
        },
        "id": "xoFkpD1XsRfr",
        "outputId": "89e74d54-efe5-4ce2-9c69-6129e3f7e437"
      },
      "source": [
        "port_wine.describe()"
      ],
      "execution_count": null,
      "outputs": [
        {
          "output_type": "execute_result",
          "data": {
            "text/html": [
              "<div>\n",
              "<style scoped>\n",
              "    .dataframe tbody tr th:only-of-type {\n",
              "        vertical-align: middle;\n",
              "    }\n",
              "\n",
              "    .dataframe tbody tr th {\n",
              "        vertical-align: top;\n",
              "    }\n",
              "\n",
              "    .dataframe thead th {\n",
              "        text-align: right;\n",
              "    }\n",
              "</style>\n",
              "<table border=\"1\" class=\"dataframe\">\n",
              "  <thead>\n",
              "    <tr style=\"text-align: right;\">\n",
              "      <th></th>\n",
              "      <th>Unnamed: 0</th>\n",
              "      <th>points</th>\n",
              "      <th>price</th>\n",
              "    </tr>\n",
              "  </thead>\n",
              "  <tbody>\n",
              "    <tr>\n",
              "      <th>count</th>\n",
              "      <td>903.000000</td>\n",
              "      <td>903.000000</td>\n",
              "      <td>635.000000</td>\n",
              "    </tr>\n",
              "    <tr>\n",
              "      <th>mean</th>\n",
              "      <td>87572.779623</td>\n",
              "      <td>88.632337</td>\n",
              "      <td>55.207874</td>\n",
              "    </tr>\n",
              "    <tr>\n",
              "      <th>std</th>\n",
              "      <td>43351.054338</td>\n",
              "      <td>3.019511</td>\n",
              "      <td>71.357594</td>\n",
              "    </tr>\n",
              "    <tr>\n",
              "      <th>min</th>\n",
              "      <td>1340.000000</td>\n",
              "      <td>80.000000</td>\n",
              "      <td>11.000000</td>\n",
              "    </tr>\n",
              "    <tr>\n",
              "      <th>25%</th>\n",
              "      <td>54214.500000</td>\n",
              "      <td>87.000000</td>\n",
              "      <td>22.000000</td>\n",
              "    </tr>\n",
              "    <tr>\n",
              "      <th>50%</th>\n",
              "      <td>90599.000000</td>\n",
              "      <td>88.000000</td>\n",
              "      <td>37.000000</td>\n",
              "    </tr>\n",
              "    <tr>\n",
              "      <th>75%</th>\n",
              "      <td>129571.500000</td>\n",
              "      <td>91.000000</td>\n",
              "      <td>63.500000</td>\n",
              "    </tr>\n",
              "    <tr>\n",
              "      <th>max</th>\n",
              "      <td>149636.000000</td>\n",
              "      <td>97.000000</td>\n",
              "      <td>980.000000</td>\n",
              "    </tr>\n",
              "  </tbody>\n",
              "</table>\n",
              "</div>"
            ],
            "text/plain": [
              "          Unnamed: 0      points       price\n",
              "count     903.000000  903.000000  635.000000\n",
              "mean    87572.779623   88.632337   55.207874\n",
              "std     43351.054338    3.019511   71.357594\n",
              "min      1340.000000   80.000000   11.000000\n",
              "25%     54214.500000   87.000000   22.000000\n",
              "50%     90599.000000   88.000000   37.000000\n",
              "75%    129571.500000   91.000000   63.500000\n",
              "max    149636.000000   97.000000  980.000000"
            ]
          },
          "metadata": {
            "tags": []
          },
          "execution_count": 16
        }
      ]
    },
    {
      "cell_type": "code",
      "metadata": {
        "id": "aPSTldSEuYX3"
      },
      "source": [
        "new_wines = portugal_wine[portugal_wine['province'] == 'Vinho Verde'] "
      ],
      "execution_count": null,
      "outputs": []
    },
    {
      "cell_type": "code",
      "metadata": {
        "id": "MNasbUvIqg1D"
      },
      "source": [
        "\n",
        "vinho_verde = new_wines[new_wines.variety.isin(['Portuguese White','Loureiro','Alvarinho','Rosé','Portuguese Red'])]"
      ],
      "execution_count": null,
      "outputs": []
    },
    {
      "cell_type": "code",
      "metadata": {
        "colab": {
          "base_uri": "https://localhost:8080/",
          "height": 253
        },
        "id": "hscLLNOXuDrM",
        "outputId": "bc37c388-7e75-42e9-bfa5-6fbc23fe944c"
      },
      "source": [
        "labels = 'Portuguese White', 'Loureiro', 'Alvarinho', 'Rosé', 'Portuguese Red'\n",
        "sizes = [63, 12, 11, 11, 3]\n",
        "\n",
        "\n",
        "fig1, ax1 = plt.subplots()\n",
        "ax1.pie(sizes, labels=labels, autopct='%1.1f%%',\n",
        "        shadow=True, startangle=90)\n",
        "ax1.axis('equal')  # Equal aspect ratio ensures that pie is drawn as a circle.\n",
        "\n",
        "plt.show()"
      ],
      "execution_count": null,
      "outputs": [
        {
          "output_type": "display_data",
          "data": {
            "image/png": "[encoded data removed]",
            "text/plain": [
              "<Figure size 432x288 with 1 Axes>"
            ]
          },
          "metadata": {
            "tags": []
          }
        }
      ]
    },
    {
      "cell_type": "code",
      "metadata": {
        "id": "BO9LGcqOLWtR"
      },
      "source": [
        "new_wines.describe()"
      ],
      "execution_count": null,
      "outputs": []
    },
    {
      "cell_type": "code",
      "metadata": {
        "id": "iI0QKZaXw0EN",
        "colab": {
          "base_uri": "https://localhost:8080/"
        },
        "outputId": "96a6df94-0060-4c3e-a91f-f12a0f14a7d1"
      },
      "source": [
        "new_wines['variety'].value_counts(ascending=False)"
      ],
      "execution_count": null,
      "outputs": [
        {
          "output_type": "execute_result",
          "data": {
            "text/plain": [
              "Portuguese White        240\n",
              "Loureiro                 45\n",
              "Alvarinho                43\n",
              "Rosé                     43\n",
              "Portuguese Red            9\n",
              "Vinhão                    5\n",
              "Avesso                    3\n",
              "Arinto                    2\n",
              "Portuguese Sparkling      2\n",
              "Portuguese Rosé           1\n",
              "Espadeiro                 1\n",
              "White Blend               1\n",
              "Azal                      1\n",
              "Name: variety, dtype: int64"
            ]
          },
          "metadata": {
            "tags": []
          },
          "execution_count": 61
        }
      ]
    },
    {
      "cell_type": "code",
      "metadata": {
        "colab": {
          "base_uri": "https://localhost:8080/"
        },
        "id": "c6lwYz8-9if9",
        "outputId": "db76bc1d-cb92-4a8d-c95f-e2f204dad256"
      },
      "source": [
        "new_wines['points'].value_counts().sort_index(ascending=True)\n"
      ],
      "execution_count": null,
      "outputs": [
        {
          "output_type": "execute_result",
          "data": {
            "text/plain": [
              "80     3\n",
              "82    11\n",
              "83    23\n",
              "84    60\n",
              "85    85\n",
              "86    39\n",
              "87    28\n",
              "88    53\n",
              "89    30\n",
              "90    49\n",
              "91    12\n",
              "92     3\n",
              "Name: points, dtype: int64"
            ]
          },
          "metadata": {
            "tags": []
          },
          "execution_count": 74
        }
      ]
    },
    {
      "cell_type": "code",
      "metadata": {
        "id": "1wNZbaBIlZ4q"
      },
      "source": [
        "new_wines['price'].value_counts().sort_index(ascending=True)"
      ],
      "execution_count": null,
      "outputs": []
    },
    {
      "cell_type": "code",
      "metadata": {
        "id": "D_vS07IWEOpm"
      },
      "source": [
        "new = new_wines.groupby(\"points\").mean()"
      ],
      "execution_count": null,
      "outputs": []
    },
    {
      "cell_type": "code",
      "metadata": {
        "id": "aZsVsekbFKhr"
      },
      "source": [
        "new_wines"
      ],
      "execution_count": null,
      "outputs": []
    },
    {
      "cell_type": "code",
      "metadata": {
        "colab": {
          "base_uri": "https://localhost:8080/"
        },
        "id": "Im7HhL3bIL1q",
        "outputId": "9796f781-dd64-4c05-8da4-b5d45231cc23"
      },
      "source": [
        "new_wines['price'] = new_wines.groupby(['points'], sort=False)['price'].apply(lambda x: x.fillna(x.mean()))"
      ],
      "execution_count": null,
      "outputs": [
        {
          "output_type": "stream",
          "text": [
            "/usr/local/lib/python3.7/dist-packages/ipykernel_launcher.py:1: SettingWithCopyWarning: \n",
            "A value is trying to be set on a copy of a slice from a DataFrame.\n",
            "Try using .loc[row_indexer,col_indexer] = value instead\n",
            "\n",
            "See the caveats in the documentation: https://pandas.pydata.org/pandas-docs/stable/user_guide/indexing.html#returning-a-view-versus-a-copy\n",
            "  \"\"\"Entry point for launching an IPython kernel.\n"
          ],
          "name": "stderr"
        }
      ]
    },
    {
      "cell_type": "code",
      "metadata": {
        "id": "Cm2yYCxJIa10"
      },
      "source": [
        "new_wines.describe()"
      ],
      "execution_count": null,
      "outputs": []
    },
    {
      "cell_type": "code",
      "metadata": {
        "id": "6mIrFmaQWA6O"
      },
      "source": [
        "q_low = new_wines[\"price\"].quantile(0.25)\n",
        "q_hi  = new_wines[\"price\"].quantile(0.75)\n",
        "\n",
        "new_wines_filtered = new_wines[(new_wines[\"price\"] < q_hi) & (new_wines[\"price\"] > q_low)]"
      ],
      "execution_count": null,
      "outputs": []
    },
    {
      "cell_type": "code",
      "metadata": {
        "colab": {
          "base_uri": "https://localhost:8080/",
          "height": 297
        },
        "id": "ClPVHpZWWVhL",
        "outputId": "e9d8320b-c442-4dfc-a9e5-c20b8f53024d"
      },
      "source": [
        "new_wines_filtered.describe()"
      ],
      "execution_count": null,
      "outputs": [
        {
          "output_type": "execute_result",
          "data": {
            "text/html": [
              "<div>\n",
              "<style scoped>\n",
              "    .dataframe tbody tr th:only-of-type {\n",
              "        vertical-align: middle;\n",
              "    }\n",
              "\n",
              "    .dataframe tbody tr th {\n",
              "        vertical-align: top;\n",
              "    }\n",
              "\n",
              "    .dataframe thead th {\n",
              "        text-align: right;\n",
              "    }\n",
              "</style>\n",
              "<table border=\"1\" class=\"dataframe\">\n",
              "  <thead>\n",
              "    <tr style=\"text-align: right;\">\n",
              "      <th></th>\n",
              "      <th>Unnamed: 0</th>\n",
              "      <th>points</th>\n",
              "      <th>price</th>\n",
              "    </tr>\n",
              "  </thead>\n",
              "  <tbody>\n",
              "    <tr>\n",
              "      <th>count</th>\n",
              "      <td>182.000000</td>\n",
              "      <td>182.000000</td>\n",
              "      <td>182.000000</td>\n",
              "    </tr>\n",
              "    <tr>\n",
              "      <th>mean</th>\n",
              "      <td>65676.928571</td>\n",
              "      <td>86.076923</td>\n",
              "      <td>10.467440</td>\n",
              "    </tr>\n",
              "    <tr>\n",
              "      <th>std</th>\n",
              "      <td>43061.377031</td>\n",
              "      <td>1.936739</td>\n",
              "      <td>1.252697</td>\n",
              "    </tr>\n",
              "    <tr>\n",
              "      <th>min</th>\n",
              "      <td>993.000000</td>\n",
              "      <td>82.000000</td>\n",
              "      <td>8.300000</td>\n",
              "    </tr>\n",
              "    <tr>\n",
              "      <th>25%</th>\n",
              "      <td>29139.500000</td>\n",
              "      <td>85.000000</td>\n",
              "      <td>9.918033</td>\n",
              "    </tr>\n",
              "    <tr>\n",
              "      <th>50%</th>\n",
              "      <td>64466.500000</td>\n",
              "      <td>86.000000</td>\n",
              "      <td>10.000000</td>\n",
              "    </tr>\n",
              "    <tr>\n",
              "      <th>75%</th>\n",
              "      <td>100467.000000</td>\n",
              "      <td>88.000000</td>\n",
              "      <td>12.000000</td>\n",
              "    </tr>\n",
              "    <tr>\n",
              "      <th>max</th>\n",
              "      <td>143472.000000</td>\n",
              "      <td>90.000000</td>\n",
              "      <td>12.847826</td>\n",
              "    </tr>\n",
              "  </tbody>\n",
              "</table>\n",
              "</div>"
            ],
            "text/plain": [
              "          Unnamed: 0      points       price\n",
              "count     182.000000  182.000000  182.000000\n",
              "mean    65676.928571   86.076923   10.467440\n",
              "std     43061.377031    1.936739    1.252697\n",
              "min       993.000000   82.000000    8.300000\n",
              "25%     29139.500000   85.000000    9.918033\n",
              "50%     64466.500000   86.000000   10.000000\n",
              "75%    100467.000000   88.000000   12.000000\n",
              "max    143472.000000   90.000000   12.847826"
            ]
          },
          "metadata": {
            "tags": []
          },
          "execution_count": 107
        }
      ]
    },
    {
      "cell_type": "code",
      "metadata": {
        "id": "XYyUztUFukqP"
      },
      "source": [
        "new_wines.isnull().sum()"
      ],
      "execution_count": null,
      "outputs": []
    },
    {
      "cell_type": "code",
      "metadata": {
        "id": "2MAT-JZBN8Zu"
      },
      "source": [
        "new_wines_filtered['points'].value_counts().sort_index(ascending=True)"
      ],
      "execution_count": null,
      "outputs": []
    },
    {
      "cell_type": "code",
      "metadata": {
        "colab": {
          "base_uri": "https://localhost:8080/"
        },
        "id": "qdR6ikZePfC3",
        "outputId": "099a2cb2-ebf5-46f7-b5c7-1013b1130024"
      },
      "source": [
        "new_wines_filtered['price'].value_counts(bins=3).sort_index(ascending=True)"
      ],
      "execution_count": null,
      "outputs": [
        {
          "output_type": "execute_result",
          "data": {
            "text/plain": [
              "(8.294, 9.816]      45\n",
              "(9.816, 11.332]     85\n",
              "(11.332, 12.848]    52\n",
              "Name: price, dtype: int64"
            ]
          },
          "metadata": {
            "tags": []
          },
          "execution_count": 108
        }
      ]
    },
    {
      "cell_type": "code",
      "metadata": {
        "id": "PoXYGRYqQBIO"
      },
      "source": [
        "saublanc = wine_sales[wine_sales.variety == 'Sauvignon Blanc']\n",
        "\n",
        "saublanc10 = saublanc[saublanc.country.isin(['US','France','Chile','Australia','Italy','Argentina','New Zealand','South Africa','Austria',\"Spain\"])]\n",
        "saublanc10"
      ],
      "execution_count": null,
      "outputs": []
    },
    {
      "cell_type": "code",
      "metadata": {
        "colab": {
          "base_uri": "https://localhost:8080/",
          "height": 252
        },
        "id": "JhJlfuKajC1W",
        "outputId": "8dd0a62a-88cd-49e1-c709-6757cefff1fa"
      },
      "source": [
        "import matplotlib.pyplot as plt\n",
        "\n",
        "# Pie chart, where the slices will be ordered and plotted counter-clockwise:\n",
        "labels = 'Port', 'White Port', 'Red Blend'\n",
        "sizes = [90, 5, 5]\n",
        "\n",
        "fig1, ax1 = plt.subplots()\n",
        "ax1.pie(sizes, labels=labels, autopct='%1.1f%%',\n",
        "        shadow=True, startangle=90)\n",
        "ax1.axis('equal')  # Equal aspect ratio ensures that pie is drawn as a circle.\n",
        "\n",
        "plt.show()\n"
      ],
      "execution_count": null,
      "outputs": [
        {
          "output_type": "display_data",
          "data": {
            "image/png": "[encoded data removed]",
            "text/plain": [
              "<Figure size 432x288 with 1 Axes>"
            ]
          },
          "metadata": {
            "tags": []
          }
        }
      ]
    },
    {
      "cell_type": "code",
      "metadata": {
        "colab": {
          "base_uri": "https://localhost:8080/",
          "height": 248
        },
        "id": "RVAM-mcux3RZ",
        "outputId": "eda96962-9bb6-48b0-ebc9-8955701b4df2"
      },
      "source": [
        "labels = 'White Wine', 'Red Wine'\n",
        "sizes = [4898, 1599]\n",
        "\n",
        "\n",
        "fig1, ax1 = plt.subplots()\n",
        "ax1.pie(sizes, labels=labels, autopct='%1.1f%%',\n",
        "        shadow=True, startangle=90)\n",
        "ax1.axis('equal')  # Equal aspect ratio ensures that pie is drawn as a circle.\n",
        "\n",
        "plt.show()"
      ],
      "execution_count": null,
      "outputs": [
        {
          "output_type": "display_data",
          "data": {
            "image/png": "[encoded data removed]",
            "text/plain": [
              "<Figure size 432x288 with 1 Axes>"
            ]
          },
          "metadata": {
            "tags": []
          }
        }
      ]
    },
    {
      "cell_type": "code",
      "metadata": {
        "id": "IcdPE6DaE6xc",
        "colab": {
          "base_uri": "https://localhost:8080/"
        },
        "outputId": "f7c7918e-bed8-4962-83c9-cd301169fe42"
      },
      "source": [
        "new_wines['variety'].value_counts(ascending=False)"
      ],
      "execution_count": null,
      "outputs": [
        {
          "output_type": "execute_result",
          "data": {
            "text/plain": [
              "Portuguese White        240\n",
              "Loureiro                 45\n",
              "Alvarinho                43\n",
              "Rosé                     43\n",
              "Portuguese Red            9\n",
              "Vinhão                    5\n",
              "Avesso                    3\n",
              "Portuguese Sparkling      2\n",
              "Arinto                    2\n",
              "Portuguese Rosé           1\n",
              "Espadeiro                 1\n",
              "Azal                      1\n",
              "White Blend               1\n",
              "Name: variety, dtype: int64"
            ]
          },
          "metadata": {
            "tags": []
          },
          "execution_count": 9
        }
      ]
    },
    {
      "cell_type": "code",
      "metadata": {
        "colab": {
          "base_uri": "https://localhost:8080/",
          "height": 280
        },
        "id": "WkCM25xC6_YF",
        "outputId": "0d213b4b-c886-4d68-e19d-12f4d745416f"
      },
      "source": [
        "import seaborn as sns\n",
        "ax = sns.boxplot(x=\"variety\", y='price', data=new_wines, palette=\"Set3\")"
      ],
      "execution_count": null,
      "outputs": [
        {
          "output_type": "display_data",
          "data": {
            "image/png": "[encoded data removed]",
            "text/plain": [
              "<Figure size 432x288 with 1 Axes>"
            ]
          },
          "metadata": {
            "tags": [],
            "needs_background": "light"
          }
        }
      ]
    },
    {
      "cell_type": "code",
      "metadata": {
        "id": "ZfdrrYOW8uso"
      },
      "source": [
        "important_wines = new_wines[new_wines.variety.isin(['Portuguese White','Loureiro','Alvarinho','Rosé','Portuguese Red'])]\n"
      ],
      "execution_count": null,
      "outputs": []
    },
    {
      "cell_type": "code",
      "metadata": {
        "id": "AjoqzY6zABdV"
      },
      "source": [
        "white_price = new_wines[new_wines.variety.isin(['Portuguese White','Loureiro','Alvarinho'])]"
      ],
      "execution_count": null,
      "outputs": []
    },
    {
      "cell_type": "code",
      "metadata": {
        "colab": {
          "base_uri": "https://localhost:8080/",
          "height": 285
        },
        "id": "S9U7LgOJ9cFy",
        "outputId": "a4d24b2c-e917-4014-a5ac-7945709fd2fd"
      },
      "source": [
        "ax = sns.boxplot(x=\"variety\", y=\"price\", data=white_price,\n",
        "                 order=['Portuguese White','Loureiro','Alvarinho'], palette=\"Set3\")"
      ],
      "execution_count": null,
      "outputs": [
        {
          "output_type": "display_data",
          "data": {
            "image/png": "[encoded data removed]",
            "text/plain": [
              "<Figure size 432x288 with 1 Axes>"
            ]
          },
          "metadata": {
            "tags": []
          }
        }
      ]
    },
    {
      "cell_type": "code",
      "metadata": {
        "id": "cDvYGasy-NO0"
      },
      "source": [
        "import seaborn as sns\n",
        "sns.set_theme(style=\"whitegrid\")\n",
        "ax = sns.barplot(x=\"variety\", data=important_wines)"
      ],
      "execution_count": null,
      "outputs": []
    },
    {
      "cell_type": "code",
      "metadata": {
        "colab": {
          "base_uri": "https://localhost:8080/",
          "height": 369
        },
        "id": "iQrWhx7s-dVA",
        "outputId": "c6230d11-8676-4bac-864f-3aeff14bf857"
      },
      "source": [
        "important_wines.hist()"
      ],
      "execution_count": null,
      "outputs": [
        {
          "output_type": "execute_result",
          "data": {
            "text/plain": [
              "array([[<matplotlib.axes._subplots.AxesSubplot object at 0x7f84a6efb450>,\n",
              "        <matplotlib.axes._subplots.AxesSubplot object at 0x7f84a6e5bc50>],\n",
              "       [<matplotlib.axes._subplots.AxesSubplot object at 0x7f84a6e1f310>,\n",
              "        <matplotlib.axes._subplots.AxesSubplot object at 0x7f84a6dd2990>]],\n",
              "      dtype=object)"
            ]
          },
          "metadata": {
            "tags": []
          },
          "execution_count": 27
        },
        {
          "output_type": "display_data",
          "data": {
            "image/png": "[encoded data removed]",
            "text/plain": [
              "<Figure size 432x288 with 4 Axes>"
            ]
          },
          "metadata": {
            "tags": []
          }
        }
      ]
    },
    {
      "cell_type": "code",
      "metadata": {
        "id": "mO-cAtqN9oe4"
      },
      "source": [
        "port_white = new_wines[new_wines.variety.isin(['Portuguese White'])]"
      ],
      "execution_count": null,
      "outputs": []
    },
    {
      "cell_type": "code",
      "metadata": {
        "colab": {
          "base_uri": "https://localhost:8080/",
          "height": 279
        },
        "id": "nHo6o2zq95R4",
        "outputId": "00128646-421c-4f78-bf7a-63f308263896"
      },
      "source": [
        "ax = sns.boxplot(x=\"variety\", y=\"price\", data=port_white, palette=\"Set3\")"
      ],
      "execution_count": null,
      "outputs": [
        {
          "output_type": "display_data",
          "data": {
            "image/png": "[encoded data removed]",
            "text/plain": [
              "<Figure size 432x288 with 1 Axes>"
            ]
          },
          "metadata": {
            "tags": [],
            "needs_background": "light"
          }
        }
      ]
    },
    {
      "cell_type": "code",
      "metadata": {
        "id": "na5qtvJ69_5T"
      },
      "source": [
        ""
      ],
      "execution_count": null,
      "outputs": []
    },
    {
      "cell_type": "markdown",
      "metadata": {
        "id": "t8_s58hA5gf4"
      },
      "source": [
        "After realizing that the most produced wines in the Country where the start-up wishes to establish is not on the list of the most produced wines world-wine and therefore they are mostly produced in the aimed country. The price analysis was restricted to the country and region and the other data would be taken as referential."
      ]
    },
    {
      "cell_type": "code",
      "metadata": {
        "id": "U2Fsxm6C5_Pq"
      },
      "source": [
        "\n",
        "portugal_wine = wine_sales[wine_sales['country'] == 'Portugal']"
      ],
      "execution_count": null,
      "outputs": []
    },
    {
      "cell_type": "code",
      "metadata": {
        "id": "vHw1VNIq6B02"
      },
      "source": [
        "\n",
        "new_wines = portugal_wine[portugal_wine['province'] == 'Vinho Verde']"
      ],
      "execution_count": null,
      "outputs": []
    },
    {
      "cell_type": "code",
      "metadata": {
        "id": "SzqMlkvu6HOn"
      },
      "source": [
        "# using an internal quality categorization provided in the dataset with 'Points' a new groupby following the \n",
        "# categorization of the previous dataset 'high', 'medium' and 'low' was applied to the sales dataset.\n",
        "new_wines['points'].value_counts().sort_index(ascending=True)"
      ],
      "execution_count": null,
      "outputs": []
    },
    {
      "cell_type": "code",
      "metadata": {
        "id": "0UflkRew6n1z"
      },
      "source": [
        "new_wines['price'] = new_wines.groupby(['points'], sort=False)['price'].apply(lambda x: x.fillna(x.mean()))"
      ],
      "execution_count": null,
      "outputs": []
    },
    {
      "cell_type": "code",
      "metadata": {
        "id": "RFhPk0JD6r-Y"
      },
      "source": [
        "q_low = new_wines[\"price\"].quantile(0.25)\n",
        "q_hi  = new_wines[\"price\"].quantile(0.75)\n",
        "\n",
        "new_wines_filtered = new_wines[(new_wines[\"price\"] < q_hi) & (new_wines[\"price\"] > q_low)]"
      ],
      "execution_count": null,
      "outputs": []
    },
    {
      "cell_type": "code",
      "metadata": {
        "id": "ZwiDqkVL6wmO"
      },
      "source": [
        "new_wines_filtered['price'].value_counts(bins=3).sort_index(ascending=True)"
      ],
      "execution_count": null,
      "outputs": []
    },
    {
      "cell_type": "code",
      "metadata": {
        "id": "GL_1QFJ063Qy"
      },
      "source": [
        "# The latter new quality and price categorization from the sales data was applied to the previous dataset \n",
        "# containing red and white wines composition\n"
      ],
      "execution_count": null,
      "outputs": []
    },
    {
      "cell_type": "code",
      "metadata": {
        "id": "Zf8-KKNt7FOi"
      },
      "source": [
        "red_wine = pd.read_csv('https://archive.ics.uci.edu/ml/machine-learning-databases/wine-quality/winequality-red.csv', sep = ';')\n",
        "red_wine['wine_type'] = 'red'\n",
        "red_wine['quality_label'] = red_wine['quality'].apply(lambda value: 'low'\n",
        "if value <= 5 else 'medium'\n",
        "if value <= 7 else 'high')\n",
        "red_wine['quality_label'] = pd.Categorical(red_wine['quality_label'],\n",
        "categories=['low', 'medium', 'high'])\n",
        "\n",
        "white_wine = pd.read_csv('https://archive.ics.uci.edu/ml/machine-learning-databases/wine-quality/winequality-white.csv', sep = ';')\n",
        "white_wine['wine_type'] = 'white'\n",
        "white_wine['quality_label'] = white_wine['quality'].apply(lambda value: 'low'\n",
        "if value <= 5 else 'medium'\n",
        "if value <= 7 else 'high')\n",
        "white_wine['quality_label'] = pd.Categorical(white_wine['quality_label'],\n",
        "categories=['low', 'medium', 'high'])\n",
        "\n",
        "wines = pd.concat([red_wine, white_wine])"
      ],
      "execution_count": null,
      "outputs": []
    },
    {
      "cell_type": "code",
      "metadata": {
        "id": "xvPyzpcj7H0T"
      },
      "source": [
        "wines['price'] = wines['quality_label'].apply(lambda value: '8.294, 9.816'\n",
        "if value == 'low' else '9.816, 11.332'\n",
        "if value == 'medium' else '11.332, 12.848')"
      ],
      "execution_count": null,
      "outputs": []
    },
    {
      "cell_type": "code",
      "metadata": {
        "id": "_kRrToZ_7LRQ"
      },
      "source": [
        "# Heatmap\n",
        "\n",
        "import matplotlib.pyplot as plt\n",
        "import seaborn as sns\n",
        "corr = white_wine.corr()\n",
        "\n",
        "plt.figure(figsize=(12, 10))\n",
        "sns.heatmap(corr, annot=True, vmin=-1.0, vmax=1.0)\n",
        "plt.show()"
      ],
      "execution_count": null,
      "outputs": []
    }
  ]
}