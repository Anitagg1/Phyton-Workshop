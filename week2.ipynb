{
 "metadata": {
  "language_info": {
   "codemirror_mode": {
    "name": "ipython",
    "version": 3
   },
   "file_extension": ".py",
   "mimetype": "text/x-python",
   "name": "python",
   "nbconvert_exporter": "python",
   "pygments_lexer": "ipython3",
   "version": "3.8.5-final"
  },
  "orig_nbformat": 2,
  "kernelspec": {
   "name": "python3",
   "display_name": "Python 3",
   "language": "python"
  }
 },
 "nbformat": 4,
 "nbformat_minor": 2,
 "cells": [
  {
   "cell_type": "code",
   "execution_count": 11,
   "metadata": {},
   "outputs": [],
   "source": [
    "import numpy as np"
   ]
  },
  {
   "cell_type": "code",
   "execution_count": 15,
   "metadata": {},
   "outputs": [
    {
     "output_type": "stream",
     "name": "stdout",
     "text": [
      "<class 'numpy.ndarray'>\n(3,)\n"
     ]
    }
   ],
   "source": [
    "a = np.array([1, 2, 3])\n",
    "print(type(a)) \n",
    "print(a.shape)"
   ]
  },
  {
   "cell_type": "code",
   "execution_count": 17,
   "metadata": {},
   "outputs": [
    {
     "output_type": "stream",
     "name": "stdout",
     "text": [
      "[1 2 3 4]\n"
     ]
    }
   ],
   "source": [
    "array_A = np.array([1, 2, 3, 4])\n",
    "\n",
    "print(array_A)"
   ]
  },
  {
   "cell_type": "code",
   "execution_count": 22,
   "metadata": {},
   "outputs": [
    {
     "output_type": "stream",
     "name": "stdout",
     "text": [
      "[[0. 0.]\n [0. 0.]]\n"
     ]
    }
   ],
   "source": [
    "a = np.zeros((2,2))\n",
    "print(a)"
   ]
  },
  {
   "cell_type": "code",
   "execution_count": 3,
   "metadata": {},
   "outputs": [
    {
     "output_type": "execute_result",
     "data": {
      "text/plain": [
       "array([[ 1,  2,  3,  4],\n",
       "       [ 5,  6,  7,  8],\n",
       "       [ 9, 10, 11, 12]])"
      ]
     },
     "metadata": {},
     "execution_count": 3
    }
   ],
   "source": [
    "import numpy as np\n",
    "a = np.array([[1,2,3,4], [5,6,7,8], [9,10,11,12]])\n",
    "a.reshape(3,4)"
   ]
  },
  {
   "cell_type": "code",
   "execution_count": 5,
   "metadata": {},
   "outputs": [
    {
     "output_type": "stream",
     "name": "stdout",
     "text": [
      "[[2 3]\n [6 7]]\n"
     ]
    }
   ],
   "source": [
    "b = a[:2, 1:3]\n",
    "print(b)"
   ]
  },
  {
   "cell_type": "code",
   "execution_count": 3,
   "metadata": {},
   "outputs": [
    {
     "output_type": "stream",
     "name": "stdout",
     "text": [
      "                                  Film    Genre            Lead Studio  \\\n0           Zack and Miri Make a Porno  Romance  The Weinstein Company   \n1                      Youth in Revolt   Comedy  The Weinstein Company   \n2   You Will Meet a Tall Dark Stranger   Comedy            Independent   \n3                         When in Rome   Comedy                 Disney   \n4                What Happens in Vegas   Comedy                    Fox   \n..                                 ...      ...                    ...   \n72                 Across the Universe  romance            Independent   \n73                       A Serious Man    Drama              Universal   \n74                  A Dangerous Method    Drama            Independent   \n75                          27 Dresses   Comedy                    Fox   \n76                (500) Days of Summer   comedy                    Fox   \n\n    Audience score %  Profitability  Rotten Tomatoes % Worldwide Gross  Year  \n0                 70       1.747542                 64         $41.94   2008  \n1                 52       1.090000                 68         $19.62   2010  \n2                 35       1.211818                 43         $26.66   2010  \n3                 44       0.000000                 15         $43.04   2010  \n4                 72       6.267647                 28        $219.37   2008  \n..               ...            ...                ...             ...   ...  \n72                84       0.652603                 54         $29.37   2007  \n73                64       4.382857                 89         $30.68   2009  \n74                89       0.448645                 79          $8.97   2011  \n75                71       5.343622                 40        $160.31   2008  \n76                81       8.096000                 87         $60.72   2009  \n\n[77 rows x 8 columns]\n"
     ]
    }
   ],
   "source": [
    "import pandas as pd\n",
    "\n",
    "movies = pd.read_csv ('https://gist.githubusercontent.com/tiangechen/b68782efa49a16edaf07dc2cdaa855ea/raw/0c794a9717f18b094eabab2cd6a6b9a226903577/movies.csv')\n",
    "\n",
    "print(movies)"
   ]
  },
  {
   "cell_type": "code",
   "execution_count": 8,
   "metadata": {},
   "outputs": [
    {
     "output_type": "execute_result",
     "data": {
      "text/plain": [
       "                                   Film      Genre            Lead Studio  \\\n",
       "0            Zack and Miri Make a Porno    Romance  The Weinstein Company   \n",
       "1                       Youth in Revolt     Comedy  The Weinstein Company   \n",
       "2    You Will Meet a Tall Dark Stranger     Comedy            Independent   \n",
       "3                          When in Rome     Comedy                 Disney   \n",
       "4                 What Happens in Vegas     Comedy                    Fox   \n",
       "5                   Water For Elephants      Drama       20th Century Fox   \n",
       "6                                WALL-E  Animation                 Disney   \n",
       "7                              Waitress    Romance            Independent   \n",
       "8                   Waiting For Forever    Romance            Independent   \n",
       "9                       Valentine's Day     Comedy           Warner Bros.   \n",
       "10  Tyler Perry's Why Did I get Married    Romance            Independent   \n",
       "\n",
       "    Audience score %  Profitability  Rotten Tomatoes % Worldwide Gross  Year  \n",
       "0                 70       1.747542                 64         $41.94   2008  \n",
       "1                 52       1.090000                 68         $19.62   2010  \n",
       "2                 35       1.211818                 43         $26.66   2010  \n",
       "3                 44       0.000000                 15         $43.04   2010  \n",
       "4                 72       6.267647                 28        $219.37   2008  \n",
       "5                 72       3.081421                 60        $117.09   2011  \n",
       "6                 89       2.896019                 96        $521.28   2008  \n",
       "7                 67      11.089741                 89         $22.18   2007  \n",
       "8                 53       0.005000                  6          $0.03   2011  \n",
       "9                 54       4.184038                 17        $217.57   2010  \n",
       "10                47       3.724192                 46         $55.86   2007  "
      ],
      "text/html": "<div>\n<style scoped>\n    .dataframe tbody tr th:only-of-type {\n        vertical-align: middle;\n    }\n\n    .dataframe tbody tr th {\n        vertical-align: top;\n    }\n\n    .dataframe thead th {\n        text-align: right;\n    }\n</style>\n<table border=\"1\" class=\"dataframe\">\n  <thead>\n    <tr style=\"text-align: right;\">\n      <th></th>\n      <th>Film</th>\n      <th>Genre</th>\n      <th>Lead Studio</th>\n      <th>Audience score %</th>\n      <th>Profitability</th>\n      <th>Rotten Tomatoes %</th>\n      <th>Worldwide Gross</th>\n      <th>Year</th>\n    </tr>\n  </thead>\n  <tbody>\n    <tr>\n      <th>0</th>\n      <td>Zack and Miri Make a Porno</td>\n      <td>Romance</td>\n      <td>The Weinstein Company</td>\n      <td>70</td>\n      <td>1.747542</td>\n      <td>64</td>\n      <td>$41.94</td>\n      <td>2008</td>\n    </tr>\n    <tr>\n      <th>1</th>\n      <td>Youth in Revolt</td>\n      <td>Comedy</td>\n      <td>The Weinstein Company</td>\n      <td>52</td>\n      <td>1.090000</td>\n      <td>68</td>\n      <td>$19.62</td>\n      <td>2010</td>\n    </tr>\n    <tr>\n      <th>2</th>\n      <td>You Will Meet a Tall Dark Stranger</td>\n      <td>Comedy</td>\n      <td>Independent</td>\n      <td>35</td>\n      <td>1.211818</td>\n      <td>43</td>\n      <td>$26.66</td>\n      <td>2010</td>\n    </tr>\n    <tr>\n      <th>3</th>\n      <td>When in Rome</td>\n      <td>Comedy</td>\n      <td>Disney</td>\n      <td>44</td>\n      <td>0.000000</td>\n      <td>15</td>\n      <td>$43.04</td>\n      <td>2010</td>\n    </tr>\n    <tr>\n      <th>4</th>\n      <td>What Happens in Vegas</td>\n      <td>Comedy</td>\n      <td>Fox</td>\n      <td>72</td>\n      <td>6.267647</td>\n      <td>28</td>\n      <td>$219.37</td>\n      <td>2008</td>\n    </tr>\n    <tr>\n      <th>5</th>\n      <td>Water For Elephants</td>\n      <td>Drama</td>\n      <td>20th Century Fox</td>\n      <td>72</td>\n      <td>3.081421</td>\n      <td>60</td>\n      <td>$117.09</td>\n      <td>2011</td>\n    </tr>\n    <tr>\n      <th>6</th>\n      <td>WALL-E</td>\n      <td>Animation</td>\n      <td>Disney</td>\n      <td>89</td>\n      <td>2.896019</td>\n      <td>96</td>\n      <td>$521.28</td>\n      <td>2008</td>\n    </tr>\n    <tr>\n      <th>7</th>\n      <td>Waitress</td>\n      <td>Romance</td>\n      <td>Independent</td>\n      <td>67</td>\n      <td>11.089741</td>\n      <td>89</td>\n      <td>$22.18</td>\n      <td>2007</td>\n    </tr>\n    <tr>\n      <th>8</th>\n      <td>Waiting For Forever</td>\n      <td>Romance</td>\n      <td>Independent</td>\n      <td>53</td>\n      <td>0.005000</td>\n      <td>6</td>\n      <td>$0.03</td>\n      <td>2011</td>\n    </tr>\n    <tr>\n      <th>9</th>\n      <td>Valentine's Day</td>\n      <td>Comedy</td>\n      <td>Warner Bros.</td>\n      <td>54</td>\n      <td>4.184038</td>\n      <td>17</td>\n      <td>$217.57</td>\n      <td>2010</td>\n    </tr>\n    <tr>\n      <th>10</th>\n      <td>Tyler Perry's Why Did I get Married</td>\n      <td>Romance</td>\n      <td>Independent</td>\n      <td>47</td>\n      <td>3.724192</td>\n      <td>46</td>\n      <td>$55.86</td>\n      <td>2007</td>\n    </tr>\n  </tbody>\n</table>\n</div>"
     },
     "metadata": {},
     "execution_count": 8
    }
   ],
   "source": [
    "# print the first 10 records\n",
    "movies.loc[0:10,:]"
   ]
  },
  {
   "cell_type": "code",
   "execution_count": 9,
   "metadata": {},
   "outputs": [
    {
     "output_type": "stream",
     "name": "stdout",
     "text": [
      "Film                  object\nGenre                 object\nLead Studio           object\nAudience score %       int64\nProfitability        float64\nRotten Tomatoes %      int64\nWorldwide Gross       object\nYear                   int64\ndtype: object\n"
     ]
    }
   ],
   "source": [
    "#What are the data types of the columns\n",
    "\n",
    "print(movies.dtypes)\n"
   ]
  },
  {
   "cell_type": "code",
   "execution_count": 15,
   "metadata": {},
   "outputs": [
    {
     "output_type": "execute_result",
     "data": {
      "text/plain": [
       "Comedy       41\n",
       "Romance      13\n",
       "Drama        13\n",
       "Animation     4\n",
       "Action        1\n",
       "Fantasy       1\n",
       "comedy        1\n",
       "Romence       1\n",
       "romance       1\n",
       "Comdy         1\n",
       "Name: Genre, dtype: int64"
      ]
     },
     "metadata": {},
     "execution_count": 15
    }
   ],
   "source": [
    "#Count of Animation movies\n",
    "\n",
    "movies['Genre'].value_counts()"
   ]
  },
  {
   "cell_type": "code",
   "execution_count": 16,
   "metadata": {},
   "outputs": [
    {
     "output_type": "execute_result",
     "data": {
      "text/plain": [
       "4"
      ]
     },
     "metadata": {},
     "execution_count": 16
    }
   ],
   "source": [
    "movies.Genre.value_counts()['Animation']"
   ]
  },
  {
   "cell_type": "code",
   "execution_count": 23,
   "metadata": {},
   "outputs": [
    {
     "output_type": "execute_result",
     "data": {
      "text/plain": [
       "                  Film   Genre   Lead Studio  Audience score %  Profitability  \\\n",
       "18  The Heartbreak Kid  Comedy     Paramount                41       2.129444   \n",
       "36     No Reservations  Comedy  Warner Bros.                64       3.307180   \n",
       "51      License to Wed  Comedy  Warner Bros.                55       1.980206   \n",
       "54          Knocked Up  Comedy     Universal                83       6.636402   \n",
       "62     Good Luck Chuck  Comedy     Lionsgate                61       2.367685   \n",
       "69           Enchanted  Comedy        Disney                80       4.005737   \n",
       "\n",
       "    Rotten Tomatoes % Worldwide Gross  Year  \n",
       "18                 30        $127.77   2007  \n",
       "36                 39         $92.60   2007  \n",
       "51                  8         $69.31   2007  \n",
       "54                 91           $219   2007  \n",
       "62                  3         $59.19   2007  \n",
       "69                 93        $340.49   2007  "
      ],
      "text/html": "<div>\n<style scoped>\n    .dataframe tbody tr th:only-of-type {\n        vertical-align: middle;\n    }\n\n    .dataframe tbody tr th {\n        vertical-align: top;\n    }\n\n    .dataframe thead th {\n        text-align: right;\n    }\n</style>\n<table border=\"1\" class=\"dataframe\">\n  <thead>\n    <tr style=\"text-align: right;\">\n      <th></th>\n      <th>Film</th>\n      <th>Genre</th>\n      <th>Lead Studio</th>\n      <th>Audience score %</th>\n      <th>Profitability</th>\n      <th>Rotten Tomatoes %</th>\n      <th>Worldwide Gross</th>\n      <th>Year</th>\n    </tr>\n  </thead>\n  <tbody>\n    <tr>\n      <th>18</th>\n      <td>The Heartbreak Kid</td>\n      <td>Comedy</td>\n      <td>Paramount</td>\n      <td>41</td>\n      <td>2.129444</td>\n      <td>30</td>\n      <td>$127.77</td>\n      <td>2007</td>\n    </tr>\n    <tr>\n      <th>36</th>\n      <td>No Reservations</td>\n      <td>Comedy</td>\n      <td>Warner Bros.</td>\n      <td>64</td>\n      <td>3.307180</td>\n      <td>39</td>\n      <td>$92.60</td>\n      <td>2007</td>\n    </tr>\n    <tr>\n      <th>51</th>\n      <td>License to Wed</td>\n      <td>Comedy</td>\n      <td>Warner Bros.</td>\n      <td>55</td>\n      <td>1.980206</td>\n      <td>8</td>\n      <td>$69.31</td>\n      <td>2007</td>\n    </tr>\n    <tr>\n      <th>54</th>\n      <td>Knocked Up</td>\n      <td>Comedy</td>\n      <td>Universal</td>\n      <td>83</td>\n      <td>6.636402</td>\n      <td>91</td>\n      <td>$219</td>\n      <td>2007</td>\n    </tr>\n    <tr>\n      <th>62</th>\n      <td>Good Luck Chuck</td>\n      <td>Comedy</td>\n      <td>Lionsgate</td>\n      <td>61</td>\n      <td>2.367685</td>\n      <td>3</td>\n      <td>$59.19</td>\n      <td>2007</td>\n    </tr>\n    <tr>\n      <th>69</th>\n      <td>Enchanted</td>\n      <td>Comedy</td>\n      <td>Disney</td>\n      <td>80</td>\n      <td>4.005737</td>\n      <td>93</td>\n      <td>$340.49</td>\n      <td>2007</td>\n    </tr>\n  </tbody>\n</table>\n</div>"
     },
     "metadata": {},
     "execution_count": 23
    }
   ],
   "source": [
    "#Show the Comedy movies in the year 2007\n",
    "movies[(movies['Year'] == 2007) & (movies['Genre'] == 'Comedy')] "
   ]
  },
  {
   "cell_type": "code",
   "execution_count": 32,
   "metadata": {},
   "outputs": [
    {
     "output_type": "execute_result",
     "data": {
      "text/plain": [
       "       Film      Genre Lead Studio  Audience score %  Profitability  \\\n",
       "6    WALL-E  Animation      Disney                89       2.896019   \n",
       "22  Tangled  Animation      Disney                88       1.365692   \n",
       "\n",
       "    Rotten Tomatoes % Worldwide Gross  Year  \n",
       "6                  96        $521.28   2008  \n",
       "22                 89        $355.01   2010  "
      ],
      "text/html": "<div>\n<style scoped>\n    .dataframe tbody tr th:only-of-type {\n        vertical-align: middle;\n    }\n\n    .dataframe tbody tr th {\n        vertical-align: top;\n    }\n\n    .dataframe thead th {\n        text-align: right;\n    }\n</style>\n<table border=\"1\" class=\"dataframe\">\n  <thead>\n    <tr style=\"text-align: right;\">\n      <th></th>\n      <th>Film</th>\n      <th>Genre</th>\n      <th>Lead Studio</th>\n      <th>Audience score %</th>\n      <th>Profitability</th>\n      <th>Rotten Tomatoes %</th>\n      <th>Worldwide Gross</th>\n      <th>Year</th>\n    </tr>\n  </thead>\n  <tbody>\n    <tr>\n      <th>6</th>\n      <td>WALL-E</td>\n      <td>Animation</td>\n      <td>Disney</td>\n      <td>89</td>\n      <td>2.896019</td>\n      <td>96</td>\n      <td>$521.28</td>\n      <td>2008</td>\n    </tr>\n    <tr>\n      <th>22</th>\n      <td>Tangled</td>\n      <td>Animation</td>\n      <td>Disney</td>\n      <td>88</td>\n      <td>1.365692</td>\n      <td>89</td>\n      <td>$355.01</td>\n      <td>2010</td>\n    </tr>\n  </tbody>\n</table>\n</div>"
     },
     "metadata": {},
     "execution_count": 32
    }
   ],
   "source": [
    "#Count of Animation movies with more than 70% Audience Score\n",
    "\n",
    "movies[(movies['Audience score %'] > 70) & (movies['Genre'] == 'Animation') ]"
   ]
  },
  {
   "cell_type": "code",
   "execution_count": 5,
   "metadata": {},
   "outputs": [
    {
     "output_type": "execute_result",
     "data": {
      "text/plain": [
       "                                  Film    Genre  Lead Studio  \\\n",
       "68                           Fireproof    Drama  Independent   \n",
       "60  High School Musical 3: Senior Year   Comedy       Disney   \n",
       "14         The Twilight Saga: New Moon    Drama       Summit   \n",
       "7                             Waitress  Romance  Independent   \n",
       "12                            Twilight  Romance       Summit   \n",
       "\n",
       "    Audience score %  Profitability  Rotten Tomatoes % Worldwide Gross  Year  \n",
       "68                51      66.934000                 40         $33.47   2008  \n",
       "60                76      22.913136                 65        $252.04   2008  \n",
       "14                78      14.196400                 27        $709.82   2009  \n",
       "7                 67      11.089741                 89         $22.18   2007  \n",
       "12                82      10.180027                 49        $376.66   2008  "
      ],
      "text/html": "<div>\n<style scoped>\n    .dataframe tbody tr th:only-of-type {\n        vertical-align: middle;\n    }\n\n    .dataframe tbody tr th {\n        vertical-align: top;\n    }\n\n    .dataframe thead th {\n        text-align: right;\n    }\n</style>\n<table border=\"1\" class=\"dataframe\">\n  <thead>\n    <tr style=\"text-align: right;\">\n      <th></th>\n      <th>Film</th>\n      <th>Genre</th>\n      <th>Lead Studio</th>\n      <th>Audience score %</th>\n      <th>Profitability</th>\n      <th>Rotten Tomatoes %</th>\n      <th>Worldwide Gross</th>\n      <th>Year</th>\n    </tr>\n  </thead>\n  <tbody>\n    <tr>\n      <th>68</th>\n      <td>Fireproof</td>\n      <td>Drama</td>\n      <td>Independent</td>\n      <td>51</td>\n      <td>66.934000</td>\n      <td>40</td>\n      <td>$33.47</td>\n      <td>2008</td>\n    </tr>\n    <tr>\n      <th>60</th>\n      <td>High School Musical 3: Senior Year</td>\n      <td>Comedy</td>\n      <td>Disney</td>\n      <td>76</td>\n      <td>22.913136</td>\n      <td>65</td>\n      <td>$252.04</td>\n      <td>2008</td>\n    </tr>\n    <tr>\n      <th>14</th>\n      <td>The Twilight Saga: New Moon</td>\n      <td>Drama</td>\n      <td>Summit</td>\n      <td>78</td>\n      <td>14.196400</td>\n      <td>27</td>\n      <td>$709.82</td>\n      <td>2009</td>\n    </tr>\n    <tr>\n      <th>7</th>\n      <td>Waitress</td>\n      <td>Romance</td>\n      <td>Independent</td>\n      <td>67</td>\n      <td>11.089741</td>\n      <td>89</td>\n      <td>$22.18</td>\n      <td>2007</td>\n    </tr>\n    <tr>\n      <th>12</th>\n      <td>Twilight</td>\n      <td>Romance</td>\n      <td>Summit</td>\n      <td>82</td>\n      <td>10.180027</td>\n      <td>49</td>\n      <td>$376.66</td>\n      <td>2008</td>\n    </tr>\n  </tbody>\n</table>\n</div>"
     },
     "metadata": {},
     "execution_count": 5
    }
   ],
   "source": [
    "#Show the list of top 5 movies based on profitability\n",
    "# Question, how to show only 5?\n",
    "import pandas as pd\n",
    "\n",
    "movies = pd.read_csv ('https://gist.githubusercontent.com/tiangechen/b68782efa49a16edaf07dc2cdaa855ea/raw/0c794a9717f18b094eabab2cd6a6b9a226903577/movies.csv')\n",
    "movies.sort_values(by = 'Profitability', ascending = False ).head(5)"
   ]
  },
  {
   "cell_type": "code",
   "execution_count": 6,
   "metadata": {},
   "outputs": [
    {
     "output_type": "execute_result",
     "data": {
      "text/plain": [
       "                    Film      Genre            Lead Studio  Audience score %  \\\n",
       "74    A Dangerous Method      Drama            Independent                89   \n",
       "6                 WALL-E  Animation                 Disney                89   \n",
       "22               Tangled  Animation                 Disney                88   \n",
       "39  My Week with Marilyn      Drama  The Weinstein Company                84   \n",
       "72   Across the Universe    romance            Independent                84   \n",
       "\n",
       "    Profitability  Rotten Tomatoes % Worldwide Gross  Year  \n",
       "74       0.448645                 79          $8.97   2011  \n",
       "6        2.896019                 96        $521.28   2008  \n",
       "22       1.365692                 89        $355.01   2010  \n",
       "39       0.825800                 83          $8.26   2011  \n",
       "72       0.652603                 54         $29.37   2007  "
      ],
      "text/html": "<div>\n<style scoped>\n    .dataframe tbody tr th:only-of-type {\n        vertical-align: middle;\n    }\n\n    .dataframe tbody tr th {\n        vertical-align: top;\n    }\n\n    .dataframe thead th {\n        text-align: right;\n    }\n</style>\n<table border=\"1\" class=\"dataframe\">\n  <thead>\n    <tr style=\"text-align: right;\">\n      <th></th>\n      <th>Film</th>\n      <th>Genre</th>\n      <th>Lead Studio</th>\n      <th>Audience score %</th>\n      <th>Profitability</th>\n      <th>Rotten Tomatoes %</th>\n      <th>Worldwide Gross</th>\n      <th>Year</th>\n    </tr>\n  </thead>\n  <tbody>\n    <tr>\n      <th>74</th>\n      <td>A Dangerous Method</td>\n      <td>Drama</td>\n      <td>Independent</td>\n      <td>89</td>\n      <td>0.448645</td>\n      <td>79</td>\n      <td>$8.97</td>\n      <td>2011</td>\n    </tr>\n    <tr>\n      <th>6</th>\n      <td>WALL-E</td>\n      <td>Animation</td>\n      <td>Disney</td>\n      <td>89</td>\n      <td>2.896019</td>\n      <td>96</td>\n      <td>$521.28</td>\n      <td>2008</td>\n    </tr>\n    <tr>\n      <th>22</th>\n      <td>Tangled</td>\n      <td>Animation</td>\n      <td>Disney</td>\n      <td>88</td>\n      <td>1.365692</td>\n      <td>89</td>\n      <td>$355.01</td>\n      <td>2010</td>\n    </tr>\n    <tr>\n      <th>39</th>\n      <td>My Week with Marilyn</td>\n      <td>Drama</td>\n      <td>The Weinstein Company</td>\n      <td>84</td>\n      <td>0.825800</td>\n      <td>83</td>\n      <td>$8.26</td>\n      <td>2011</td>\n    </tr>\n    <tr>\n      <th>72</th>\n      <td>Across the Universe</td>\n      <td>romance</td>\n      <td>Independent</td>\n      <td>84</td>\n      <td>0.652603</td>\n      <td>54</td>\n      <td>$29.37</td>\n      <td>2007</td>\n    </tr>\n  </tbody>\n</table>\n</div>"
     },
     "metadata": {},
     "execution_count": 6
    }
   ],
   "source": [
    "#Show the top 5 Comedy movies approved by the audience\n",
    "# again, I didn't comand the first 5 but only got those, why? \n",
    "movies.sort_values(by = 'Audience score %', ascending = False ).head(5)"
   ]
  },
  {
   "cell_type": "code",
   "execution_count": 14,
   "metadata": {},
   "outputs": [
    {
     "output_type": "execute_result",
     "data": {
      "text/plain": [
       "                                   Film      Genre            Lead Studio  \\\n",
       "4                 What Happens in Vegas     Comedy                    Fox   \n",
       "5                   Water For Elephants      Drama       20th Century Fox   \n",
       "6                                WALL-E  Animation                 Disney   \n",
       "12                             Twilight    Romance                 Summit   \n",
       "14          The Twilight Saga: New Moon      Drama                 Summit   \n",
       "16                         The Proposal     Comedy                 Disney   \n",
       "20  The Curious Case of Benjamin Button    Fantasy           Warner Bros.   \n",
       "22                              Tangled  Animation                 Disney   \n",
       "27                     Sex and the City     Comedy           Warner Bros.   \n",
       "30                             Penelope     Comedy                 Summit   \n",
       "31                      P.S. I Love You    Romance            Independent   \n",
       "39                 My Week with Marilyn      Drama  The Weinstein Company   \n",
       "43                    Midnight in Paris    Romence                   Sony   \n",
       "44                        Marley and Me     Comedy                    Fox   \n",
       "45                           Mamma Mia!     Comedy              Universal   \n",
       "46                           Mamma Mia!     Comedy              Universal   \n",
       "54                           Knocked Up     Comedy              Universal   \n",
       "57                            Jane Eyre    Romance              Universal   \n",
       "60   High School Musical 3: Senior Year     Comedy                 Disney   \n",
       "69                            Enchanted     Comedy                 Disney   \n",
       "71                            Beginners     Comedy            Independent   \n",
       "72                  Across the Universe    romance            Independent   \n",
       "74                   A Dangerous Method      Drama            Independent   \n",
       "75                           27 Dresses     Comedy                    Fox   \n",
       "76                 (500) Days of Summer     comedy                    Fox   \n",
       "\n",
       "    Audience score %  Profitability  Rotten Tomatoes % Worldwide Gross  Year  \n",
       "4                 72       6.267647                 28        $219.37   2008  \n",
       "5                 72       3.081421                 60        $117.09   2011  \n",
       "6                 89       2.896019                 96        $521.28   2008  \n",
       "12                82      10.180027                 49        $376.66   2008  \n",
       "14                78      14.196400                 27        $709.82   2009  \n",
       "16                74       7.867500                 43        $314.70   2009  \n",
       "20                81       1.783944                 73        $285.43   2008  \n",
       "22                88       1.365692                 89        $355.01   2010  \n",
       "27                81       7.221796                 49        $415.25   2008  \n",
       "30                74       1.382800                 52         $20.74   2008  \n",
       "31                82       5.103117                 21        $153.09   2007  \n",
       "39                84       0.825800                 83          $8.26   2011  \n",
       "43                84       8.744706                 93        $148.66   2011  \n",
       "44                77       3.746782                 63        $206.07   2008  \n",
       "45                76       9.234454                 53        $609.47   2008  \n",
       "46                76       9.234454                 53        $609.47   2008  \n",
       "54                83       6.636402                 91           $219   2007  \n",
       "57                77       0.000000                 85         $30.15   2011  \n",
       "60                76      22.913136                 65        $252.04   2008  \n",
       "69                80       4.005737                 93        $340.49   2007  \n",
       "71                80       4.471875                 84         $14.31   2011  \n",
       "72                84       0.652603                 54         $29.37   2007  \n",
       "74                89       0.448645                 79          $8.97   2011  \n",
       "75                71       5.343622                 40        $160.31   2008  \n",
       "76                81       8.096000                 87         $60.72   2009  "
      ],
      "text/html": "<div>\n<style scoped>\n    .dataframe tbody tr th:only-of-type {\n        vertical-align: middle;\n    }\n\n    .dataframe tbody tr th {\n        vertical-align: top;\n    }\n\n    .dataframe thead th {\n        text-align: right;\n    }\n</style>\n<table border=\"1\" class=\"dataframe\">\n  <thead>\n    <tr style=\"text-align: right;\">\n      <th></th>\n      <th>Film</th>\n      <th>Genre</th>\n      <th>Lead Studio</th>\n      <th>Audience score %</th>\n      <th>Profitability</th>\n      <th>Rotten Tomatoes %</th>\n      <th>Worldwide Gross</th>\n      <th>Year</th>\n    </tr>\n  </thead>\n  <tbody>\n    <tr>\n      <th>4</th>\n      <td>What Happens in Vegas</td>\n      <td>Comedy</td>\n      <td>Fox</td>\n      <td>72</td>\n      <td>6.267647</td>\n      <td>28</td>\n      <td>$219.37</td>\n      <td>2008</td>\n    </tr>\n    <tr>\n      <th>5</th>\n      <td>Water For Elephants</td>\n      <td>Drama</td>\n      <td>20th Century Fox</td>\n      <td>72</td>\n      <td>3.081421</td>\n      <td>60</td>\n      <td>$117.09</td>\n      <td>2011</td>\n    </tr>\n    <tr>\n      <th>6</th>\n      <td>WALL-E</td>\n      <td>Animation</td>\n      <td>Disney</td>\n      <td>89</td>\n      <td>2.896019</td>\n      <td>96</td>\n      <td>$521.28</td>\n      <td>2008</td>\n    </tr>\n    <tr>\n      <th>12</th>\n      <td>Twilight</td>\n      <td>Romance</td>\n      <td>Summit</td>\n      <td>82</td>\n      <td>10.180027</td>\n      <td>49</td>\n      <td>$376.66</td>\n      <td>2008</td>\n    </tr>\n    <tr>\n      <th>14</th>\n      <td>The Twilight Saga: New Moon</td>\n      <td>Drama</td>\n      <td>Summit</td>\n      <td>78</td>\n      <td>14.196400</td>\n      <td>27</td>\n      <td>$709.82</td>\n      <td>2009</td>\n    </tr>\n    <tr>\n      <th>16</th>\n      <td>The Proposal</td>\n      <td>Comedy</td>\n      <td>Disney</td>\n      <td>74</td>\n      <td>7.867500</td>\n      <td>43</td>\n      <td>$314.70</td>\n      <td>2009</td>\n    </tr>\n    <tr>\n      <th>20</th>\n      <td>The Curious Case of Benjamin Button</td>\n      <td>Fantasy</td>\n      <td>Warner Bros.</td>\n      <td>81</td>\n      <td>1.783944</td>\n      <td>73</td>\n      <td>$285.43</td>\n      <td>2008</td>\n    </tr>\n    <tr>\n      <th>22</th>\n      <td>Tangled</td>\n      <td>Animation</td>\n      <td>Disney</td>\n      <td>88</td>\n      <td>1.365692</td>\n      <td>89</td>\n      <td>$355.01</td>\n      <td>2010</td>\n    </tr>\n    <tr>\n      <th>27</th>\n      <td>Sex and the City</td>\n      <td>Comedy</td>\n      <td>Warner Bros.</td>\n      <td>81</td>\n      <td>7.221796</td>\n      <td>49</td>\n      <td>$415.25</td>\n      <td>2008</td>\n    </tr>\n    <tr>\n      <th>30</th>\n      <td>Penelope</td>\n      <td>Comedy</td>\n      <td>Summit</td>\n      <td>74</td>\n      <td>1.382800</td>\n      <td>52</td>\n      <td>$20.74</td>\n      <td>2008</td>\n    </tr>\n    <tr>\n      <th>31</th>\n      <td>P.S. I Love You</td>\n      <td>Romance</td>\n      <td>Independent</td>\n      <td>82</td>\n      <td>5.103117</td>\n      <td>21</td>\n      <td>$153.09</td>\n      <td>2007</td>\n    </tr>\n    <tr>\n      <th>39</th>\n      <td>My Week with Marilyn</td>\n      <td>Drama</td>\n      <td>The Weinstein Company</td>\n      <td>84</td>\n      <td>0.825800</td>\n      <td>83</td>\n      <td>$8.26</td>\n      <td>2011</td>\n    </tr>\n    <tr>\n      <th>43</th>\n      <td>Midnight in Paris</td>\n      <td>Romence</td>\n      <td>Sony</td>\n      <td>84</td>\n      <td>8.744706</td>\n      <td>93</td>\n      <td>$148.66</td>\n      <td>2011</td>\n    </tr>\n    <tr>\n      <th>44</th>\n      <td>Marley and Me</td>\n      <td>Comedy</td>\n      <td>Fox</td>\n      <td>77</td>\n      <td>3.746782</td>\n      <td>63</td>\n      <td>$206.07</td>\n      <td>2008</td>\n    </tr>\n    <tr>\n      <th>45</th>\n      <td>Mamma Mia!</td>\n      <td>Comedy</td>\n      <td>Universal</td>\n      <td>76</td>\n      <td>9.234454</td>\n      <td>53</td>\n      <td>$609.47</td>\n      <td>2008</td>\n    </tr>\n    <tr>\n      <th>46</th>\n      <td>Mamma Mia!</td>\n      <td>Comedy</td>\n      <td>Universal</td>\n      <td>76</td>\n      <td>9.234454</td>\n      <td>53</td>\n      <td>$609.47</td>\n      <td>2008</td>\n    </tr>\n    <tr>\n      <th>54</th>\n      <td>Knocked Up</td>\n      <td>Comedy</td>\n      <td>Universal</td>\n      <td>83</td>\n      <td>6.636402</td>\n      <td>91</td>\n      <td>$219</td>\n      <td>2007</td>\n    </tr>\n    <tr>\n      <th>57</th>\n      <td>Jane Eyre</td>\n      <td>Romance</td>\n      <td>Universal</td>\n      <td>77</td>\n      <td>0.000000</td>\n      <td>85</td>\n      <td>$30.15</td>\n      <td>2011</td>\n    </tr>\n    <tr>\n      <th>60</th>\n      <td>High School Musical 3: Senior Year</td>\n      <td>Comedy</td>\n      <td>Disney</td>\n      <td>76</td>\n      <td>22.913136</td>\n      <td>65</td>\n      <td>$252.04</td>\n      <td>2008</td>\n    </tr>\n    <tr>\n      <th>69</th>\n      <td>Enchanted</td>\n      <td>Comedy</td>\n      <td>Disney</td>\n      <td>80</td>\n      <td>4.005737</td>\n      <td>93</td>\n      <td>$340.49</td>\n      <td>2007</td>\n    </tr>\n    <tr>\n      <th>71</th>\n      <td>Beginners</td>\n      <td>Comedy</td>\n      <td>Independent</td>\n      <td>80</td>\n      <td>4.471875</td>\n      <td>84</td>\n      <td>$14.31</td>\n      <td>2011</td>\n    </tr>\n    <tr>\n      <th>72</th>\n      <td>Across the Universe</td>\n      <td>romance</td>\n      <td>Independent</td>\n      <td>84</td>\n      <td>0.652603</td>\n      <td>54</td>\n      <td>$29.37</td>\n      <td>2007</td>\n    </tr>\n    <tr>\n      <th>74</th>\n      <td>A Dangerous Method</td>\n      <td>Drama</td>\n      <td>Independent</td>\n      <td>89</td>\n      <td>0.448645</td>\n      <td>79</td>\n      <td>$8.97</td>\n      <td>2011</td>\n    </tr>\n    <tr>\n      <th>75</th>\n      <td>27 Dresses</td>\n      <td>Comedy</td>\n      <td>Fox</td>\n      <td>71</td>\n      <td>5.343622</td>\n      <td>40</td>\n      <td>$160.31</td>\n      <td>2008</td>\n    </tr>\n    <tr>\n      <th>76</th>\n      <td>(500) Days of Summer</td>\n      <td>comedy</td>\n      <td>Fox</td>\n      <td>81</td>\n      <td>8.096000</td>\n      <td>87</td>\n      <td>$60.72</td>\n      <td>2009</td>\n    </tr>\n  </tbody>\n</table>\n</div>"
     },
     "metadata": {},
     "execution_count": 14
    }
   ],
   "source": [
    "import pandas as pd\n",
    "\n",
    "movies = pd.read_csv ('https://gist.githubusercontent.com/tiangechen/b68782efa49a16edaf07dc2cdaa855ea/raw/0c794a9717f18b094eabab2cd6a6b9a226903577/movies.csv')\n",
    "\n",
    "movies[movies['Audience score %'] > 70 ] \n"
   ]
  },
  {
   "cell_type": "code",
   "execution_count": 17,
   "metadata": {},
   "outputs": [
    {
     "output_type": "execute_result",
     "data": {
      "text/plain": [
       "                                  Film      Genre Lead Studio  \\\n",
       "6                               WALL-E  Animation      Disney   \n",
       "16                        The Proposal     Comedy      Disney   \n",
       "22                             Tangled  Animation      Disney   \n",
       "60  High School Musical 3: Senior Year     Comedy      Disney   \n",
       "69                           Enchanted     Comedy      Disney   \n",
       "\n",
       "    Audience score %  Profitability  Rotten Tomatoes % Worldwide Gross  Year  \n",
       "6                 89       2.896019                 96        $521.28   2008  \n",
       "16                74       7.867500                 43        $314.70   2009  \n",
       "22                88       1.365692                 89        $355.01   2010  \n",
       "60                76      22.913136                 65        $252.04   2008  \n",
       "69                80       4.005737                 93        $340.49   2007  "
      ],
      "text/html": "<div>\n<style scoped>\n    .dataframe tbody tr th:only-of-type {\n        vertical-align: middle;\n    }\n\n    .dataframe tbody tr th {\n        vertical-align: top;\n    }\n\n    .dataframe thead th {\n        text-align: right;\n    }\n</style>\n<table border=\"1\" class=\"dataframe\">\n  <thead>\n    <tr style=\"text-align: right;\">\n      <th></th>\n      <th>Film</th>\n      <th>Genre</th>\n      <th>Lead Studio</th>\n      <th>Audience score %</th>\n      <th>Profitability</th>\n      <th>Rotten Tomatoes %</th>\n      <th>Worldwide Gross</th>\n      <th>Year</th>\n    </tr>\n  </thead>\n  <tbody>\n    <tr>\n      <th>6</th>\n      <td>WALL-E</td>\n      <td>Animation</td>\n      <td>Disney</td>\n      <td>89</td>\n      <td>2.896019</td>\n      <td>96</td>\n      <td>$521.28</td>\n      <td>2008</td>\n    </tr>\n    <tr>\n      <th>16</th>\n      <td>The Proposal</td>\n      <td>Comedy</td>\n      <td>Disney</td>\n      <td>74</td>\n      <td>7.867500</td>\n      <td>43</td>\n      <td>$314.70</td>\n      <td>2009</td>\n    </tr>\n    <tr>\n      <th>22</th>\n      <td>Tangled</td>\n      <td>Animation</td>\n      <td>Disney</td>\n      <td>88</td>\n      <td>1.365692</td>\n      <td>89</td>\n      <td>$355.01</td>\n      <td>2010</td>\n    </tr>\n    <tr>\n      <th>60</th>\n      <td>High School Musical 3: Senior Year</td>\n      <td>Comedy</td>\n      <td>Disney</td>\n      <td>76</td>\n      <td>22.913136</td>\n      <td>65</td>\n      <td>$252.04</td>\n      <td>2008</td>\n    </tr>\n    <tr>\n      <th>69</th>\n      <td>Enchanted</td>\n      <td>Comedy</td>\n      <td>Disney</td>\n      <td>80</td>\n      <td>4.005737</td>\n      <td>93</td>\n      <td>$340.49</td>\n      <td>2007</td>\n    </tr>\n  </tbody>\n</table>\n</div>"
     },
     "metadata": {},
     "execution_count": 17
    }
   ],
   "source": [
    "movies[(movies['Audience score %'] > 70) & (movies['Lead Studio'] == 'Disney') ]"
   ]
  },
  {
   "cell_type": "code",
   "execution_count": 20,
   "metadata": {},
   "outputs": [
    {
     "output_type": "execute_result",
     "data": {
      "text/plain": [
       "                                  Film      Genre            Lead Studio  \\\n",
       "74                  A Dangerous Method      Drama            Independent   \n",
       "6                               WALL-E  Animation                 Disney   \n",
       "22                             Tangled  Animation                 Disney   \n",
       "39                My Week with Marilyn      Drama  The Weinstein Company   \n",
       "72                 Across the Universe    romance            Independent   \n",
       "..                                 ...        ...                    ...   \n",
       "55                             Killers     Action              Lionsgate   \n",
       "3                         When in Rome     Comedy                 Disney   \n",
       "18                  The Heartbreak Kid     Comedy              Paramount   \n",
       "48                        Love Happens      Drama              Universal   \n",
       "2   You Will Meet a Tall Dark Stranger     Comedy            Independent   \n",
       "\n",
       "    Audience score %  Profitability  Rotten Tomatoes % Worldwide Gross  Year  \n",
       "74                89       0.448645                 79          $8.97   2011  \n",
       "6                 89       2.896019                 96        $521.28   2008  \n",
       "22                88       1.365692                 89        $355.01   2010  \n",
       "39                84       0.825800                 83          $8.26   2011  \n",
       "72                84       0.652603                 54         $29.37   2007  \n",
       "..               ...            ...                ...             ...   ...  \n",
       "55                45       1.245333                 11         $93.40   2010  \n",
       "3                 44       0.000000                 15         $43.04   2010  \n",
       "18                41       2.129444                 30        $127.77   2007  \n",
       "48                40       2.004444                 18         $36.08   2009  \n",
       "2                 35       1.211818                 43         $26.66   2010  \n",
       "\n",
       "[77 rows x 8 columns]"
      ],
      "text/html": "<div>\n<style scoped>\n    .dataframe tbody tr th:only-of-type {\n        vertical-align: middle;\n    }\n\n    .dataframe tbody tr th {\n        vertical-align: top;\n    }\n\n    .dataframe thead th {\n        text-align: right;\n    }\n</style>\n<table border=\"1\" class=\"dataframe\">\n  <thead>\n    <tr style=\"text-align: right;\">\n      <th></th>\n      <th>Film</th>\n      <th>Genre</th>\n      <th>Lead Studio</th>\n      <th>Audience score %</th>\n      <th>Profitability</th>\n      <th>Rotten Tomatoes %</th>\n      <th>Worldwide Gross</th>\n      <th>Year</th>\n    </tr>\n  </thead>\n  <tbody>\n    <tr>\n      <th>74</th>\n      <td>A Dangerous Method</td>\n      <td>Drama</td>\n      <td>Independent</td>\n      <td>89</td>\n      <td>0.448645</td>\n      <td>79</td>\n      <td>$8.97</td>\n      <td>2011</td>\n    </tr>\n    <tr>\n      <th>6</th>\n      <td>WALL-E</td>\n      <td>Animation</td>\n      <td>Disney</td>\n      <td>89</td>\n      <td>2.896019</td>\n      <td>96</td>\n      <td>$521.28</td>\n      <td>2008</td>\n    </tr>\n    <tr>\n      <th>22</th>\n      <td>Tangled</td>\n      <td>Animation</td>\n      <td>Disney</td>\n      <td>88</td>\n      <td>1.365692</td>\n      <td>89</td>\n      <td>$355.01</td>\n      <td>2010</td>\n    </tr>\n    <tr>\n      <th>39</th>\n      <td>My Week with Marilyn</td>\n      <td>Drama</td>\n      <td>The Weinstein Company</td>\n      <td>84</td>\n      <td>0.825800</td>\n      <td>83</td>\n      <td>$8.26</td>\n      <td>2011</td>\n    </tr>\n    <tr>\n      <th>72</th>\n      <td>Across the Universe</td>\n      <td>romance</td>\n      <td>Independent</td>\n      <td>84</td>\n      <td>0.652603</td>\n      <td>54</td>\n      <td>$29.37</td>\n      <td>2007</td>\n    </tr>\n    <tr>\n      <th>...</th>\n      <td>...</td>\n      <td>...</td>\n      <td>...</td>\n      <td>...</td>\n      <td>...</td>\n      <td>...</td>\n      <td>...</td>\n      <td>...</td>\n    </tr>\n    <tr>\n      <th>55</th>\n      <td>Killers</td>\n      <td>Action</td>\n      <td>Lionsgate</td>\n      <td>45</td>\n      <td>1.245333</td>\n      <td>11</td>\n      <td>$93.40</td>\n      <td>2010</td>\n    </tr>\n    <tr>\n      <th>3</th>\n      <td>When in Rome</td>\n      <td>Comedy</td>\n      <td>Disney</td>\n      <td>44</td>\n      <td>0.000000</td>\n      <td>15</td>\n      <td>$43.04</td>\n      <td>2010</td>\n    </tr>\n    <tr>\n      <th>18</th>\n      <td>The Heartbreak Kid</td>\n      <td>Comedy</td>\n      <td>Paramount</td>\n      <td>41</td>\n      <td>2.129444</td>\n      <td>30</td>\n      <td>$127.77</td>\n      <td>2007</td>\n    </tr>\n    <tr>\n      <th>48</th>\n      <td>Love Happens</td>\n      <td>Drama</td>\n      <td>Universal</td>\n      <td>40</td>\n      <td>2.004444</td>\n      <td>18</td>\n      <td>$36.08</td>\n      <td>2009</td>\n    </tr>\n    <tr>\n      <th>2</th>\n      <td>You Will Meet a Tall Dark Stranger</td>\n      <td>Comedy</td>\n      <td>Independent</td>\n      <td>35</td>\n      <td>1.211818</td>\n      <td>43</td>\n      <td>$26.66</td>\n      <td>2010</td>\n    </tr>\n  </tbody>\n</table>\n<p>77 rows × 8 columns</p>\n</div>"
     },
     "metadata": {},
     "execution_count": 20
    }
   ],
   "source": [
    "movies.sort_values(['Audience score %', 'Worldwide Gross'], ascending = [False, False])"
   ]
  },
  {
   "cell_type": "code",
   "execution_count": 21,
   "metadata": {},
   "outputs": [],
   "source": [
    "# Which Genre is favored the most by the Audience ? \n",
    "new = movies.groupby(['Genre']).agg({'Audience score %': ['mean']}).reset_index()\n"
   ]
  },
  {
   "cell_type": "code",
   "execution_count": 22,
   "metadata": {},
   "outputs": [
    {
     "output_type": "stream",
     "name": "stdout",
     "text": [
      "       Genre Audience score %\n                         mean\n0     Action        45.000000\n1  Animation        70.250000\n2      Comdy        61.000000\n3     Comedy        60.975610\n4      Drama        67.230769\n5    Fantasy        81.000000\n6    Romance        62.769231\n7    Romence        84.000000\n8     comedy        81.000000\n9    romance        84.000000\n"
     ]
    }
   ],
   "source": [
    "print(new)"
   ]
  },
  {
   "cell_type": "code",
   "execution_count": 23,
   "metadata": {},
   "outputs": [],
   "source": [
    "#cleaning database\n",
    "movies['Genre'] = movies['Genre'].replace(['Comdy','comedy','Romence','romance'],['Comedy','Comedy','Romance','Romance'])\n"
   ]
  },
  {
   "cell_type": "code",
   "execution_count": 24,
   "metadata": {},
   "outputs": [],
   "source": [
    "new = movies.groupby(['Genre']).agg({'Audience score %': ['mean']}).reset_index()"
   ]
  },
  {
   "cell_type": "code",
   "execution_count": 26,
   "metadata": {},
   "outputs": [
    {
     "output_type": "stream",
     "name": "stdout",
     "text": [
      "       Genre Audience score %\n                         mean\n0     Action        45.000000\n1  Animation        70.250000\n2     Comedy        61.441860\n3      Drama        67.230769\n4    Fantasy        81.000000\n5    Romance        65.600000\n"
     ]
    }
   ],
   "source": [
    "print(new)"
   ]
  },
  {
   "cell_type": "code",
   "execution_count": 33,
   "metadata": {},
   "outputs": [
    {
     "output_type": "execute_result",
     "data": {
      "text/plain": [
       "                 Film      Genre Lead Studio  Audience score %  Profitability  \\\n",
       "6              WALL-E  Animation      Disney                89       2.896019   \n",
       "43  Midnight in Paris    Romance        Sony                84       8.744706   \n",
       "69          Enchanted     Comedy      Disney                80       4.005737   \n",
       "54         Knocked Up     Comedy   Universal                83       6.636402   \n",
       "22            Tangled  Animation      Disney                88       1.365692   \n",
       "\n",
       "    Rotten Tomatoes % Worldwide Gross  Year  \n",
       "6                  96        $521.28   2008  \n",
       "43                 93        $148.66   2011  \n",
       "69                 93        $340.49   2007  \n",
       "54                 91           $219   2007  \n",
       "22                 89        $355.01   2010  "
      ],
      "text/html": "<div>\n<style scoped>\n    .dataframe tbody tr th:only-of-type {\n        vertical-align: middle;\n    }\n\n    .dataframe tbody tr th {\n        vertical-align: top;\n    }\n\n    .dataframe thead th {\n        text-align: right;\n    }\n</style>\n<table border=\"1\" class=\"dataframe\">\n  <thead>\n    <tr style=\"text-align: right;\">\n      <th></th>\n      <th>Film</th>\n      <th>Genre</th>\n      <th>Lead Studio</th>\n      <th>Audience score %</th>\n      <th>Profitability</th>\n      <th>Rotten Tomatoes %</th>\n      <th>Worldwide Gross</th>\n      <th>Year</th>\n    </tr>\n  </thead>\n  <tbody>\n    <tr>\n      <th>6</th>\n      <td>WALL-E</td>\n      <td>Animation</td>\n      <td>Disney</td>\n      <td>89</td>\n      <td>2.896019</td>\n      <td>96</td>\n      <td>$521.28</td>\n      <td>2008</td>\n    </tr>\n    <tr>\n      <th>43</th>\n      <td>Midnight in Paris</td>\n      <td>Romance</td>\n      <td>Sony</td>\n      <td>84</td>\n      <td>8.744706</td>\n      <td>93</td>\n      <td>$148.66</td>\n      <td>2011</td>\n    </tr>\n    <tr>\n      <th>69</th>\n      <td>Enchanted</td>\n      <td>Comedy</td>\n      <td>Disney</td>\n      <td>80</td>\n      <td>4.005737</td>\n      <td>93</td>\n      <td>$340.49</td>\n      <td>2007</td>\n    </tr>\n    <tr>\n      <th>54</th>\n      <td>Knocked Up</td>\n      <td>Comedy</td>\n      <td>Universal</td>\n      <td>83</td>\n      <td>6.636402</td>\n      <td>91</td>\n      <td>$219</td>\n      <td>2007</td>\n    </tr>\n    <tr>\n      <th>22</th>\n      <td>Tangled</td>\n      <td>Animation</td>\n      <td>Disney</td>\n      <td>88</td>\n      <td>1.365692</td>\n      <td>89</td>\n      <td>$355.01</td>\n      <td>2010</td>\n    </tr>\n  </tbody>\n</table>\n</div>"
     },
     "metadata": {},
     "execution_count": 33
    }
   ],
   "source": [
    "# Top 5 movie names by Rotten Tomato Score\n",
    "movies.sort_values(by = 'Rotten Tomatoes %', ascending = False ).head(5) "
   ]
  },
  {
   "cell_type": "code",
   "execution_count": 34,
   "metadata": {},
   "outputs": [
    {
     "output_type": "execute_result",
     "data": {
      "text/plain": [
       "6                WALL-E\n",
       "43    Midnight in Paris\n",
       "69            Enchanted\n",
       "54           Knocked Up\n",
       "22              Tangled\n",
       "Name: Film, dtype: object"
      ]
     },
     "metadata": {},
     "execution_count": 34
    }
   ],
   "source": [
    "movies.sort_values(by = 'Rotten Tomatoes %', ascending = False ).head(5) ['Film']"
   ]
  },
  {
   "cell_type": "code",
   "execution_count": 35,
   "metadata": {},
   "outputs": [
    {
     "output_type": "execute_result",
     "data": {
      "text/plain": [
       "                       Audience score %  Profitability  Rotten Tomatoes %  \\\n",
       "Lead Studio                                                                 \n",
       "20th Century Fox                    122       5.064621                 98   \n",
       "CBS                                  47       2.202571                 20   \n",
       "Disney                              555      49.824029                513   \n",
       "Fox                                 414      27.069134                311   \n",
       "Independent                        1191     118.476823                864   \n",
       "Lionsgate                           106       3.613018                 14   \n",
       "New Line                             47       2.071000                 15   \n",
       "Paramount                           234      10.376000                185   \n",
       "Sony                                278      19.345304                208   \n",
       "Summit                              366      31.889810                196   \n",
       "The Weinstein Company               206       3.663342                215   \n",
       "Universal                           528      35.850227                466   \n",
       "Warner Bros.                        813      44.714343                491   \n",
       "\n",
       "                        Year  \n",
       "Lead Studio                   \n",
       "20th Century Fox        4022  \n",
       "CBS                     2010  \n",
       "Disney                 16074  \n",
       "Fox                    12053  \n",
       "Independent            38176  \n",
       "Lionsgate               4017  \n",
       "New Line                2008  \n",
       "Paramount               8034  \n",
       "Sony                    8037  \n",
       "Summit                 10045  \n",
       "The Weinstein Company   6029  \n",
       "Universal              16071  \n",
       "Warner Bros.           28123  "
      ],
      "text/html": "<div>\n<style scoped>\n    .dataframe tbody tr th:only-of-type {\n        vertical-align: middle;\n    }\n\n    .dataframe tbody tr th {\n        vertical-align: top;\n    }\n\n    .dataframe thead th {\n        text-align: right;\n    }\n</style>\n<table border=\"1\" class=\"dataframe\">\n  <thead>\n    <tr style=\"text-align: right;\">\n      <th></th>\n      <th>Audience score %</th>\n      <th>Profitability</th>\n      <th>Rotten Tomatoes %</th>\n      <th>Year</th>\n    </tr>\n    <tr>\n      <th>Lead Studio</th>\n      <th></th>\n      <th></th>\n      <th></th>\n      <th></th>\n    </tr>\n  </thead>\n  <tbody>\n    <tr>\n      <th>20th Century Fox</th>\n      <td>122</td>\n      <td>5.064621</td>\n      <td>98</td>\n      <td>4022</td>\n    </tr>\n    <tr>\n      <th>CBS</th>\n      <td>47</td>\n      <td>2.202571</td>\n      <td>20</td>\n      <td>2010</td>\n    </tr>\n    <tr>\n      <th>Disney</th>\n      <td>555</td>\n      <td>49.824029</td>\n      <td>513</td>\n      <td>16074</td>\n    </tr>\n    <tr>\n      <th>Fox</th>\n      <td>414</td>\n      <td>27.069134</td>\n      <td>311</td>\n      <td>12053</td>\n    </tr>\n    <tr>\n      <th>Independent</th>\n      <td>1191</td>\n      <td>118.476823</td>\n      <td>864</td>\n      <td>38176</td>\n    </tr>\n    <tr>\n      <th>Lionsgate</th>\n      <td>106</td>\n      <td>3.613018</td>\n      <td>14</td>\n      <td>4017</td>\n    </tr>\n    <tr>\n      <th>New Line</th>\n      <td>47</td>\n      <td>2.071000</td>\n      <td>15</td>\n      <td>2008</td>\n    </tr>\n    <tr>\n      <th>Paramount</th>\n      <td>234</td>\n      <td>10.376000</td>\n      <td>185</td>\n      <td>8034</td>\n    </tr>\n    <tr>\n      <th>Sony</th>\n      <td>278</td>\n      <td>19.345304</td>\n      <td>208</td>\n      <td>8037</td>\n    </tr>\n    <tr>\n      <th>Summit</th>\n      <td>366</td>\n      <td>31.889810</td>\n      <td>196</td>\n      <td>10045</td>\n    </tr>\n    <tr>\n      <th>The Weinstein Company</th>\n      <td>206</td>\n      <td>3.663342</td>\n      <td>215</td>\n      <td>6029</td>\n    </tr>\n    <tr>\n      <th>Universal</th>\n      <td>528</td>\n      <td>35.850227</td>\n      <td>466</td>\n      <td>16071</td>\n    </tr>\n    <tr>\n      <th>Warner Bros.</th>\n      <td>813</td>\n      <td>44.714343</td>\n      <td>491</td>\n      <td>28123</td>\n    </tr>\n  </tbody>\n</table>\n</div>"
     },
     "metadata": {},
     "execution_count": 35
    }
   ],
   "source": [
    "#Most & Least Frequent lead studio in the dataset in terms of occurances.\n",
    "movies.groupby(['Lead Studio']).sum()"
   ]
  },
  {
   "cell_type": "code",
   "execution_count": 40,
   "metadata": {},
   "outputs": [
    {
     "output_type": "stream",
     "name": "stdout",
     "text": [
      "                       Film  Genre  Audience score %  Profitability  \\\nLead Studio                                                           \n20th Century Fox          2      2                 2              2   \nCBS                       1      1                 1              1   \nDisney                    8      8                 8              8   \nFox                       6      6                 6              6   \nIndependent              19     19                19             19   \nLionsgate                 2      2                 2              2   \nNew Line                  1      1                 1              1   \nParamount                 4      4                 4              4   \nSony                      4      4                 4              4   \nSummit                    5      5                 5              5   \nThe Weinstein Company     3      3                 3              3   \nUniversal                 8      8                 8              8   \nWarner Bros.             14     14                14             14   \n\n                       Rotten Tomatoes %  Worldwide Gross  Year  \nLead Studio                                                      \n20th Century Fox                       2                2     2  \nCBS                                    1                1     1  \nDisney                                 8                8     8  \nFox                                    6                6     6  \nIndependent                           19               19    19  \nLionsgate                              2                2     2  \nNew Line                               1                1     1  \nParamount                              4                4     4  \nSony                                   4                4     4  \nSummit                                 5                5     5  \nThe Weinstein Company                  3                3     3  \nUniversal                              8                8     8  \nWarner Bros.                          14               14    14  \n"
     ]
    }
   ],
   "source": [
    "freq = movies.groupby(['Lead Studio']).count() \n",
    "print(freq)"
   ]
  },
  {
   "cell_type": "code",
   "execution_count": null,
   "metadata": {},
   "outputs": [],
   "source": []
  }
 ]
}