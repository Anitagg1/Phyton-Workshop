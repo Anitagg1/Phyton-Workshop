{
 "metadata": {
  "language_info": {
   "codemirror_mode": {
    "name": "ipython",
    "version": 3
   },
   "file_extension": ".py",
   "mimetype": "text/x-python",
   "name": "python",
   "nbconvert_exporter": "python",
   "pygments_lexer": "ipython3",
   "version": "3.8.5-final"
  },
  "orig_nbformat": 2,
  "kernelspec": {
   "name": "python3",
   "display_name": "Python 3",
   "language": "python"
  }
 },
 "nbformat": 4,
 "nbformat_minor": 2,
 "cells": [
  {
   "cell_type": "code",
   "execution_count": 44,
   "metadata": {},
   "outputs": [],
   "source": [
    "import pandas as pd\n",
    "red_wine = pd.read_csv('https://archive.ics.uci.edu/ml/machine-learning-databases/wine-quality/winequality-red.csv', ';')"
   ]
  },
  {
   "cell_type": "code",
   "execution_count": 45,
   "metadata": {},
   "outputs": [
    {
     "output_type": "stream",
     "name": "stdout",
     "text": [
      "      fixed acidity  volatile acidity  citric acid  residual sugar  chlorides  \\\n0               7.4             0.700         0.00             1.9      0.076   \n1               7.8             0.880         0.00             2.6      0.098   \n2               7.8             0.760         0.04             2.3      0.092   \n3              11.2             0.280         0.56             1.9      0.075   \n4               7.4             0.700         0.00             1.9      0.076   \n...             ...               ...          ...             ...        ...   \n1594            6.2             0.600         0.08             2.0      0.090   \n1595            5.9             0.550         0.10             2.2      0.062   \n1596            6.3             0.510         0.13             2.3      0.076   \n1597            5.9             0.645         0.12             2.0      0.075   \n1598            6.0             0.310         0.47             3.6      0.067   \n\n      free sulfur dioxide  total sulfur dioxide  density    pH  sulphates  \\\n0                    11.0                  34.0  0.99780  3.51       0.56   \n1                    25.0                  67.0  0.99680  3.20       0.68   \n2                    15.0                  54.0  0.99700  3.26       0.65   \n3                    17.0                  60.0  0.99800  3.16       0.58   \n4                    11.0                  34.0  0.99780  3.51       0.56   \n...                   ...                   ...      ...   ...        ...   \n1594                 32.0                  44.0  0.99490  3.45       0.58   \n1595                 39.0                  51.0  0.99512  3.52       0.76   \n1596                 29.0                  40.0  0.99574  3.42       0.75   \n1597                 32.0                  44.0  0.99547  3.57       0.71   \n1598                 18.0                  42.0  0.99549  3.39       0.66   \n\n      alcohol  quality  \n0         9.4        5  \n1         9.8        5  \n2         9.8        5  \n3         9.8        6  \n4         9.4        5  \n...       ...      ...  \n1594     10.5        5  \n1595     11.2        6  \n1596     11.0        6  \n1597     10.2        5  \n1598     11.0        6  \n\n[1599 rows x 12 columns]\n"
     ]
    }
   ],
   "source": [
    "print(red_wine)"
   ]
  },
  {
   "cell_type": "code",
   "execution_count": 47,
   "metadata": {},
   "outputs": [
    {
     "output_type": "stream",
     "name": "stdout",
     "text": [
      "fixed acidity           float64\nvolatile acidity        float64\ncitric acid             float64\nresidual sugar          float64\nchlorides               float64\nfree sulfur dioxide     float64\ntotal sulfur dioxide    float64\ndensity                 float64\npH                      float64\nsulphates               float64\nalcohol                 float64\nquality                   int64\ndtype: object\n"
     ]
    }
   ],
   "source": [
    "print(red_wine.dtypes)\n"
   ]
  },
  {
   "cell_type": "code",
   "execution_count": 48,
   "metadata": {},
   "outputs": [
    {
     "output_type": "execute_result",
     "data": {
      "text/plain": [
       "5    681\n",
       "6    638\n",
       "7    199\n",
       "4     53\n",
       "8     18\n",
       "3     10\n",
       "Name: quality, dtype: int64"
      ]
     },
     "metadata": {},
     "execution_count": 48
    }
   ],
   "source": [
    "    red_wine['quality'].value_counts()"
   ]
  },
  {
   "cell_type": "code",
   "execution_count": 53,
   "metadata": {},
   "outputs": [
    {
     "output_type": "execute_result",
     "data": {
      "text/plain": [
       "      fixed acidity  volatile acidity  citric acid  residual sugar  chlorides  \\\n",
       "267             7.9              0.35         0.46             3.6      0.078   \n",
       "278            10.3              0.32         0.45             6.4      0.073   \n",
       "390             5.6              0.85         0.05             1.4      0.045   \n",
       "440            12.6              0.31         0.72             2.2      0.072   \n",
       "455            11.3              0.62         0.67             5.2      0.086   \n",
       "481             9.4              0.30         0.56             2.8      0.080   \n",
       "495            10.7              0.35         0.53             2.6      0.070   \n",
       "498            10.7              0.35         0.53             2.6      0.070   \n",
       "588             5.0              0.42         0.24             2.0      0.060   \n",
       "828             7.8              0.57         0.09             2.3      0.065   \n",
       "1061            9.1              0.40         0.50             1.8      0.071   \n",
       "1090           10.0              0.26         0.54             1.9      0.083   \n",
       "1120            7.9              0.54         0.34             2.5      0.076   \n",
       "1202            8.6              0.42         0.39             1.8      0.068   \n",
       "1269            5.5              0.49         0.03             1.8      0.044   \n",
       "1403            7.2              0.33         0.33             1.7      0.061   \n",
       "1449            7.2              0.38         0.31             2.0      0.056   \n",
       "1549            7.4              0.36         0.30             1.8      0.074   \n",
       "\n",
       "      free sulfur dioxide  total sulfur dioxide  density    pH  sulphates  \\\n",
       "267                  15.0                  37.0  0.99730  3.35       0.86   \n",
       "278                   5.0                  13.0  0.99760  3.23       0.82   \n",
       "390                  12.0                  88.0  0.99240  3.56       0.82   \n",
       "440                   6.0                  29.0  0.99870  2.88       0.82   \n",
       "455                   6.0                  19.0  0.99880  3.22       0.69   \n",
       "481                   6.0                  17.0  0.99640  3.15       0.92   \n",
       "495                   5.0                  16.0  0.99720  3.15       0.65   \n",
       "498                   5.0                  16.0  0.99720  3.15       0.65   \n",
       "588                  19.0                  50.0  0.99170  3.72       0.74   \n",
       "828                  34.0                  45.0  0.99417  3.46       0.74   \n",
       "1061                  7.0                  16.0  0.99462  3.21       0.69   \n",
       "1090                 42.0                  74.0  0.99451  2.98       0.63   \n",
       "1120                  8.0                  17.0  0.99235  3.20       0.72   \n",
       "1202                  6.0                  12.0  0.99516  3.35       0.69   \n",
       "1269                 28.0                  87.0  0.99080  3.50       0.82   \n",
       "1403                  3.0                  13.0  0.99600  3.23       1.10   \n",
       "1449                 15.0                  29.0  0.99472  3.23       0.76   \n",
       "1549                 17.0                  24.0  0.99419  3.24       0.70   \n",
       "\n",
       "      alcohol  quality  \n",
       "267      12.8        8  \n",
       "278      12.6        8  \n",
       "390      12.9        8  \n",
       "440       9.8        8  \n",
       "455      13.4        8  \n",
       "481      11.7        8  \n",
       "495      11.0        8  \n",
       "498      11.0        8  \n",
       "588      14.0        8  \n",
       "828      12.7        8  \n",
       "1061     12.5        8  \n",
       "1090     11.8        8  \n",
       "1120     13.1        8  \n",
       "1202     11.7        8  \n",
       "1269     14.0        8  \n",
       "1403     10.0        8  \n",
       "1449     11.3        8  \n",
       "1549     11.4        8  "
      ],
      "text/html": "<div>\n<style scoped>\n    .dataframe tbody tr th:only-of-type {\n        vertical-align: middle;\n    }\n\n    .dataframe tbody tr th {\n        vertical-align: top;\n    }\n\n    .dataframe thead th {\n        text-align: right;\n    }\n</style>\n<table border=\"1\" class=\"dataframe\">\n  <thead>\n    <tr style=\"text-align: right;\">\n      <th></th>\n      <th>fixed acidity</th>\n      <th>volatile acidity</th>\n      <th>citric acid</th>\n      <th>residual sugar</th>\n      <th>chlorides</th>\n      <th>free sulfur dioxide</th>\n      <th>total sulfur dioxide</th>\n      <th>density</th>\n      <th>pH</th>\n      <th>sulphates</th>\n      <th>alcohol</th>\n      <th>quality</th>\n    </tr>\n  </thead>\n  <tbody>\n    <tr>\n      <th>267</th>\n      <td>7.9</td>\n      <td>0.35</td>\n      <td>0.46</td>\n      <td>3.6</td>\n      <td>0.078</td>\n      <td>15.0</td>\n      <td>37.0</td>\n      <td>0.99730</td>\n      <td>3.35</td>\n      <td>0.86</td>\n      <td>12.8</td>\n      <td>8</td>\n    </tr>\n    <tr>\n      <th>278</th>\n      <td>10.3</td>\n      <td>0.32</td>\n      <td>0.45</td>\n      <td>6.4</td>\n      <td>0.073</td>\n      <td>5.0</td>\n      <td>13.0</td>\n      <td>0.99760</td>\n      <td>3.23</td>\n      <td>0.82</td>\n      <td>12.6</td>\n      <td>8</td>\n    </tr>\n    <tr>\n      <th>390</th>\n      <td>5.6</td>\n      <td>0.85</td>\n      <td>0.05</td>\n      <td>1.4</td>\n      <td>0.045</td>\n      <td>12.0</td>\n      <td>88.0</td>\n      <td>0.99240</td>\n      <td>3.56</td>\n      <td>0.82</td>\n      <td>12.9</td>\n      <td>8</td>\n    </tr>\n    <tr>\n      <th>440</th>\n      <td>12.6</td>\n      <td>0.31</td>\n      <td>0.72</td>\n      <td>2.2</td>\n      <td>0.072</td>\n      <td>6.0</td>\n      <td>29.0</td>\n      <td>0.99870</td>\n      <td>2.88</td>\n      <td>0.82</td>\n      <td>9.8</td>\n      <td>8</td>\n    </tr>\n    <tr>\n      <th>455</th>\n      <td>11.3</td>\n      <td>0.62</td>\n      <td>0.67</td>\n      <td>5.2</td>\n      <td>0.086</td>\n      <td>6.0</td>\n      <td>19.0</td>\n      <td>0.99880</td>\n      <td>3.22</td>\n      <td>0.69</td>\n      <td>13.4</td>\n      <td>8</td>\n    </tr>\n    <tr>\n      <th>481</th>\n      <td>9.4</td>\n      <td>0.30</td>\n      <td>0.56</td>\n      <td>2.8</td>\n      <td>0.080</td>\n      <td>6.0</td>\n      <td>17.0</td>\n      <td>0.99640</td>\n      <td>3.15</td>\n      <td>0.92</td>\n      <td>11.7</td>\n      <td>8</td>\n    </tr>\n    <tr>\n      <th>495</th>\n      <td>10.7</td>\n      <td>0.35</td>\n      <td>0.53</td>\n      <td>2.6</td>\n      <td>0.070</td>\n      <td>5.0</td>\n      <td>16.0</td>\n      <td>0.99720</td>\n      <td>3.15</td>\n      <td>0.65</td>\n      <td>11.0</td>\n      <td>8</td>\n    </tr>\n    <tr>\n      <th>498</th>\n      <td>10.7</td>\n      <td>0.35</td>\n      <td>0.53</td>\n      <td>2.6</td>\n      <td>0.070</td>\n      <td>5.0</td>\n      <td>16.0</td>\n      <td>0.99720</td>\n      <td>3.15</td>\n      <td>0.65</td>\n      <td>11.0</td>\n      <td>8</td>\n    </tr>\n    <tr>\n      <th>588</th>\n      <td>5.0</td>\n      <td>0.42</td>\n      <td>0.24</td>\n      <td>2.0</td>\n      <td>0.060</td>\n      <td>19.0</td>\n      <td>50.0</td>\n      <td>0.99170</td>\n      <td>3.72</td>\n      <td>0.74</td>\n      <td>14.0</td>\n      <td>8</td>\n    </tr>\n    <tr>\n      <th>828</th>\n      <td>7.8</td>\n      <td>0.57</td>\n      <td>0.09</td>\n      <td>2.3</td>\n      <td>0.065</td>\n      <td>34.0</td>\n      <td>45.0</td>\n      <td>0.99417</td>\n      <td>3.46</td>\n      <td>0.74</td>\n      <td>12.7</td>\n      <td>8</td>\n    </tr>\n    <tr>\n      <th>1061</th>\n      <td>9.1</td>\n      <td>0.40</td>\n      <td>0.50</td>\n      <td>1.8</td>\n      <td>0.071</td>\n      <td>7.0</td>\n      <td>16.0</td>\n      <td>0.99462</td>\n      <td>3.21</td>\n      <td>0.69</td>\n      <td>12.5</td>\n      <td>8</td>\n    </tr>\n    <tr>\n      <th>1090</th>\n      <td>10.0</td>\n      <td>0.26</td>\n      <td>0.54</td>\n      <td>1.9</td>\n      <td>0.083</td>\n      <td>42.0</td>\n      <td>74.0</td>\n      <td>0.99451</td>\n      <td>2.98</td>\n      <td>0.63</td>\n      <td>11.8</td>\n      <td>8</td>\n    </tr>\n    <tr>\n      <th>1120</th>\n      <td>7.9</td>\n      <td>0.54</td>\n      <td>0.34</td>\n      <td>2.5</td>\n      <td>0.076</td>\n      <td>8.0</td>\n      <td>17.0</td>\n      <td>0.99235</td>\n      <td>3.20</td>\n      <td>0.72</td>\n      <td>13.1</td>\n      <td>8</td>\n    </tr>\n    <tr>\n      <th>1202</th>\n      <td>8.6</td>\n      <td>0.42</td>\n      <td>0.39</td>\n      <td>1.8</td>\n      <td>0.068</td>\n      <td>6.0</td>\n      <td>12.0</td>\n      <td>0.99516</td>\n      <td>3.35</td>\n      <td>0.69</td>\n      <td>11.7</td>\n      <td>8</td>\n    </tr>\n    <tr>\n      <th>1269</th>\n      <td>5.5</td>\n      <td>0.49</td>\n      <td>0.03</td>\n      <td>1.8</td>\n      <td>0.044</td>\n      <td>28.0</td>\n      <td>87.0</td>\n      <td>0.99080</td>\n      <td>3.50</td>\n      <td>0.82</td>\n      <td>14.0</td>\n      <td>8</td>\n    </tr>\n    <tr>\n      <th>1403</th>\n      <td>7.2</td>\n      <td>0.33</td>\n      <td>0.33</td>\n      <td>1.7</td>\n      <td>0.061</td>\n      <td>3.0</td>\n      <td>13.0</td>\n      <td>0.99600</td>\n      <td>3.23</td>\n      <td>1.10</td>\n      <td>10.0</td>\n      <td>8</td>\n    </tr>\n    <tr>\n      <th>1449</th>\n      <td>7.2</td>\n      <td>0.38</td>\n      <td>0.31</td>\n      <td>2.0</td>\n      <td>0.056</td>\n      <td>15.0</td>\n      <td>29.0</td>\n      <td>0.99472</td>\n      <td>3.23</td>\n      <td>0.76</td>\n      <td>11.3</td>\n      <td>8</td>\n    </tr>\n    <tr>\n      <th>1549</th>\n      <td>7.4</td>\n      <td>0.36</td>\n      <td>0.30</td>\n      <td>1.8</td>\n      <td>0.074</td>\n      <td>17.0</td>\n      <td>24.0</td>\n      <td>0.99419</td>\n      <td>3.24</td>\n      <td>0.70</td>\n      <td>11.4</td>\n      <td>8</td>\n    </tr>\n  </tbody>\n</table>\n</div>"
     },
     "metadata": {},
     "execution_count": 53
    }
   ],
   "source": [
    "red_wine.loc[red_wine.quality>=8,:].iloc[0:20, :]"
   ]
  },
  {
   "cell_type": "code",
   "execution_count": 63,
   "metadata": {},
   "outputs": [
    {
     "output_type": "execute_result",
     "data": {
      "text/plain": [
       "     fixed acidity  volatile acidity  citric acid  residual sugar  chlorides  \\\n",
       "7              7.3             0.650         0.00             1.2      0.065   \n",
       "8              7.8             0.580         0.02             2.0      0.073   \n",
       "16             8.5             0.280         0.56             1.8      0.092   \n",
       "37             8.1             0.380         0.28             2.1      0.066   \n",
       "62             7.5             0.520         0.16             1.9      0.085   \n",
       "128            8.0             0.590         0.16             1.8      0.065   \n",
       "198            5.4             0.835         0.08             1.2      0.046   \n",
       "200            9.6             0.320         0.47             1.4      0.056   \n",
       "205           12.8             0.300         0.74             2.6      0.095   \n",
       "206           12.8             0.300         0.74             2.6      0.095   \n",
       "\n",
       "     free sulfur dioxide  total sulfur dioxide  density    pH  sulphates  \\\n",
       "7                   15.0                  21.0  0.99460  3.39       0.47   \n",
       "8                    9.0                  18.0  0.99680  3.36       0.57   \n",
       "16                  35.0                 103.0  0.99690  3.30       0.75   \n",
       "37                  13.0                  30.0  0.99680  3.23       0.73   \n",
       "62                  12.0                  35.0  0.99680  3.38       0.62   \n",
       "128                  3.0                  16.0  0.99620  3.42       0.92   \n",
       "198                 13.0                  93.0  0.99240  3.57       0.85   \n",
       "200                  9.0                  24.0  0.99695  3.22       0.82   \n",
       "205                  9.0                  28.0  0.99940  3.20       0.77   \n",
       "206                  9.0                  28.0  0.99940  3.20       0.77   \n",
       "\n",
       "     alcohol  quality  \n",
       "7       10.0        7  \n",
       "8        9.5        7  \n",
       "16      10.5        7  \n",
       "37       9.7        7  \n",
       "62       9.5        7  \n",
       "128     10.5        7  \n",
       "198     13.0        7  \n",
       "200     10.3        7  \n",
       "205     10.8        7  \n",
       "206     10.8        7  "
      ],
      "text/html": "<div>\n<style scoped>\n    .dataframe tbody tr th:only-of-type {\n        vertical-align: middle;\n    }\n\n    .dataframe tbody tr th {\n        vertical-align: top;\n    }\n\n    .dataframe thead th {\n        text-align: right;\n    }\n</style>\n<table border=\"1\" class=\"dataframe\">\n  <thead>\n    <tr style=\"text-align: right;\">\n      <th></th>\n      <th>fixed acidity</th>\n      <th>volatile acidity</th>\n      <th>citric acid</th>\n      <th>residual sugar</th>\n      <th>chlorides</th>\n      <th>free sulfur dioxide</th>\n      <th>total sulfur dioxide</th>\n      <th>density</th>\n      <th>pH</th>\n      <th>sulphates</th>\n      <th>alcohol</th>\n      <th>quality</th>\n    </tr>\n  </thead>\n  <tbody>\n    <tr>\n      <th>7</th>\n      <td>7.3</td>\n      <td>0.650</td>\n      <td>0.00</td>\n      <td>1.2</td>\n      <td>0.065</td>\n      <td>15.0</td>\n      <td>21.0</td>\n      <td>0.99460</td>\n      <td>3.39</td>\n      <td>0.47</td>\n      <td>10.0</td>\n      <td>7</td>\n    </tr>\n    <tr>\n      <th>8</th>\n      <td>7.8</td>\n      <td>0.580</td>\n      <td>0.02</td>\n      <td>2.0</td>\n      <td>0.073</td>\n      <td>9.0</td>\n      <td>18.0</td>\n      <td>0.99680</td>\n      <td>3.36</td>\n      <td>0.57</td>\n      <td>9.5</td>\n      <td>7</td>\n    </tr>\n    <tr>\n      <th>16</th>\n      <td>8.5</td>\n      <td>0.280</td>\n      <td>0.56</td>\n      <td>1.8</td>\n      <td>0.092</td>\n      <td>35.0</td>\n      <td>103.0</td>\n      <td>0.99690</td>\n      <td>3.30</td>\n      <td>0.75</td>\n      <td>10.5</td>\n      <td>7</td>\n    </tr>\n    <tr>\n      <th>37</th>\n      <td>8.1</td>\n      <td>0.380</td>\n      <td>0.28</td>\n      <td>2.1</td>\n      <td>0.066</td>\n      <td>13.0</td>\n      <td>30.0</td>\n      <td>0.99680</td>\n      <td>3.23</td>\n      <td>0.73</td>\n      <td>9.7</td>\n      <td>7</td>\n    </tr>\n    <tr>\n      <th>62</th>\n      <td>7.5</td>\n      <td>0.520</td>\n      <td>0.16</td>\n      <td>1.9</td>\n      <td>0.085</td>\n      <td>12.0</td>\n      <td>35.0</td>\n      <td>0.99680</td>\n      <td>3.38</td>\n      <td>0.62</td>\n      <td>9.5</td>\n      <td>7</td>\n    </tr>\n    <tr>\n      <th>128</th>\n      <td>8.0</td>\n      <td>0.590</td>\n      <td>0.16</td>\n      <td>1.8</td>\n      <td>0.065</td>\n      <td>3.0</td>\n      <td>16.0</td>\n      <td>0.99620</td>\n      <td>3.42</td>\n      <td>0.92</td>\n      <td>10.5</td>\n      <td>7</td>\n    </tr>\n    <tr>\n      <th>198</th>\n      <td>5.4</td>\n      <td>0.835</td>\n      <td>0.08</td>\n      <td>1.2</td>\n      <td>0.046</td>\n      <td>13.0</td>\n      <td>93.0</td>\n      <td>0.99240</td>\n      <td>3.57</td>\n      <td>0.85</td>\n      <td>13.0</td>\n      <td>7</td>\n    </tr>\n    <tr>\n      <th>200</th>\n      <td>9.6</td>\n      <td>0.320</td>\n      <td>0.47</td>\n      <td>1.4</td>\n      <td>0.056</td>\n      <td>9.0</td>\n      <td>24.0</td>\n      <td>0.99695</td>\n      <td>3.22</td>\n      <td>0.82</td>\n      <td>10.3</td>\n      <td>7</td>\n    </tr>\n    <tr>\n      <th>205</th>\n      <td>12.8</td>\n      <td>0.300</td>\n      <td>0.74</td>\n      <td>2.6</td>\n      <td>0.095</td>\n      <td>9.0</td>\n      <td>28.0</td>\n      <td>0.99940</td>\n      <td>3.20</td>\n      <td>0.77</td>\n      <td>10.8</td>\n      <td>7</td>\n    </tr>\n    <tr>\n      <th>206</th>\n      <td>12.8</td>\n      <td>0.300</td>\n      <td>0.74</td>\n      <td>2.6</td>\n      <td>0.095</td>\n      <td>9.0</td>\n      <td>28.0</td>\n      <td>0.99940</td>\n      <td>3.20</td>\n      <td>0.77</td>\n      <td>10.8</td>\n      <td>7</td>\n    </tr>\n  </tbody>\n</table>\n</div>"
     },
     "metadata": {},
     "execution_count": 63
    }
   ],
   "source": [
    "red_wine.loc[red_wine.==7,:].iloc[0:10, : ]"
   ]
  },
  {
   "cell_type": "code",
   "execution_count": 64,
   "metadata": {},
   "outputs": [
    {
     "output_type": "execute_result",
     "data": {
      "text/plain": [
       "     fixed acidity  volatile acidity  citric acid  residual sugar  chlorides  \\\n",
       "18             7.4             0.590         0.08             4.4      0.086   \n",
       "38             5.7             1.130         0.09             1.5      0.172   \n",
       "41             8.8             0.610         0.30             2.8      0.088   \n",
       "45             4.6             0.520         0.15             2.1      0.054   \n",
       "73             8.3             0.675         0.26             2.1      0.084   \n",
       "79             8.3             0.625         0.20             1.5      0.080   \n",
       "94             5.0             1.020         0.04             1.4      0.045   \n",
       "151            9.2             0.520         1.00             3.4      0.610   \n",
       "161            7.6             0.680         0.02             1.3      0.072   \n",
       "167            7.3             0.550         0.03             1.6      0.072   \n",
       "\n",
       "     free sulfur dioxide  total sulfur dioxide  density    pH  sulphates  \\\n",
       "18                   6.0                  29.0   0.9974  3.38       0.50   \n",
       "38                   7.0                  19.0   0.9940  3.50       0.48   \n",
       "41                  17.0                  46.0   0.9976  3.26       0.51   \n",
       "45                   8.0                  65.0   0.9934  3.90       0.56   \n",
       "73                  11.0                  43.0   0.9976  3.31       0.53   \n",
       "79                  27.0                 119.0   0.9972  3.16       1.12   \n",
       "94                  41.0                  85.0   0.9938  3.75       0.48   \n",
       "151                 32.0                  69.0   0.9996  2.74       2.00   \n",
       "161                  9.0                  20.0   0.9965  3.17       1.08   \n",
       "167                 17.0                  42.0   0.9956  3.37       0.48   \n",
       "\n",
       "     alcohol  quality  \n",
       "18       9.0        4  \n",
       "38       9.8        4  \n",
       "41       9.3        4  \n",
       "45      13.1        4  \n",
       "73       9.2        4  \n",
       "79       9.1        4  \n",
       "94      10.5        4  \n",
       "151      9.4        4  \n",
       "161      9.2        4  \n",
       "167      9.0        4  "
      ],
      "text/html": "<div>\n<style scoped>\n    .dataframe tbody tr th:only-of-type {\n        vertical-align: middle;\n    }\n\n    .dataframe tbody tr th {\n        vertical-align: top;\n    }\n\n    .dataframe thead th {\n        text-align: right;\n    }\n</style>\n<table border=\"1\" class=\"dataframe\">\n  <thead>\n    <tr style=\"text-align: right;\">\n      <th></th>\n      <th>fixed acidity</th>\n      <th>volatile acidity</th>\n      <th>citric acid</th>\n      <th>residual sugar</th>\n      <th>chlorides</th>\n      <th>free sulfur dioxide</th>\n      <th>total sulfur dioxide</th>\n      <th>density</th>\n      <th>pH</th>\n      <th>sulphates</th>\n      <th>alcohol</th>\n      <th>quality</th>\n    </tr>\n  </thead>\n  <tbody>\n    <tr>\n      <th>18</th>\n      <td>7.4</td>\n      <td>0.590</td>\n      <td>0.08</td>\n      <td>4.4</td>\n      <td>0.086</td>\n      <td>6.0</td>\n      <td>29.0</td>\n      <td>0.9974</td>\n      <td>3.38</td>\n      <td>0.50</td>\n      <td>9.0</td>\n      <td>4</td>\n    </tr>\n    <tr>\n      <th>38</th>\n      <td>5.7</td>\n      <td>1.130</td>\n      <td>0.09</td>\n      <td>1.5</td>\n      <td>0.172</td>\n      <td>7.0</td>\n      <td>19.0</td>\n      <td>0.9940</td>\n      <td>3.50</td>\n      <td>0.48</td>\n      <td>9.8</td>\n      <td>4</td>\n    </tr>\n    <tr>\n      <th>41</th>\n      <td>8.8</td>\n      <td>0.610</td>\n      <td>0.30</td>\n      <td>2.8</td>\n      <td>0.088</td>\n      <td>17.0</td>\n      <td>46.0</td>\n      <td>0.9976</td>\n      <td>3.26</td>\n      <td>0.51</td>\n      <td>9.3</td>\n      <td>4</td>\n    </tr>\n    <tr>\n      <th>45</th>\n      <td>4.6</td>\n      <td>0.520</td>\n      <td>0.15</td>\n      <td>2.1</td>\n      <td>0.054</td>\n      <td>8.0</td>\n      <td>65.0</td>\n      <td>0.9934</td>\n      <td>3.90</td>\n      <td>0.56</td>\n      <td>13.1</td>\n      <td>4</td>\n    </tr>\n    <tr>\n      <th>73</th>\n      <td>8.3</td>\n      <td>0.675</td>\n      <td>0.26</td>\n      <td>2.1</td>\n      <td>0.084</td>\n      <td>11.0</td>\n      <td>43.0</td>\n      <td>0.9976</td>\n      <td>3.31</td>\n      <td>0.53</td>\n      <td>9.2</td>\n      <td>4</td>\n    </tr>\n    <tr>\n      <th>79</th>\n      <td>8.3</td>\n      <td>0.625</td>\n      <td>0.20</td>\n      <td>1.5</td>\n      <td>0.080</td>\n      <td>27.0</td>\n      <td>119.0</td>\n      <td>0.9972</td>\n      <td>3.16</td>\n      <td>1.12</td>\n      <td>9.1</td>\n      <td>4</td>\n    </tr>\n    <tr>\n      <th>94</th>\n      <td>5.0</td>\n      <td>1.020</td>\n      <td>0.04</td>\n      <td>1.4</td>\n      <td>0.045</td>\n      <td>41.0</td>\n      <td>85.0</td>\n      <td>0.9938</td>\n      <td>3.75</td>\n      <td>0.48</td>\n      <td>10.5</td>\n      <td>4</td>\n    </tr>\n    <tr>\n      <th>151</th>\n      <td>9.2</td>\n      <td>0.520</td>\n      <td>1.00</td>\n      <td>3.4</td>\n      <td>0.610</td>\n      <td>32.0</td>\n      <td>69.0</td>\n      <td>0.9996</td>\n      <td>2.74</td>\n      <td>2.00</td>\n      <td>9.4</td>\n      <td>4</td>\n    </tr>\n    <tr>\n      <th>161</th>\n      <td>7.6</td>\n      <td>0.680</td>\n      <td>0.02</td>\n      <td>1.3</td>\n      <td>0.072</td>\n      <td>9.0</td>\n      <td>20.0</td>\n      <td>0.9965</td>\n      <td>3.17</td>\n      <td>1.08</td>\n      <td>9.2</td>\n      <td>4</td>\n    </tr>\n    <tr>\n      <th>167</th>\n      <td>7.3</td>\n      <td>0.550</td>\n      <td>0.03</td>\n      <td>1.6</td>\n      <td>0.072</td>\n      <td>17.0</td>\n      <td>42.0</td>\n      <td>0.9956</td>\n      <td>3.37</td>\n      <td>0.48</td>\n      <td>9.0</td>\n      <td>4</td>\n    </tr>\n  </tbody>\n</table>\n</div>"
     },
     "metadata": {},
     "execution_count": 64
    }
   ],
   "source": [
    "red_wine.loc[red_wine.quality==4,:].iloc[0:10, : ]"
   ]
  },
  {
   "cell_type": "code",
   "execution_count": 67,
   "metadata": {},
   "outputs": [
    {
     "output_type": "execute_result",
     "data": {
      "text/plain": [
       "      fixed acidity  volatile acidity  citric acid  residual sugar  chlorides  \\\n",
       "0               7.4             0.700         0.00             1.9      0.076   \n",
       "1               7.8             0.880         0.00             2.6      0.098   \n",
       "2               7.8             0.760         0.04             2.3      0.092   \n",
       "3              11.2             0.280         0.56             1.9      0.075   \n",
       "4               7.4             0.700         0.00             1.9      0.076   \n",
       "...             ...               ...          ...             ...        ...   \n",
       "1594            6.2             0.600         0.08             2.0      0.090   \n",
       "1595            5.9             0.550         0.10             2.2      0.062   \n",
       "1596            6.3             0.510         0.13             2.3      0.076   \n",
       "1597            5.9             0.645         0.12             2.0      0.075   \n",
       "1598            6.0             0.310         0.47             3.6      0.067   \n",
       "\n",
       "      free sulfur dioxide  total sulfur dioxide  density    pH  sulphates  \\\n",
       "0                    11.0                  34.0  0.99780  3.51       0.56   \n",
       "1                    25.0                  67.0  0.99680  3.20       0.68   \n",
       "2                    15.0                  54.0  0.99700  3.26       0.65   \n",
       "3                    17.0                  60.0  0.99800  3.16       0.58   \n",
       "4                    11.0                  34.0  0.99780  3.51       0.56   \n",
       "...                   ...                   ...      ...   ...        ...   \n",
       "1594                 32.0                  44.0  0.99490  3.45       0.58   \n",
       "1595                 39.0                  51.0  0.99512  3.52       0.76   \n",
       "1596                 29.0                  40.0  0.99574  3.42       0.75   \n",
       "1597                 32.0                  44.0  0.99547  3.57       0.71   \n",
       "1598                 18.0                  42.0  0.99549  3.39       0.66   \n",
       "\n",
       "      alcohol  quality  \n",
       "0         9.4        5  \n",
       "1         9.8        5  \n",
       "2         9.8        5  \n",
       "3         9.8        6  \n",
       "4         9.4        5  \n",
       "...       ...      ...  \n",
       "1594     10.5        5  \n",
       "1595     11.2        6  \n",
       "1596     11.0        6  \n",
       "1597     10.2        5  \n",
       "1598     11.0        6  \n",
       "\n",
       "[1582 rows x 12 columns]"
      ],
      "text/html": "<div>\n<style scoped>\n    .dataframe tbody tr th:only-of-type {\n        vertical-align: middle;\n    }\n\n    .dataframe tbody tr th {\n        vertical-align: top;\n    }\n\n    .dataframe thead th {\n        text-align: right;\n    }\n</style>\n<table border=\"1\" class=\"dataframe\">\n  <thead>\n    <tr style=\"text-align: right;\">\n      <th></th>\n      <th>fixed acidity</th>\n      <th>volatile acidity</th>\n      <th>citric acid</th>\n      <th>residual sugar</th>\n      <th>chlorides</th>\n      <th>free sulfur dioxide</th>\n      <th>total sulfur dioxide</th>\n      <th>density</th>\n      <th>pH</th>\n      <th>sulphates</th>\n      <th>alcohol</th>\n      <th>quality</th>\n    </tr>\n  </thead>\n  <tbody>\n    <tr>\n      <th>0</th>\n      <td>7.4</td>\n      <td>0.700</td>\n      <td>0.00</td>\n      <td>1.9</td>\n      <td>0.076</td>\n      <td>11.0</td>\n      <td>34.0</td>\n      <td>0.99780</td>\n      <td>3.51</td>\n      <td>0.56</td>\n      <td>9.4</td>\n      <td>5</td>\n    </tr>\n    <tr>\n      <th>1</th>\n      <td>7.8</td>\n      <td>0.880</td>\n      <td>0.00</td>\n      <td>2.6</td>\n      <td>0.098</td>\n      <td>25.0</td>\n      <td>67.0</td>\n      <td>0.99680</td>\n      <td>3.20</td>\n      <td>0.68</td>\n      <td>9.8</td>\n      <td>5</td>\n    </tr>\n    <tr>\n      <th>2</th>\n      <td>7.8</td>\n      <td>0.760</td>\n      <td>0.04</td>\n      <td>2.3</td>\n      <td>0.092</td>\n      <td>15.0</td>\n      <td>54.0</td>\n      <td>0.99700</td>\n      <td>3.26</td>\n      <td>0.65</td>\n      <td>9.8</td>\n      <td>5</td>\n    </tr>\n    <tr>\n      <th>3</th>\n      <td>11.2</td>\n      <td>0.280</td>\n      <td>0.56</td>\n      <td>1.9</td>\n      <td>0.075</td>\n      <td>17.0</td>\n      <td>60.0</td>\n      <td>0.99800</td>\n      <td>3.16</td>\n      <td>0.58</td>\n      <td>9.8</td>\n      <td>6</td>\n    </tr>\n    <tr>\n      <th>4</th>\n      <td>7.4</td>\n      <td>0.700</td>\n      <td>0.00</td>\n      <td>1.9</td>\n      <td>0.076</td>\n      <td>11.0</td>\n      <td>34.0</td>\n      <td>0.99780</td>\n      <td>3.51</td>\n      <td>0.56</td>\n      <td>9.4</td>\n      <td>5</td>\n    </tr>\n    <tr>\n      <th>...</th>\n      <td>...</td>\n      <td>...</td>\n      <td>...</td>\n      <td>...</td>\n      <td>...</td>\n      <td>...</td>\n      <td>...</td>\n      <td>...</td>\n      <td>...</td>\n      <td>...</td>\n      <td>...</td>\n      <td>...</td>\n    </tr>\n    <tr>\n      <th>1594</th>\n      <td>6.2</td>\n      <td>0.600</td>\n      <td>0.08</td>\n      <td>2.0</td>\n      <td>0.090</td>\n      <td>32.0</td>\n      <td>44.0</td>\n      <td>0.99490</td>\n      <td>3.45</td>\n      <td>0.58</td>\n      <td>10.5</td>\n      <td>5</td>\n    </tr>\n    <tr>\n      <th>1595</th>\n      <td>5.9</td>\n      <td>0.550</td>\n      <td>0.10</td>\n      <td>2.2</td>\n      <td>0.062</td>\n      <td>39.0</td>\n      <td>51.0</td>\n      <td>0.99512</td>\n      <td>3.52</td>\n      <td>0.76</td>\n      <td>11.2</td>\n      <td>6</td>\n    </tr>\n    <tr>\n      <th>1596</th>\n      <td>6.3</td>\n      <td>0.510</td>\n      <td>0.13</td>\n      <td>2.3</td>\n      <td>0.076</td>\n      <td>29.0</td>\n      <td>40.0</td>\n      <td>0.99574</td>\n      <td>3.42</td>\n      <td>0.75</td>\n      <td>11.0</td>\n      <td>6</td>\n    </tr>\n    <tr>\n      <th>1597</th>\n      <td>5.9</td>\n      <td>0.645</td>\n      <td>0.12</td>\n      <td>2.0</td>\n      <td>0.075</td>\n      <td>32.0</td>\n      <td>44.0</td>\n      <td>0.99547</td>\n      <td>3.57</td>\n      <td>0.71</td>\n      <td>10.2</td>\n      <td>5</td>\n    </tr>\n    <tr>\n      <th>1598</th>\n      <td>6.0</td>\n      <td>0.310</td>\n      <td>0.47</td>\n      <td>3.6</td>\n      <td>0.067</td>\n      <td>18.0</td>\n      <td>42.0</td>\n      <td>0.99549</td>\n      <td>3.39</td>\n      <td>0.66</td>\n      <td>11.0</td>\n      <td>6</td>\n    </tr>\n  </tbody>\n</table>\n<p>1582 rows × 12 columns</p>\n</div>"
     },
     "metadata": {},
     "execution_count": 67
    }
   ],
   "source": [
    "red_wine[(red_wine['volatile acidity'] >= 0.200)]"
   ]
  },
  {
   "cell_type": "code",
   "execution_count": 90,
   "metadata": {},
   "outputs": [],
   "source": [
    "vol = red_wine[(red_wine['volatile acidity'] >= 0.395) & (red_wine['volatile acidity'] <= 0.400)]"
   ]
  },
  {
   "cell_type": "code",
   "execution_count": 91,
   "metadata": {},
   "outputs": [
    {
     "output_type": "stream",
     "name": "stdout",
     "text": [
      "      fixed acidity  volatile acidity  citric acid  residual sugar  chlorides  \\\n24              6.9             0.400         0.14            2.40      0.085   \n48              6.4             0.400         0.23            1.60      0.066   \n60              8.8             0.400         0.40            2.20      0.079   \n115             9.4             0.400         0.31            2.20      0.090   \n149             8.2             0.400         0.44            2.80      0.089   \n279             8.9             0.400         0.32            5.60      0.087   \n283             8.9             0.400         0.32            5.60      0.087   \n287             7.5             0.400         0.12            3.00      0.092   \n413             9.9             0.400         0.53            6.70      0.097   \n441            11.9             0.400         0.65            2.15      0.068   \n492             8.9             0.400         0.51            2.60      0.052   \n512            10.7             0.400         0.48            2.10      0.125   \n523             9.3             0.400         0.49            2.50      0.085   \n596            12.4             0.400         0.51            2.00      0.059   \n664            12.1             0.400         0.52            2.00      0.092   \n670             6.9             0.400         0.24            2.50      0.083   \n674            10.8             0.400         0.41            2.20      0.084   \n676            10.8             0.400         0.41            2.20      0.084   \n773             7.9             0.400         0.29            1.80      0.157   \n774             7.9             0.400         0.30            1.80      0.157   \n913             9.4             0.395         0.46            4.60      0.094   \n932             7.6             0.400         0.29            1.90      0.078   \n968             9.0             0.400         0.43            2.40      0.068   \n978             7.0             0.400         0.32            3.60      0.061   \n992             6.5             0.400         0.10            2.00      0.076   \n1061            9.1             0.400         0.50            1.80      0.071   \n1095            9.4             0.400         0.47            2.50      0.087   \n1114            5.0             0.400         0.50            4.30      0.046   \n1123           10.7             0.400         0.37            1.90      0.081   \n1140            7.3             0.400         0.30            1.70      0.080   \n1182           10.2             0.400         0.40            2.50      0.068   \n1190            9.1             0.400         0.57            4.60      0.080   \n1218            8.2             0.400         0.31            1.90      0.082   \n1242            9.0             0.400         0.41            2.00      0.058   \n1276            8.5             0.400         0.40            6.30      0.050   \n1292            5.9             0.395         0.13            2.40      0.056   \n1421            7.5             0.400         0.18            1.60      0.079   \n1433            6.1             0.400         0.16            1.80      0.069   \n1548           11.2             0.400         0.50            2.00      0.099   \n\n      free sulfur dioxide  total sulfur dioxide  density    pH  sulphates  \\\n24                   21.0                  40.0  0.99680  3.43       0.63   \n48                    5.0                  12.0  0.99580  3.34       0.56   \n60                   19.0                  52.0  0.99800  3.44       0.64   \n115                  13.0                  62.0  0.99660  3.07       0.63   \n149                  11.0                  43.0  0.99750  3.53       0.61   \n279                  10.0                  47.0  0.99910  3.38       0.77   \n283                  10.0                  47.0  0.99910  3.38       0.77   \n287                  29.0                  53.0  0.99670  3.37       0.70   \n413                   6.0                  19.0  0.99860  3.27       0.82   \n441                   7.0                  27.0  0.99880  3.06       0.68   \n492                  13.0                  27.0  0.99500  3.32       0.90   \n512                  15.0                  49.0  0.99800  3.03       0.81   \n523                  38.0                 142.0  0.99780  3.22       0.55   \n596                   6.0                  24.0  0.99940  3.04       0.60   \n664                  15.0                  54.0  1.00000  3.03       0.66   \n670                  30.0                  45.0  0.99590  3.26       0.58   \n674                   7.0                  17.0  0.99840  3.08       0.67   \n676                   7.0                  17.0  0.99840  3.08       0.67   \n773                   1.0                  44.0  0.99730  3.30       0.92   \n774                   2.0                  45.0  0.99727  3.31       0.91   \n913                   3.0                  10.0  0.99639  3.27       0.64   \n932                  29.0                  66.0  0.99710  3.45       0.59   \n968                  29.0                  46.0  0.99430  3.20       0.60   \n978                   9.0                  29.0  0.99416  3.28       0.49   \n992                  30.0                  47.0  0.99554  3.36       0.48   \n1061                  7.0                  16.0  0.99462  3.21       0.69   \n1095                  6.0                  20.0  0.99772  3.15       0.50   \n1114                 29.0                  80.0  0.99020  3.49       0.66   \n1123                 17.0                  29.0  0.99674  3.12       0.65   \n1140                 33.0                  79.0  0.99690  3.41       0.65   \n1182                 41.0                  54.0  0.99754  3.38       0.86   \n1190                  6.0                  20.0  0.99652  3.28       0.57   \n1218                  8.0                  24.0  0.99600  3.24       0.69   \n1242                 15.0                  40.0  0.99414  3.22       0.60   \n1276                  3.0                  10.0  0.99566  3.28       0.56   \n1292                 14.0                  28.0  0.99362  3.62       0.67   \n1421                 24.0                  58.0  0.99650  3.34       0.58   \n1433                 11.0                  25.0  0.99550  3.42       0.74   \n1548                 19.0                  50.0  0.99783  3.10       0.58   \n\n      alcohol  quality  \n24        9.7        6  \n48        9.2        5  \n60        9.2        5  \n115      10.5        6  \n149      10.5        6  \n279      10.5        7  \n283      10.5        7  \n287      10.3        6  \n413      11.7        7  \n441      11.3        6  \n492      13.4        7  \n512       9.7        6  \n523       9.4        5  \n596       9.3        6  \n664      10.2        5  \n670      10.0        5  \n674       9.3        6  \n676       9.3        6  \n773       9.5        6  \n774       9.5        6  \n913      12.2        7  \n932       9.5        6  \n968      12.2        6  \n978      11.3        7  \n992       9.4        6  \n1061     12.5        8  \n1095     10.5        5  \n1114     13.6        6  \n1123     11.2        6  \n1140      9.5        6  \n1182     10.5        6  \n1190     12.5        6  \n1218     10.6        6  \n1242     12.2        6  \n1276     12.0        4  \n1292     12.4        6  \n1421      9.4        5  \n1433     10.1        7  \n1548     10.4        5  \n"
     ]
    },
    {
     "output_type": "error",
     "ename": "AttributeError",
     "evalue": "'NoneType' object has no attribute 'head'",
     "traceback": [
      "\u001b[0;31m---------------------------------------------------------------------------\u001b[0m",
      "\u001b[0;31mAttributeError\u001b[0m                            Traceback (most recent call last)",
      "\u001b[0;32m<ipython-input-91-7e0b6656916e>\u001b[0m in \u001b[0;36m<module>\u001b[0;34m\u001b[0m\n\u001b[0;32m----> 1\u001b[0;31m \u001b[0mprint\u001b[0m\u001b[0;34m(\u001b[0m\u001b[0mvol\u001b[0m\u001b[0;34m)\u001b[0m\u001b[0;34m.\u001b[0m\u001b[0mhead\u001b[0m\u001b[0;34m(\u001b[0m\u001b[0;36m10\u001b[0m\u001b[0;34m)\u001b[0m\u001b[0;34m\u001b[0m\u001b[0;34m\u001b[0m\u001b[0m\n\u001b[0m",
      "\u001b[0;31mAttributeError\u001b[0m: 'NoneType' object has no attribute 'head'"
     ]
    }
   ],
   "source": [
    "print(vol).head(10)"
   ]
  },
  {
   "cell_type": "code",
   "execution_count": 1,
   "metadata": {},
   "outputs": [],
   "source": [
    "import pandas as pd\n",
    "red_wine = pd.read_csv('https://archive.ics.uci.edu/ml/machine-learning-databases/wine-quality/winequality-red.csv', ';')"
   ]
  },
  {
   "cell_type": "code",
   "execution_count": 3,
   "metadata": {},
   "outputs": [],
   "source": [
    "#create a new variable 'wine_type'\n",
    "\n",
    "red_wine['wine_type'] = 'red'"
   ]
  },
  {
   "cell_type": "code",
   "execution_count": 5,
   "metadata": {},
   "outputs": [],
   "source": [
    "white_wine = pd.read_csv('https://archive.ics.uci.edu/ml/machine-learning-databases/wine-quality/winequality-white.csv', ';')"
   ]
  },
  {
   "cell_type": "code",
   "execution_count": 7,
   "metadata": {},
   "outputs": [],
   "source": [
    "##create a new variable 'wine_type'\n",
    "\n",
    "white_wine['wine_type'] = 'white'"
   ]
  },
  {
   "cell_type": "code",
   "execution_count": 9,
   "metadata": {},
   "outputs": [],
   "source": [
    "# bucket wine quality scores into qualitative quality labels\n",
    "\n",
    "red_wine['quality_label'] = red_wine['quality'].apply(lambda value: 'low'\n",
    "if value <= 5 else 'medium'\n",
    "if value <= 7 else 'high')"
   ]
  },
  {
   "cell_type": "code",
   "execution_count": 10,
   "metadata": {},
   "outputs": [],
   "source": [
    "red_wine['quality_label'] = pd.Categorical(red_wine['quality_label'],\n",
    "categories=['low', 'medium', 'high'])"
   ]
  },
  {
   "cell_type": "code",
   "execution_count": 12,
   "metadata": {},
   "outputs": [],
   "source": [
    "# bucket wine quality scores into qualitative quality labels \n",
    "\n",
    "white_wine['quality_label'] = white_wine['quality'].apply(lambda value: 'low'\n",
    "if value <= 5 else 'medium'\n",
    "if value <= 7 else 'high')"
   ]
  },
  {
   "cell_type": "code",
   "execution_count": 13,
   "metadata": {},
   "outputs": [],
   "source": [
    "white_wine['quality_label'] = pd.Categorical(white_wine['quality_label'],\n",
    "categories=['low', 'medium', 'high'])"
   ]
  },
  {
   "cell_type": "code",
   "execution_count": 15,
   "metadata": {},
   "outputs": [],
   "source": [
    "#combine the two datasets into one - wines\n",
    "\n",
    "wines = pd.concat([red_wine, white_wine])"
   ]
  },
  {
   "cell_type": "code",
   "execution_count": 16,
   "metadata": {},
   "outputs": [],
   "source": [
    "# re-shuffle records just to randomize data points\n",
    "wines = wines.sample(frac=1, random_state=42).reset_index(drop=True)"
   ]
  },
  {
   "cell_type": "code",
   "execution_count": null,
   "metadata": {},
   "outputs": [],
   "source": []
  }
 ]
}