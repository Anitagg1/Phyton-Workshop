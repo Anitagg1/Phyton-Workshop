{
  "nbformat": 4,
  "nbformat_minor": 0,
  "metadata": {
    "language_info": {
      "codemirror_mode": {
        "name": "ipython",
        "version": 3
      },
      "file_extension": ".py",
      "mimetype": "text/x-python",
      "name": "python",
      "nbconvert_exporter": "python",
      "pygments_lexer": "ipython3",
      "version": "3.8.5-final"
    },
    "orig_nbformat": 2,
    "kernelspec": {
      "name": "python385jvsc74a57bd025e4489cffed9bae4b8804c4be6d4bb5669f10facd0fe228031a21e327d08a8d",
      "display_name": "Python 3.8.5 64-bit (conda)"
    },
    "colab": {
      "name": "mouse_summary.ipynb",
      "provenance": [],
      "collapsed_sections": [],
      "toc_visible": true,
      "include_colab_link": true
    }
  },
  "cells": [
    {
      "cell_type": "markdown",
      "metadata": {
        "id": "view-in-github",
        "colab_type": "text"
      },
      "source": [
        "<a href=\"https://colab.research.google.com/github/Anitagg1/Phyton-Workshop/blob/main/scraping_summary.ipynb\" target=\"_parent\"><img src=\"https://colab.research.google.com/assets/colab-badge.svg\" alt=\"Open In Colab\"/></a>"
      ]
    },
    {
      "cell_type": "code",
      "metadata": {
        "id": "j8m2o3HcmP8v"
      },
      "source": [
        "import pandas as pd"
      ],
      "execution_count": null,
      "outputs": []
    },
    {
      "cell_type": "markdown",
      "metadata": {
        "id": "wqjIWvEVkljc"
      },
      "source": [
        "## Extract ASIN from the url of item products"
      ]
    },
    {
      "cell_type": "code",
      "metadata": {
        "id": "SkwjdXoqkkn0"
      },
      "source": [
        "# function to extract ASIn from URL\n",
        "\n",
        "\n",
        "def get_asin(my_df):\n",
        "    temp_asin = my_df\n",
        "    temp_url = temp_asin.loc[:,'url']\n",
        "    temp_url_df = pd.DataFrame(temp_url)\n",
        "\n",
        "    for row in range(len(temp_url_df)):\n",
        "        # divide the full url into three parts using the function partition()\n",
        "        my_text = temp_url_df.loc[row, 'url'] \n",
        "        division_tag1 = str(r\"%2Fdp%2F\")\n",
        "        division_tag2 = str('/dp/')\n",
        "        if division_tag1 in my_text:\n",
        "            right_text = my_text.partition(division_tag1)[2] \n",
        "        else:\n",
        "            right_text = my_text.partition(division_tag2)[2] \n",
        "        temp_url_df.loc[row, 'right_text'] = right_text\n",
        "\n",
        "        # divide the target part ('right_text') into three parts using the function partition()\n",
        "        my_text2 = temp_url_df.loc[row, 'right_text'] \n",
        "        division_tag1 = str(r\"%2F\")\n",
        "        division_tag2 = str('/')\n",
        "        if division_tag1 in my_text2:\n",
        "            target_text = my_text2.partition(division_tag1)[0] \n",
        "        else:\n",
        "            target_text = my_text2.partition(division_tag2)[0] \n",
        "\n",
        "        # add the final target ('asin') in the new column 'ASIN'\n",
        "        temp_url_df.loc[row, 'ASIN'] = target_text\n",
        "        temp_url_df = temp_url_df[['url','ASIN']]\n",
        "\n",
        "    # check if ASIN is correctly added to the dataframe\n",
        "    print(temp_url_df.head())\n",
        "    out_df = my_df.merge(temp_url_df, on='url')\n",
        "\n",
        "    return out_df \n",
        "\n",
        "\n",
        "# source reference: https://stackoverflow.com/questions/8162021/analyzing-string-input-until-it-reaches-a-certain-letter-on-python\n",
        "# relevant functions: split(), partition()"
      ],
      "execution_count": null,
      "outputs": []
    },
    {
      "cell_type": "code",
      "metadata": {
        "id": "YbuNuIG2lKun"
      },
      "source": [
        "# run the function 'get_asin' to extract asin from the column 'url' in the summary dataframe 'df_cleaned'\n",
        "df = pd.read_json('./output/search_output/Mouse_summary.jsonl')\n",
        "\n",
        "df_asin = get_asin(df)\n",
        "\n",
        "# check the updated df with the column 'ASIN'\n",
        "df_asin.head()"
      ],
      "execution_count": null,
      "outputs": []
    },
    {
      "cell_type": "markdown",
      "metadata": {
        "id": "hmEQlLjXpWLH"
      },
      "source": [
        "# Import document with ASIN\n",
        "Its the same document that the search output but I created a new column on excel and extracted the asin at the end. \n",
        "When I import this csv document on python, its somehow divided by semicolon.\n",
        "IF you already manage to scrape the asin, then just import the search output json and follow almost the same steps to clean it."
      ]
    },
    {
      "cell_type": "code",
      "metadata": {
        "id": "r-8rqB_kmP82"
      },
      "source": [
        "# Import document with ASIN\n",
        "df = pd.read_csv('/content/asin.csv', sep=';')"
      ],
      "execution_count": null,
      "outputs": []
    },
    {
      "cell_type": "code",
      "metadata": {
        "id": "3QfpgYhzmP82",
        "colab": {
          "base_uri": "https://localhost:8080/",
          "height": 570
        },
        "outputId": "9a7073bc-3d4c-4a53-f9df-447ecd128b82"
      },
      "source": [
        "df"
      ],
      "execution_count": null,
      "outputs": [
        {
          "output_type": "execute_result",
          "data": {
            "text/html": [
              "<div>\n",
              "<style scoped>\n",
              "    .dataframe tbody tr th:only-of-type {\n",
              "        vertical-align: middle;\n",
              "    }\n",
              "\n",
              "    .dataframe tbody tr th {\n",
              "        vertical-align: top;\n",
              "    }\n",
              "\n",
              "    .dataframe thead th {\n",
              "        text-align: right;\n",
              "    }\n",
              "</style>\n",
              "<table border=\"1\" class=\"dataframe\">\n",
              "  <thead>\n",
              "    <tr style=\"text-align: right;\">\n",
              "      <th></th>\n",
              "      <th>title</th>\n",
              "      <th>url</th>\n",
              "      <th>rating</th>\n",
              "      <th>review_count</th>\n",
              "      <th>price</th>\n",
              "      <th>ASIN</th>\n",
              "    </tr>\n",
              "  </thead>\n",
              "  <tbody>\n",
              "    <tr>\n",
              "      <th>0</th>\n",
              "      <td>Mouse Pad - Oriental Carpet Woven Fabric Mouse...</td>\n",
              "      <td>https://www.amazon.com/Mouse-Pad-Oriental-Mous...</td>\n",
              "      <td>4.4 out of 5 stars</td>\n",
              "      <td>2</td>\n",
              "      <td>$18.95</td>\n",
              "      <td>1578507596</td>\n",
              "    </tr>\n",
              "    <tr>\n",
              "      <th>1</th>\n",
              "      <td>Mouse Pad - Oriental Carpet Woven Fabric Mouse...</td>\n",
              "      <td>https://www.amazon.com/Mouse-Pad-Oriental-Mous...</td>\n",
              "      <td>4.4 out of 5 stars</td>\n",
              "      <td>2</td>\n",
              "      <td>$18.95</td>\n",
              "      <td>1578507596</td>\n",
              "    </tr>\n",
              "    <tr>\n",
              "      <th>2</th>\n",
              "      <td>Oriental Carpet Mouse Pad - Authentic Woven Ca...</td>\n",
              "      <td>https://www.amazon.com/Oriental-Carpet-Mousepa...</td>\n",
              "      <td>4.9 out of 5 stars</td>\n",
              "      <td>25</td>\n",
              "      <td>$19.95</td>\n",
              "      <td>157850550X</td>\n",
              "    </tr>\n",
              "    <tr>\n",
              "      <th>3</th>\n",
              "      <td>Belkin WaveRest Gel Mouse Pad, Black (F8E262-BLK)</td>\n",
              "      <td>https://www.amazon.com/Belkin-WaveRest-Mouse-B...</td>\n",
              "      <td>4.6 out of 5 stars</td>\n",
              "      <td>18,052</td>\n",
              "      <td>$8.00</td>\n",
              "      <td>B00000JRRD</td>\n",
              "    </tr>\n",
              "    <tr>\n",
              "      <th>4</th>\n",
              "      <td>Fellowes 58024 Medium Mouse Pad (Black)</td>\n",
              "      <td>https://www.amazon.com/Fellowes-58024-Medium-M...</td>\n",
              "      <td>4.7 out of 5 stars</td>\n",
              "      <td>7,848</td>\n",
              "      <td>NaN</td>\n",
              "      <td>B0000365QL</td>\n",
              "    </tr>\n",
              "    <tr>\n",
              "      <th>...</th>\n",
              "      <td>...</td>\n",
              "      <td>...</td>\n",
              "      <td>...</td>\n",
              "      <td>...</td>\n",
              "      <td>...</td>\n",
              "      <td>...</td>\n",
              "    </tr>\n",
              "    <tr>\n",
              "      <th>7475</th>\n",
              "      <td>RAPOO N100 Wired Mouse – Corded USB Mouse for ...</td>\n",
              "      <td>https://www.amazon.com/gp/slredirect/picassoRe...</td>\n",
              "      <td>4.2 out of 5 stars</td>\n",
              "      <td>26</td>\n",
              "      <td>$6.99</td>\n",
              "      <td>B07WJYSHFF</td>\n",
              "    </tr>\n",
              "    <tr>\n",
              "      <th>7476</th>\n",
              "      <td>RAPOO N100 Wired Mouse – Corded USB Mouse for ...</td>\n",
              "      <td>https://www.amazon.com/gp/slredirect/picassoRe...</td>\n",
              "      <td>4.2 out of 5 stars</td>\n",
              "      <td>26</td>\n",
              "      <td>$6.99</td>\n",
              "      <td>B07WJYSHFF</td>\n",
              "    </tr>\n",
              "    <tr>\n",
              "      <th>7477</th>\n",
              "      <td>RAPOO N100 Wired Mouse – Corded USB Mouse for ...</td>\n",
              "      <td>https://www.amazon.com/gp/slredirect/picassoRe...</td>\n",
              "      <td>4.2 out of 5 stars</td>\n",
              "      <td>26</td>\n",
              "      <td>$6.99</td>\n",
              "      <td>B07WJYSHFF</td>\n",
              "    </tr>\n",
              "    <tr>\n",
              "      <th>7478</th>\n",
              "      <td>RAPOO N100 Wired Mouse – Corded USB Mouse for ...</td>\n",
              "      <td>https://www.amazon.com/gp/slredirect/picassoRe...</td>\n",
              "      <td>4.2 out of 5 stars</td>\n",
              "      <td>26</td>\n",
              "      <td>$6.99</td>\n",
              "      <td>B07WJYSHFF</td>\n",
              "    </tr>\n",
              "    <tr>\n",
              "      <th>7479</th>\n",
              "      <td>RAPOO N100 Wired Mouse – Corded USB Mouse for ...</td>\n",
              "      <td>https://www.amazon.com/gp/slredirect/picassoRe...</td>\n",
              "      <td>4.2 out of 5 stars</td>\n",
              "      <td>26</td>\n",
              "      <td>$6.99</td>\n",
              "      <td>B07WJYSHFF</td>\n",
              "    </tr>\n",
              "  </tbody>\n",
              "</table>\n",
              "<p>7480 rows × 6 columns</p>\n",
              "</div>"
            ],
            "text/plain": [
              "                                                  title  ...        ASIN\n",
              "0     Mouse Pad - Oriental Carpet Woven Fabric Mouse...  ...  1578507596\n",
              "1     Mouse Pad - Oriental Carpet Woven Fabric Mouse...  ...  1578507596\n",
              "2     Oriental Carpet Mouse Pad - Authentic Woven Ca...  ...  157850550X\n",
              "3     Belkin WaveRest Gel Mouse Pad, Black (F8E262-BLK)  ...  B00000JRRD\n",
              "4               Fellowes 58024 Medium Mouse Pad (Black)  ...  B0000365QL\n",
              "...                                                 ...  ...         ...\n",
              "7475  RAPOO N100 Wired Mouse – Corded USB Mouse for ...  ...  B07WJYSHFF\n",
              "7476  RAPOO N100 Wired Mouse – Corded USB Mouse for ...  ...  B07WJYSHFF\n",
              "7477  RAPOO N100 Wired Mouse – Corded USB Mouse for ...  ...  B07WJYSHFF\n",
              "7478  RAPOO N100 Wired Mouse – Corded USB Mouse for ...  ...  B07WJYSHFF\n",
              "7479  RAPOO N100 Wired Mouse – Corded USB Mouse for ...  ...  B07WJYSHFF\n",
              "\n",
              "[7480 rows x 6 columns]"
            ]
          },
          "metadata": {
            "tags": []
          },
          "execution_count": 4
        }
      ]
    },
    {
      "cell_type": "markdown",
      "metadata": {
        "id": "8zBGwaOnq-JB"
      },
      "source": [
        "## Create the prod_type column"
      ]
    },
    {
      "cell_type": "code",
      "metadata": {
        "id": "-UqHoigGmP83"
      },
      "source": [
        "# Create the prod_type column\n",
        "df.loc[:, 'product_type'] = 'Mouse'"
      ],
      "execution_count": null,
      "outputs": []
    },
    {
      "cell_type": "code",
      "metadata": {
        "id": "X0nXmvrymP84",
        "colab": {
          "base_uri": "https://localhost:8080/"
        },
        "outputId": "5140a17f-75a8-4ec2-cb00-39db15256a0f"
      },
      "source": [
        "# Check datatypes\n",
        "df.dtypes"
      ],
      "execution_count": null,
      "outputs": [
        {
          "output_type": "execute_result",
          "data": {
            "text/plain": [
              "title           object\n",
              "url             object\n",
              "rating          object\n",
              "review_count    object\n",
              "price           object\n",
              "ASIN            object\n",
              "product_type    object\n",
              "dtype: object"
            ]
          },
          "metadata": {
            "tags": []
          },
          "execution_count": 6
        }
      ]
    },
    {
      "cell_type": "code",
      "metadata": {
        "id": "N2xYUsy4mP84",
        "colab": {
          "base_uri": "https://localhost:8080/"
        },
        "outputId": "1e203abe-0642-4b9f-a17f-3d9358870380"
      },
      "source": [
        "df.shape"
      ],
      "execution_count": null,
      "outputs": [
        {
          "output_type": "execute_result",
          "data": {
            "text/plain": [
              "(7480, 7)"
            ]
          },
          "metadata": {
            "tags": []
          },
          "execution_count": 7
        }
      ]
    },
    {
      "cell_type": "markdown",
      "metadata": {
        "id": "KAYxv1kmrFSj"
      },
      "source": [
        "## Missing values\n",
        "\n",
        "I haven't done anything with the NaN values on this code. "
      ]
    },
    {
      "cell_type": "code",
      "metadata": {
        "id": "1Mx3cs0AmP85",
        "colab": {
          "base_uri": "https://localhost:8080/"
        },
        "outputId": "5a0017f2-b7d0-476b-f07b-ae25040348b7"
      },
      "source": [
        "# Check missing values\n",
        "\n",
        "df.isnull().sum()"
      ],
      "execution_count": null,
      "outputs": [
        {
          "output_type": "execute_result",
          "data": {
            "text/plain": [
              "title             0\n",
              "url               0\n",
              "rating          510\n",
              "review_count    510\n",
              "price           500\n",
              "ASIN              0\n",
              "product_type      0\n",
              "dtype: int64"
            ]
          },
          "metadata": {
            "tags": []
          },
          "execution_count": 8
        }
      ]
    },
    {
      "cell_type": "markdown",
      "metadata": {
        "id": "IZfmO_0WmxT0"
      },
      "source": [
        "## Rating"
      ]
    },
    {
      "cell_type": "code",
      "metadata": {
        "id": "kqU671HwmP85",
        "colab": {
          "base_uri": "https://localhost:8080/"
        },
        "outputId": "1cb49521-9b9b-4db0-f44e-46cd414d95d4"
      },
      "source": [
        "# Split the string into 2 parts\n",
        "df.rating.str.split(' ', n = 1)[0]"
      ],
      "execution_count": null,
      "outputs": [
        {
          "output_type": "execute_result",
          "data": {
            "text/plain": [
              "['4.4', 'out of 5 stars']"
            ]
          },
          "metadata": {
            "tags": []
          },
          "execution_count": 9
        }
      ]
    },
    {
      "cell_type": "code",
      "metadata": {
        "id": "v8fAb2LfmP86"
      },
      "source": [
        "# Create a loop that checks the the \"rating\" column and takes the first split\n",
        "for i in range(len(df.rating)):\n",
        "    try:\n",
        "        df.loc[i,'rating'] = df.loc[i,'rating'].split(' ')[0]\n",
        "    except:\n",
        "        continue\n",
        "        #print('Sorry lets move on')"
      ],
      "execution_count": null,
      "outputs": []
    },
    {
      "cell_type": "code",
      "metadata": {
        "id": "I_TXrZKfmP86"
      },
      "source": [
        "# Convert string values into float\n",
        "df.rating = df.rating.astype('float')"
      ],
      "execution_count": null,
      "outputs": []
    },
    {
      "cell_type": "markdown",
      "metadata": {
        "id": "9PpyQAfRm1_K"
      },
      "source": [
        "## Price"
      ]
    },
    {
      "cell_type": "code",
      "metadata": {
        "id": "accnBtKsmP86"
      },
      "source": [
        "# Prepare the Data on [\"price\"] for the analysis\n",
        "\n",
        "# 1 Replace non compatible characters\n",
        "price_string = df[\"price\"].str.replace(\"$\", \"\")\n",
        "\n",
        "# 2 Replace the \",\" and convert the string into float\n",
        "price_num = price_string.str.replace(',', '').astype(float)\n",
        "\n",
        "# 3 Substitute columns or create a new one\n",
        "df[\"price\"] = price_num"
      ],
      "execution_count": null,
      "outputs": []
    },
    {
      "cell_type": "code",
      "metadata": {
        "id": "n7yHPrFAmP86",
        "colab": {
          "base_uri": "https://localhost:8080/"
        },
        "outputId": "49615923-dd5a-4db0-bc4e-b0479606790f"
      },
      "source": [
        "type(df[\"review_count\"][0])"
      ],
      "execution_count": null,
      "outputs": [
        {
          "output_type": "execute_result",
          "data": {
            "text/plain": [
              "str"
            ]
          },
          "metadata": {
            "tags": []
          },
          "execution_count": 13
        }
      ]
    },
    {
      "cell_type": "code",
      "metadata": {
        "id": "uHyCdcC_mP87"
      },
      "source": [
        "# Prepare the Data on [\"review_count\"] for the analysis\n",
        "\n",
        "# 1 Replace the \",\" and convert the string into float\n",
        "review_count_num = df.review_count.str.replace(',', '').astype(float)\n",
        "\n",
        "# 2 Substitute columns or create a new one\n",
        "df[\"review_count\"] = review_count_num"
      ],
      "execution_count": null,
      "outputs": []
    },
    {
      "cell_type": "markdown",
      "metadata": {
        "id": "BD1CCICLm-Pl"
      },
      "source": [
        "# Sponsored products\n",
        "We consider that all the products that are duplicated are sponsored products\n",
        "\n",
        "0 = not sponsored\n",
        "1 = sponsored"
      ]
    },
    {
      "cell_type": "code",
      "metadata": {
        "id": "SQWZF89KmP88"
      },
      "source": [
        "# Create a new column \"sponsored\" with the duplicate products\n",
        "df['sponsored'] = df['title'].duplicated(keep=False).astype(int).astype(str)\n"
      ],
      "execution_count": null,
      "outputs": []
    },
    {
      "cell_type": "code",
      "metadata": {
        "id": "0rQDTLJamP88",
        "colab": {
          "base_uri": "https://localhost:8080/",
          "height": 402
        },
        "outputId": "6d8577d8-edf2-4b12-f9e0-39fa7bb1cd22"
      },
      "source": [
        "df"
      ],
      "execution_count": null,
      "outputs": [
        {
          "output_type": "execute_result",
          "data": {
            "text/html": [
              "<div>\n",
              "<style scoped>\n",
              "    .dataframe tbody tr th:only-of-type {\n",
              "        vertical-align: middle;\n",
              "    }\n",
              "\n",
              "    .dataframe tbody tr th {\n",
              "        vertical-align: top;\n",
              "    }\n",
              "\n",
              "    .dataframe thead th {\n",
              "        text-align: right;\n",
              "    }\n",
              "</style>\n",
              "<table border=\"1\" class=\"dataframe\">\n",
              "  <thead>\n",
              "    <tr style=\"text-align: right;\">\n",
              "      <th></th>\n",
              "      <th>title</th>\n",
              "      <th>url</th>\n",
              "      <th>rating</th>\n",
              "      <th>review_count</th>\n",
              "      <th>price</th>\n",
              "      <th>ASIN</th>\n",
              "      <th>product_type</th>\n",
              "      <th>sponsored</th>\n",
              "    </tr>\n",
              "  </thead>\n",
              "  <tbody>\n",
              "    <tr>\n",
              "      <th>0</th>\n",
              "      <td>Mouse Pad - Oriental Carpet Woven Fabric Mouse...</td>\n",
              "      <td>https://www.amazon.com/Mouse-Pad-Oriental-Mous...</td>\n",
              "      <td>4.4</td>\n",
              "      <td>2.0</td>\n",
              "      <td>18.95</td>\n",
              "      <td>1578507596</td>\n",
              "      <td>Mouse</td>\n",
              "      <td>1</td>\n",
              "    </tr>\n",
              "    <tr>\n",
              "      <th>1</th>\n",
              "      <td>Mouse Pad - Oriental Carpet Woven Fabric Mouse...</td>\n",
              "      <td>https://www.amazon.com/Mouse-Pad-Oriental-Mous...</td>\n",
              "      <td>4.4</td>\n",
              "      <td>2.0</td>\n",
              "      <td>18.95</td>\n",
              "      <td>1578507596</td>\n",
              "      <td>Mouse</td>\n",
              "      <td>1</td>\n",
              "    </tr>\n",
              "    <tr>\n",
              "      <th>2</th>\n",
              "      <td>Oriental Carpet Mouse Pad - Authentic Woven Ca...</td>\n",
              "      <td>https://www.amazon.com/Oriental-Carpet-Mousepa...</td>\n",
              "      <td>4.9</td>\n",
              "      <td>25.0</td>\n",
              "      <td>19.95</td>\n",
              "      <td>157850550X</td>\n",
              "      <td>Mouse</td>\n",
              "      <td>0</td>\n",
              "    </tr>\n",
              "    <tr>\n",
              "      <th>3</th>\n",
              "      <td>Belkin WaveRest Gel Mouse Pad, Black (F8E262-BLK)</td>\n",
              "      <td>https://www.amazon.com/Belkin-WaveRest-Mouse-B...</td>\n",
              "      <td>4.6</td>\n",
              "      <td>18052.0</td>\n",
              "      <td>8.00</td>\n",
              "      <td>B00000JRRD</td>\n",
              "      <td>Mouse</td>\n",
              "      <td>0</td>\n",
              "    </tr>\n",
              "    <tr>\n",
              "      <th>4</th>\n",
              "      <td>Fellowes 58024 Medium Mouse Pad (Black)</td>\n",
              "      <td>https://www.amazon.com/Fellowes-58024-Medium-M...</td>\n",
              "      <td>4.7</td>\n",
              "      <td>7848.0</td>\n",
              "      <td>NaN</td>\n",
              "      <td>B0000365QL</td>\n",
              "      <td>Mouse</td>\n",
              "      <td>0</td>\n",
              "    </tr>\n",
              "    <tr>\n",
              "      <th>...</th>\n",
              "      <td>...</td>\n",
              "      <td>...</td>\n",
              "      <td>...</td>\n",
              "      <td>...</td>\n",
              "      <td>...</td>\n",
              "      <td>...</td>\n",
              "      <td>...</td>\n",
              "      <td>...</td>\n",
              "    </tr>\n",
              "    <tr>\n",
              "      <th>7475</th>\n",
              "      <td>RAPOO N100 Wired Mouse – Corded USB Mouse for ...</td>\n",
              "      <td>https://www.amazon.com/gp/slredirect/picassoRe...</td>\n",
              "      <td>4.2</td>\n",
              "      <td>26.0</td>\n",
              "      <td>6.99</td>\n",
              "      <td>B07WJYSHFF</td>\n",
              "      <td>Mouse</td>\n",
              "      <td>1</td>\n",
              "    </tr>\n",
              "    <tr>\n",
              "      <th>7476</th>\n",
              "      <td>RAPOO N100 Wired Mouse – Corded USB Mouse for ...</td>\n",
              "      <td>https://www.amazon.com/gp/slredirect/picassoRe...</td>\n",
              "      <td>4.2</td>\n",
              "      <td>26.0</td>\n",
              "      <td>6.99</td>\n",
              "      <td>B07WJYSHFF</td>\n",
              "      <td>Mouse</td>\n",
              "      <td>1</td>\n",
              "    </tr>\n",
              "    <tr>\n",
              "      <th>7477</th>\n",
              "      <td>RAPOO N100 Wired Mouse – Corded USB Mouse for ...</td>\n",
              "      <td>https://www.amazon.com/gp/slredirect/picassoRe...</td>\n",
              "      <td>4.2</td>\n",
              "      <td>26.0</td>\n",
              "      <td>6.99</td>\n",
              "      <td>B07WJYSHFF</td>\n",
              "      <td>Mouse</td>\n",
              "      <td>1</td>\n",
              "    </tr>\n",
              "    <tr>\n",
              "      <th>7478</th>\n",
              "      <td>RAPOO N100 Wired Mouse – Corded USB Mouse for ...</td>\n",
              "      <td>https://www.amazon.com/gp/slredirect/picassoRe...</td>\n",
              "      <td>4.2</td>\n",
              "      <td>26.0</td>\n",
              "      <td>6.99</td>\n",
              "      <td>B07WJYSHFF</td>\n",
              "      <td>Mouse</td>\n",
              "      <td>1</td>\n",
              "    </tr>\n",
              "    <tr>\n",
              "      <th>7479</th>\n",
              "      <td>RAPOO N100 Wired Mouse – Corded USB Mouse for ...</td>\n",
              "      <td>https://www.amazon.com/gp/slredirect/picassoRe...</td>\n",
              "      <td>4.2</td>\n",
              "      <td>26.0</td>\n",
              "      <td>6.99</td>\n",
              "      <td>B07WJYSHFF</td>\n",
              "      <td>Mouse</td>\n",
              "      <td>1</td>\n",
              "    </tr>\n",
              "  </tbody>\n",
              "</table>\n",
              "<p>7480 rows × 8 columns</p>\n",
              "</div>"
            ],
            "text/plain": [
              "                                                  title  ... sponsored\n",
              "0     Mouse Pad - Oriental Carpet Woven Fabric Mouse...  ...         1\n",
              "1     Mouse Pad - Oriental Carpet Woven Fabric Mouse...  ...         1\n",
              "2     Oriental Carpet Mouse Pad - Authentic Woven Ca...  ...         0\n",
              "3     Belkin WaveRest Gel Mouse Pad, Black (F8E262-BLK)  ...         0\n",
              "4               Fellowes 58024 Medium Mouse Pad (Black)  ...         0\n",
              "...                                                 ...  ...       ...\n",
              "7475  RAPOO N100 Wired Mouse – Corded USB Mouse for ...  ...         1\n",
              "7476  RAPOO N100 Wired Mouse – Corded USB Mouse for ...  ...         1\n",
              "7477  RAPOO N100 Wired Mouse – Corded USB Mouse for ...  ...         1\n",
              "7478  RAPOO N100 Wired Mouse – Corded USB Mouse for ...  ...         1\n",
              "7479  RAPOO N100 Wired Mouse – Corded USB Mouse for ...  ...         1\n",
              "\n",
              "[7480 rows x 8 columns]"
            ]
          },
          "metadata": {
            "tags": []
          },
          "execution_count": 16
        }
      ]
    },
    {
      "cell_type": "markdown",
      "metadata": {
        "id": "y0tlejVNnI85"
      },
      "source": [
        "## Change order on the columns"
      ]
    },
    {
      "cell_type": "code",
      "metadata": {
        "id": "s2y5lZXkmP88",
        "colab": {
          "base_uri": "https://localhost:8080/"
        },
        "outputId": "fd6fcbf2-0860-4613-8deb-6cd3f85815d0"
      },
      "source": [
        "# print the columns as a list \n",
        "cols = list(df.columns.values)\n",
        "cols"
      ],
      "execution_count": null,
      "outputs": [
        {
          "output_type": "execute_result",
          "data": {
            "text/plain": [
              "['title',\n",
              " 'url',\n",
              " 'rating',\n",
              " 'review_count',\n",
              " 'price',\n",
              " 'ASIN',\n",
              " 'product_type',\n",
              " 'sponsored']"
            ]
          },
          "metadata": {
            "tags": []
          },
          "execution_count": 17
        }
      ]
    },
    {
      "cell_type": "code",
      "metadata": {
        "id": "nvSS2ri8mP89"
      },
      "source": [
        "# Drop unnecesary colummns - url\n",
        "df = df.drop(columns=['url'])"
      ],
      "execution_count": null,
      "outputs": []
    },
    {
      "cell_type": "code",
      "metadata": {
        "id": "qd593EZjmP89"
      },
      "source": [
        "# Rearrange colummns order\n",
        "df = df[['ASIN', 'title', 'price', 'rating', 'review_count','product_type', 'sponsored' ]]\n"
      ],
      "execution_count": null,
      "outputs": []
    },
    {
      "cell_type": "code",
      "metadata": {
        "id": "I1k0cwplmP89",
        "colab": {
          "base_uri": "https://localhost:8080/",
          "height": 402
        },
        "outputId": "a7822b14-3232-43d7-c826-06500dc2d187"
      },
      "source": [
        "df"
      ],
      "execution_count": null,
      "outputs": [
        {
          "output_type": "execute_result",
          "data": {
            "text/html": [
              "<div>\n",
              "<style scoped>\n",
              "    .dataframe tbody tr th:only-of-type {\n",
              "        vertical-align: middle;\n",
              "    }\n",
              "\n",
              "    .dataframe tbody tr th {\n",
              "        vertical-align: top;\n",
              "    }\n",
              "\n",
              "    .dataframe thead th {\n",
              "        text-align: right;\n",
              "    }\n",
              "</style>\n",
              "<table border=\"1\" class=\"dataframe\">\n",
              "  <thead>\n",
              "    <tr style=\"text-align: right;\">\n",
              "      <th></th>\n",
              "      <th>ASIN</th>\n",
              "      <th>title</th>\n",
              "      <th>price</th>\n",
              "      <th>rating</th>\n",
              "      <th>review_count</th>\n",
              "      <th>product_type</th>\n",
              "      <th>sponsored</th>\n",
              "    </tr>\n",
              "  </thead>\n",
              "  <tbody>\n",
              "    <tr>\n",
              "      <th>0</th>\n",
              "      <td>1578507596</td>\n",
              "      <td>Mouse Pad - Oriental Carpet Woven Fabric Mouse...</td>\n",
              "      <td>18.95</td>\n",
              "      <td>4.4</td>\n",
              "      <td>2.0</td>\n",
              "      <td>Mouse</td>\n",
              "      <td>1</td>\n",
              "    </tr>\n",
              "    <tr>\n",
              "      <th>1</th>\n",
              "      <td>1578507596</td>\n",
              "      <td>Mouse Pad - Oriental Carpet Woven Fabric Mouse...</td>\n",
              "      <td>18.95</td>\n",
              "      <td>4.4</td>\n",
              "      <td>2.0</td>\n",
              "      <td>Mouse</td>\n",
              "      <td>1</td>\n",
              "    </tr>\n",
              "    <tr>\n",
              "      <th>2</th>\n",
              "      <td>157850550X</td>\n",
              "      <td>Oriental Carpet Mouse Pad - Authentic Woven Ca...</td>\n",
              "      <td>19.95</td>\n",
              "      <td>4.9</td>\n",
              "      <td>25.0</td>\n",
              "      <td>Mouse</td>\n",
              "      <td>0</td>\n",
              "    </tr>\n",
              "    <tr>\n",
              "      <th>3</th>\n",
              "      <td>B00000JRRD</td>\n",
              "      <td>Belkin WaveRest Gel Mouse Pad, Black (F8E262-BLK)</td>\n",
              "      <td>8.00</td>\n",
              "      <td>4.6</td>\n",
              "      <td>18052.0</td>\n",
              "      <td>Mouse</td>\n",
              "      <td>0</td>\n",
              "    </tr>\n",
              "    <tr>\n",
              "      <th>4</th>\n",
              "      <td>B0000365QL</td>\n",
              "      <td>Fellowes 58024 Medium Mouse Pad (Black)</td>\n",
              "      <td>NaN</td>\n",
              "      <td>4.7</td>\n",
              "      <td>7848.0</td>\n",
              "      <td>Mouse</td>\n",
              "      <td>0</td>\n",
              "    </tr>\n",
              "    <tr>\n",
              "      <th>...</th>\n",
              "      <td>...</td>\n",
              "      <td>...</td>\n",
              "      <td>...</td>\n",
              "      <td>...</td>\n",
              "      <td>...</td>\n",
              "      <td>...</td>\n",
              "      <td>...</td>\n",
              "    </tr>\n",
              "    <tr>\n",
              "      <th>7475</th>\n",
              "      <td>B07WJYSHFF</td>\n",
              "      <td>RAPOO N100 Wired Mouse – Corded USB Mouse for ...</td>\n",
              "      <td>6.99</td>\n",
              "      <td>4.2</td>\n",
              "      <td>26.0</td>\n",
              "      <td>Mouse</td>\n",
              "      <td>1</td>\n",
              "    </tr>\n",
              "    <tr>\n",
              "      <th>7476</th>\n",
              "      <td>B07WJYSHFF</td>\n",
              "      <td>RAPOO N100 Wired Mouse – Corded USB Mouse for ...</td>\n",
              "      <td>6.99</td>\n",
              "      <td>4.2</td>\n",
              "      <td>26.0</td>\n",
              "      <td>Mouse</td>\n",
              "      <td>1</td>\n",
              "    </tr>\n",
              "    <tr>\n",
              "      <th>7477</th>\n",
              "      <td>B07WJYSHFF</td>\n",
              "      <td>RAPOO N100 Wired Mouse – Corded USB Mouse for ...</td>\n",
              "      <td>6.99</td>\n",
              "      <td>4.2</td>\n",
              "      <td>26.0</td>\n",
              "      <td>Mouse</td>\n",
              "      <td>1</td>\n",
              "    </tr>\n",
              "    <tr>\n",
              "      <th>7478</th>\n",
              "      <td>B07WJYSHFF</td>\n",
              "      <td>RAPOO N100 Wired Mouse – Corded USB Mouse for ...</td>\n",
              "      <td>6.99</td>\n",
              "      <td>4.2</td>\n",
              "      <td>26.0</td>\n",
              "      <td>Mouse</td>\n",
              "      <td>1</td>\n",
              "    </tr>\n",
              "    <tr>\n",
              "      <th>7479</th>\n",
              "      <td>B07WJYSHFF</td>\n",
              "      <td>RAPOO N100 Wired Mouse – Corded USB Mouse for ...</td>\n",
              "      <td>6.99</td>\n",
              "      <td>4.2</td>\n",
              "      <td>26.0</td>\n",
              "      <td>Mouse</td>\n",
              "      <td>1</td>\n",
              "    </tr>\n",
              "  </tbody>\n",
              "</table>\n",
              "<p>7480 rows × 7 columns</p>\n",
              "</div>"
            ],
            "text/plain": [
              "            ASIN  ... sponsored\n",
              "0     1578507596  ...         1\n",
              "1     1578507596  ...         1\n",
              "2     157850550X  ...         0\n",
              "3     B00000JRRD  ...         0\n",
              "4     B0000365QL  ...         0\n",
              "...          ...  ...       ...\n",
              "7475  B07WJYSHFF  ...         1\n",
              "7476  B07WJYSHFF  ...         1\n",
              "7477  B07WJYSHFF  ...         1\n",
              "7478  B07WJYSHFF  ...         1\n",
              "7479  B07WJYSHFF  ...         1\n",
              "\n",
              "[7480 rows x 7 columns]"
            ]
          },
          "metadata": {
            "tags": []
          },
          "execution_count": 20
        }
      ]
    },
    {
      "cell_type": "code",
      "metadata": {
        "id": "bPA8pDKLmP89",
        "colab": {
          "base_uri": "https://localhost:8080/"
        },
        "outputId": "b7638e52-44f4-4b3a-eddd-e397a560e0fd"
      },
      "source": [
        "df.info()"
      ],
      "execution_count": null,
      "outputs": [
        {
          "output_type": "stream",
          "text": [
            "<class 'pandas.core.frame.DataFrame'>\n",
            "RangeIndex: 7480 entries, 0 to 7479\n",
            "Data columns (total 7 columns):\n",
            " #   Column        Non-Null Count  Dtype  \n",
            "---  ------        --------------  -----  \n",
            " 0   ASIN          7480 non-null   object \n",
            " 1   title         7480 non-null   object \n",
            " 2   price         6980 non-null   float64\n",
            " 3   rating        6970 non-null   float64\n",
            " 4   review_count  6970 non-null   float64\n",
            " 5   product_type  7480 non-null   object \n",
            " 6   sponsored     7480 non-null   object \n",
            "dtypes: float64(3), object(4)\n",
            "memory usage: 409.2+ KB\n"
          ],
          "name": "stdout"
        }
      ]
    },
    {
      "cell_type": "markdown",
      "metadata": {
        "id": "pf51UVO_q3Rz"
      },
      "source": [
        "## Export as csv"
      ]
    },
    {
      "cell_type": "code",
      "metadata": {
        "id": "P8ZH3Z_qmP8-"
      },
      "source": [
        "# Export as an csv\n",
        "df.to_csv('mouse_summary.csv', index=False)"
      ],
      "execution_count": null,
      "outputs": []
    }
  ]
}