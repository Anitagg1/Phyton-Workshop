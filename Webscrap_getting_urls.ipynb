{
  "nbformat": 4,
  "nbformat_minor": 0,
  "metadata": {
    "colab": {
      "name": "Webscrap_getting_urls.ipynb",
      "provenance": [],
      "authorship_tag": "ABX9TyNnGRAU/TRxBq2ED9GpIXUc",
      "include_colab_link": true
    },
    "kernelspec": {
      "name": "python3",
      "display_name": "Python 3"
    },
    "language_info": {
      "name": "python"
    }
  },
  "cells": [
    {
      "cell_type": "markdown",
      "metadata": {
        "id": "view-in-github",
        "colab_type": "text"
      },
      "source": [
        "<a href=\"https://colab.research.google.com/github/Anitagg1/Phyton-Workshop/blob/main/Webscrap_getting_urls.ipynb\" target=\"_parent\"><img src=\"https://colab.research.google.com/assets/colab-badge.svg\" alt=\"Open In Colab\"/></a>"
      ]
    },
    {
      "cell_type": "code",
      "metadata": {
        "colab": {
          "base_uri": "https://localhost:8080/"
        },
        "id": "iw_TtqtrkBTY",
        "outputId": "6aefa2e4-57f8-43f5-ae79-6353b3758f91"
      },
      "source": [
        "from google.colab import drive\n",
        "drive.mount('/content/drive')\n"
      ],
      "execution_count": 1,
      "outputs": [
        {
          "output_type": "stream",
          "text": [
            "Mounted at /content/drive\n"
          ],
          "name": "stdout"
        }
      ]
    },
    {
      "cell_type": "code",
      "metadata": {
        "id": "3FIqoPX2kJRI"
      },
      "source": [
        "f = open('/content/drive/My Drive/Colab Notebooks/Ecommerce/search_urls_headphones.txt', 'w+')\n",
        "url = 'https://www.amazon.de/s?k=Headphones&i=electronics&ref=nb_sb_noss'\n",
        "f.write(url)\n",
        "f.write('\\n')\n",
        "\n",
        "\n",
        "for i in range(2,51):\n",
        "    url = 'https://www.amazon.de/-/en/s?k=Headphones&i=electronics&page=' + str(i) + '&qid=1617123650&ref=sr_pg_' + str(i)\n",
        "    f.write(url)\n",
        "    f.write('\\n')\n",
        "\n",
        "f.close()"
      ],
      "execution_count": 9,
      "outputs": []
    },
    {
      "cell_type": "markdown",
      "metadata": {
        "id": "yZMvY5sDFyYT"
      },
      "source": [
        ""
      ]
    },
    {
      "cell_type": "code",
      "metadata": {
        "id": "o1TEA_i1l8ty"
      },
      "source": [
        ""
      ],
      "execution_count": null,
      "outputs": []
    }
  ]
}